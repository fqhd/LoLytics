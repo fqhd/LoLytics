{
 "cells": [
  {
   "cell_type": "code",
   "execution_count": 1,
   "id": "945692de",
   "metadata": {},
   "outputs": [
    {
     "name": "stdout",
     "output_type": "stream",
     "text": [
      "[]\n"
     ]
    }
   ],
   "source": [
    "import tensorflow as tf\n",
    "import matplotlib.pyplot as plt\n",
    "import numpy as np\n",
    "import pandas as pd\n",
    "from tensorflow import keras\n",
    "from tensorflow.keras import layers\n",
    "from tensorflow.keras import optimizers\n",
    "from tensorflow.keras import losses\n",
    "import tensorflowjs as tfjs\n",
    "import os\n",
    "os.environ['CUDA_VISIBLE_DEVICES'] = '-1'\n",
    "print(tf.config.list_physical_devices('GPU'))"
   ]
  },
  {
   "cell_type": "code",
   "execution_count": 9,
   "id": "0397f3eb",
   "metadata": {},
   "outputs": [],
   "source": [
    "# Constants\n",
    "BATCH_SIZE = 32\n",
    "LR = 1e-4"
   ]
  },
  {
   "cell_type": "code",
   "execution_count": 10,
   "id": "047bc5a9",
   "metadata": {},
   "outputs": [],
   "source": [
    "df = pd.read_csv('champions.csv')\n",
    "def get_champ_vec(champ_name):\n",
    "    arr = []\n",
    "    row = df.loc[df['Champion'] == champ_name].iloc[0]\n",
    "    for i in range(1, 16):\n",
    "        if i == 7:\n",
    "            if row[i] == 1:\n",
    "                arr.append(1)\n",
    "                arr.append(0)\n",
    "                arr.append(0)\n",
    "            elif row[i] == 2:\n",
    "                arr.append(0)\n",
    "                arr.append(1)\n",
    "                arr.append(0)\n",
    "            elif row[i] == 3:\n",
    "                arr.append(0)\n",
    "                arr.append(0)\n",
    "                arr.append(1)\n",
    "        else:\n",
    "            arr.append(row[i] / 10)\n",
    "    return arr"
   ]
  },
  {
   "cell_type": "code",
   "execution_count": 11,
   "id": "d2e786ca",
   "metadata": {},
   "outputs": [],
   "source": [
    "import random\n",
    "def process_match(match):\n",
    "    champs = match.split(',')\n",
    "    vec = []\n",
    "    \"\"\"\n",
    "    for i in range(10):\n",
    "        champ_vec = get_champ_vec(champs[i])\n",
    "        for e in champ_vec:\n",
    "            vec.append(e)\n",
    "    if champs[10] == 'true':\n",
    "        vec.append(1)\n",
    "    else:\n",
    "        vec.append(0)\n",
    "    \"\"\"\n",
    "    for i in range(170):\n",
    "        vec.append(random.uniform(0, 1))\n",
    "    vec.append(random.randint(0, 1))\n",
    "    return vec"
   ]
  },
  {
   "cell_type": "code",
   "execution_count": 12,
   "id": "da587725",
   "metadata": {},
   "outputs": [],
   "source": [
    "def process_ds_element(x):\n",
    "    return (tf.cast(x[:-1], 'float32'), tf.cast(x[-1], 'int32'))"
   ]
  },
  {
   "cell_type": "code",
   "execution_count": 13,
   "id": "90f93e69",
   "metadata": {},
   "outputs": [],
   "source": [
    "def get_dataset(num_games):\n",
    "    tmp = []\n",
    "    with open('data/matches/diamond_training_data.txt', 'r') as f:\n",
    "        matches = f.read().split('\\n')\n",
    "        num_games = min(len(matches), num_games)\n",
    "        for i in range(num_games):\n",
    "            try:\n",
    "                tmp.append(process_match(matches[i]))\n",
    "            except:\n",
    "                num_games -= 1\n",
    "    ds = tf.data.Dataset.from_tensor_slices(tmp)\n",
    "    ds = ds.map(process_ds_element)\n",
    "    ds = ds.cache()\n",
    "    ds = ds.shuffle(num_games)\n",
    "    ds = ds.batch(BATCH_SIZE)\n",
    "    ds = ds.prefetch(tf.data.AUTOTUNE)\n",
    "    print(f'Using {num_games} matches for training')\n",
    "    return ds"
   ]
  },
  {
   "cell_type": "code",
   "execution_count": 14,
   "id": "23a73ecc",
   "metadata": {},
   "outputs": [
    {
     "name": "stdout",
     "output_type": "stream",
     "text": [
      "Using 10000 matches for training\n"
     ]
    }
   ],
   "source": [
    "ds = get_dataset(10000)"
   ]
  },
  {
   "cell_type": "code",
   "execution_count": 15,
   "id": "cab9bfdd",
   "metadata": {},
   "outputs": [
    {
     "name": "stdout",
     "output_type": "stream",
     "text": [
      "250 31 32\n"
     ]
    }
   ],
   "source": [
    "# Partition Dataset\n",
    "train_size = int(len(ds)*0.8)\n",
    "val_size = int(len(ds)*0.1)\n",
    "test_size = len(ds) - (train_size + val_size)\n",
    "\n",
    "train = ds.take(train_size)\n",
    "val = ds.skip(train_size).take(val_size)\n",
    "test = ds.skip(train_size+val_size).take(test_size)\n",
    "print(train_size, val_size, test_size)"
   ]
  },
  {
   "cell_type": "code",
   "execution_count": 25,
   "id": "2e5036b9",
   "metadata": {},
   "outputs": [
    {
     "data": {
      "text/plain": [
       "(<tf.Tensor: shape=(32, 170), dtype=float32, numpy=\n",
       " array([[0.48481777, 0.06475297, 0.13296062, ..., 0.33690092, 0.98028845,\n",
       "         0.29094636],\n",
       "        [0.8327008 , 0.812672  , 0.44914752, ..., 0.13275152, 0.9301763 ,\n",
       "         0.86867577],\n",
       "        [0.11457548, 0.7263458 , 0.11237033, ..., 0.513214  , 0.37725928,\n",
       "         0.4854232 ],\n",
       "        ...,\n",
       "        [0.60180193, 0.4227762 , 0.2607784 , ..., 0.25652367, 0.968272  ,\n",
       "         0.84301394],\n",
       "        [0.02940591, 0.915048  , 0.30632904, ..., 0.6383006 , 0.1340076 ,\n",
       "         0.6714533 ],\n",
       "        [0.8479787 , 0.11607523, 0.74029547, ..., 0.4881092 , 0.20330054,\n",
       "         0.08081371]], dtype=float32)>,\n",
       " <tf.Tensor: shape=(32,), dtype=int32, numpy=\n",
       " array([1, 1, 1, 0, 1, 0, 0, 0, 1, 0, 0, 1, 0, 0, 1, 0, 0, 0, 0, 0, 0, 0,\n",
       "        0, 0, 1, 1, 1, 1, 0, 1, 1, 0])>)"
      ]
     },
     "execution_count": 25,
     "metadata": {},
     "output_type": "execute_result"
    }
   ],
   "source": [
    "example = next(iter(train))\n",
    "example"
   ]
  },
  {
   "cell_type": "code",
   "execution_count": 20,
   "id": "a19b79f9",
   "metadata": {},
   "outputs": [],
   "source": [
    "def create_model():\n",
    "    model = keras.Sequential()\n",
    "    model.add(layers.Dense(128, activation='sigmoid', input_dim=170))\n",
    "    model.add(layers.Dense(128, activation='sigmoid', input_dim=170))\n",
    "    model.add(layers.Dense(128, activation='sigmoid', input_dim=170))\n",
    "    return model"
   ]
  },
  {
   "cell_type": "code",
   "execution_count": 21,
   "id": "690fbae5",
   "metadata": {},
   "outputs": [],
   "source": [
    "model = create_model()"
   ]
  },
  {
   "cell_type": "code",
   "execution_count": 22,
   "id": "67e1953a",
   "metadata": {},
   "outputs": [
    {
     "name": "stdout",
     "output_type": "stream",
     "text": [
      "Model: \"sequential_1\"\n",
      "_________________________________________________________________\n",
      " Layer (type)                Output Shape              Param #   \n",
      "=================================================================\n",
      " dense_2 (Dense)             (None, 1)                 171       \n",
      "                                                                 \n",
      "=================================================================\n",
      "Total params: 171\n",
      "Trainable params: 171\n",
      "Non-trainable params: 0\n",
      "_________________________________________________________________\n"
     ]
    }
   ],
   "source": [
    "model.summary()"
   ]
  },
  {
   "cell_type": "code",
   "execution_count": 23,
   "id": "b5cf7424",
   "metadata": {},
   "outputs": [],
   "source": [
    "loss = losses.BinaryCrossentropy(from_logits=True)\n",
    "optimizer = optimizers.Adam(learning_rate=LR)\n",
    "model.compile(loss=loss, optimizer=optimizer, metrics=[tf.metrics.BinaryAccuracy(threshold=0.5)])"
   ]
  },
  {
   "cell_type": "code",
   "execution_count": 26,
   "id": "daff853a",
   "metadata": {
    "scrolled": true
   },
   "outputs": [
    {
     "name": "stdout",
     "output_type": "stream",
     "text": [
      "Epoch 1/100\n",
      "125/125 [==============================] - 0s 750us/step - loss: 0.6902 - binary_accuracy: 0.5075 - val_loss: 0.6902 - val_binary_accuracy: 0.5052\n",
      "Epoch 2/100\n",
      "125/125 [==============================] - 0s 726us/step - loss: 0.6906 - binary_accuracy: 0.5098 - val_loss: 0.6957 - val_binary_accuracy: 0.5521\n",
      "Epoch 3/100\n",
      "125/125 [==============================] - 0s 726us/step - loss: 0.6905 - binary_accuracy: 0.5071 - val_loss: 0.6961 - val_binary_accuracy: 0.4865\n",
      "Epoch 4/100\n",
      "125/125 [==============================] - 0s 726us/step - loss: 0.6909 - binary_accuracy: 0.5055 - val_loss: 0.6883 - val_binary_accuracy: 0.5083\n",
      "Epoch 5/100\n",
      "125/125 [==============================] - 0s 742us/step - loss: 0.6899 - binary_accuracy: 0.5055 - val_loss: 0.6885 - val_binary_accuracy: 0.5146\n",
      "Epoch 6/100\n",
      "125/125 [==============================] - 0s 718us/step - loss: 0.6903 - binary_accuracy: 0.5040 - val_loss: 0.6853 - val_binary_accuracy: 0.5146\n",
      "Epoch 7/100\n",
      "125/125 [==============================] - 0s 718us/step - loss: 0.6907 - binary_accuracy: 0.5081 - val_loss: 0.6894 - val_binary_accuracy: 0.5240\n",
      "Epoch 8/100\n",
      "125/125 [==============================] - 0s 726us/step - loss: 0.6894 - binary_accuracy: 0.5044 - val_loss: 0.6873 - val_binary_accuracy: 0.5188\n",
      "Epoch 9/100\n",
      "125/125 [==============================] - 0s 734us/step - loss: 0.6906 - binary_accuracy: 0.5050 - val_loss: 0.6895 - val_binary_accuracy: 0.4865\n",
      "Epoch 10/100\n",
      "125/125 [==============================] - 0s 726us/step - loss: 0.6908 - binary_accuracy: 0.5067 - val_loss: 0.6919 - val_binary_accuracy: 0.4969\n",
      "Epoch 11/100\n",
      "125/125 [==============================] - 0s 742us/step - loss: 0.6897 - binary_accuracy: 0.5065 - val_loss: 0.6899 - val_binary_accuracy: 0.4990\n",
      "Epoch 12/100\n",
      "125/125 [==============================] - 0s 718us/step - loss: 0.6906 - binary_accuracy: 0.5044 - val_loss: 0.6846 - val_binary_accuracy: 0.5198\n",
      "Epoch 13/100\n",
      "125/125 [==============================] - 0s 742us/step - loss: 0.6906 - binary_accuracy: 0.5038 - val_loss: 0.6934 - val_binary_accuracy: 0.5031\n",
      "Epoch 14/100\n",
      "125/125 [==============================] - 0s 734us/step - loss: 0.6903 - binary_accuracy: 0.5075 - val_loss: 0.6924 - val_binary_accuracy: 0.4781\n",
      "Epoch 15/100\n",
      "125/125 [==============================] - 0s 750us/step - loss: 0.6903 - binary_accuracy: 0.5096 - val_loss: 0.6877 - val_binary_accuracy: 0.5073\n",
      "Epoch 16/100\n",
      "125/125 [==============================] - 0s 734us/step - loss: 0.6901 - binary_accuracy: 0.5034 - val_loss: 0.6881 - val_binary_accuracy: 0.5198\n",
      "Epoch 17/100\n",
      "125/125 [==============================] - 0s 726us/step - loss: 0.6891 - binary_accuracy: 0.5049 - val_loss: 0.6874 - val_binary_accuracy: 0.5042\n",
      "Epoch 18/100\n",
      "125/125 [==============================] - 0s 710us/step - loss: 0.6891 - binary_accuracy: 0.5042 - val_loss: 0.6840 - val_binary_accuracy: 0.5188\n",
      "Epoch 19/100\n",
      "125/125 [==============================] - 0s 742us/step - loss: 0.6886 - binary_accuracy: 0.5048 - val_loss: 0.6948 - val_binary_accuracy: 0.5271\n",
      "Epoch 20/100\n",
      "125/125 [==============================] - 0s 742us/step - loss: 0.6897 - binary_accuracy: 0.5049 - val_loss: 0.6906 - val_binary_accuracy: 0.4990\n",
      "Epoch 21/100\n",
      "125/125 [==============================] - 0s 758us/step - loss: 0.6893 - binary_accuracy: 0.5063 - val_loss: 0.6877 - val_binary_accuracy: 0.5073\n",
      "Epoch 22/100\n",
      "125/125 [==============================] - 0s 734us/step - loss: 0.6902 - binary_accuracy: 0.5090 - val_loss: 0.6877 - val_binary_accuracy: 0.5073\n",
      "Epoch 23/100\n",
      "125/125 [==============================] - 0s 734us/step - loss: 0.6889 - binary_accuracy: 0.5110 - val_loss: 0.6898 - val_binary_accuracy: 0.5167\n",
      "Epoch 24/100\n",
      "125/125 [==============================] - 0s 742us/step - loss: 0.6897 - binary_accuracy: 0.5017 - val_loss: 0.6871 - val_binary_accuracy: 0.4906\n",
      "Epoch 25/100\n",
      "125/125 [==============================] - 0s 726us/step - loss: 0.6893 - binary_accuracy: 0.5050 - val_loss: 0.6920 - val_binary_accuracy: 0.5177\n",
      "Epoch 26/100\n",
      "125/125 [==============================] - 0s 702us/step - loss: 0.6888 - binary_accuracy: 0.5049 - val_loss: 0.6903 - val_binary_accuracy: 0.4927\n",
      "Epoch 27/100\n",
      "125/125 [==============================] - 0s 742us/step - loss: 0.6894 - binary_accuracy: 0.5046 - val_loss: 0.6865 - val_binary_accuracy: 0.5052\n",
      "Epoch 28/100\n",
      "125/125 [==============================] - 0s 710us/step - loss: 0.6894 - binary_accuracy: 0.5045 - val_loss: 0.6828 - val_binary_accuracy: 0.4812\n",
      "Epoch 29/100\n",
      "125/125 [==============================] - 0s 726us/step - loss: 0.6891 - binary_accuracy: 0.5049 - val_loss: 0.6930 - val_binary_accuracy: 0.5000\n",
      "Epoch 30/100\n",
      "125/125 [==============================] - 0s 726us/step - loss: 0.6893 - binary_accuracy: 0.5049 - val_loss: 0.6972 - val_binary_accuracy: 0.5156\n",
      "Epoch 31/100\n",
      "125/125 [==============================] - 0s 734us/step - loss: 0.6889 - binary_accuracy: 0.5063 - val_loss: 0.6868 - val_binary_accuracy: 0.4823\n",
      "Epoch 32/100\n",
      "125/125 [==============================] - 0s 726us/step - loss: 0.6890 - binary_accuracy: 0.5056 - val_loss: 0.6894 - val_binary_accuracy: 0.5125\n",
      "Epoch 33/100\n",
      "125/125 [==============================] - 0s 718us/step - loss: 0.6891 - binary_accuracy: 0.5071 - val_loss: 0.6865 - val_binary_accuracy: 0.5240\n",
      "Epoch 34/100\n",
      "125/125 [==============================] - 0s 726us/step - loss: 0.6887 - binary_accuracy: 0.5088 - val_loss: 0.6843 - val_binary_accuracy: 0.5167\n",
      "Epoch 35/100\n",
      "125/125 [==============================] - 0s 737us/step - loss: 0.6886 - binary_accuracy: 0.5019 - val_loss: 0.6928 - val_binary_accuracy: 0.5104\n",
      "Epoch 36/100\n",
      "125/125 [==============================] - 0s 718us/step - loss: 0.6889 - binary_accuracy: 0.5067 - val_loss: 0.6933 - val_binary_accuracy: 0.5167\n",
      "Epoch 37/100\n",
      "125/125 [==============================] - 0s 710us/step - loss: 0.6890 - binary_accuracy: 0.5077 - val_loss: 0.6918 - val_binary_accuracy: 0.5219\n",
      "Epoch 38/100\n",
      "125/125 [==============================] - 0s 734us/step - loss: 0.6890 - binary_accuracy: 0.5090 - val_loss: 0.6908 - val_binary_accuracy: 0.5052\n",
      "Epoch 39/100\n",
      "125/125 [==============================] - 0s 718us/step - loss: 0.6891 - binary_accuracy: 0.5011 - val_loss: 0.6898 - val_binary_accuracy: 0.4875\n",
      "Epoch 40/100\n",
      "125/125 [==============================] - 0s 742us/step - loss: 0.6884 - binary_accuracy: 0.5052 - val_loss: 0.6841 - val_binary_accuracy: 0.5094\n",
      "Epoch 41/100\n",
      "125/125 [==============================] - 0s 750us/step - loss: 0.6879 - binary_accuracy: 0.5081 - val_loss: 0.6878 - val_binary_accuracy: 0.5052\n",
      "Epoch 42/100\n",
      "125/125 [==============================] - 0s 742us/step - loss: 0.6878 - binary_accuracy: 0.5054 - val_loss: 0.6960 - val_binary_accuracy: 0.5052\n",
      "Epoch 43/100\n",
      "125/125 [==============================] - 0s 758us/step - loss: 0.6880 - binary_accuracy: 0.5082 - val_loss: 0.6834 - val_binary_accuracy: 0.5396\n",
      "Epoch 44/100\n",
      "125/125 [==============================] - 0s 742us/step - loss: 0.6889 - binary_accuracy: 0.5071 - val_loss: 0.6864 - val_binary_accuracy: 0.5052\n",
      "Epoch 45/100\n",
      "125/125 [==============================] - 0s 718us/step - loss: 0.6883 - binary_accuracy: 0.5060 - val_loss: 0.6857 - val_binary_accuracy: 0.5146\n",
      "Epoch 46/100\n",
      "125/125 [==============================] - 0s 726us/step - loss: 0.6888 - binary_accuracy: 0.5052 - val_loss: 0.6979 - val_binary_accuracy: 0.5135\n",
      "Epoch 47/100\n",
      "125/125 [==============================] - 0s 718us/step - loss: 0.6884 - binary_accuracy: 0.5058 - val_loss: 0.6906 - val_binary_accuracy: 0.5135\n",
      "Epoch 48/100\n",
      "125/125 [==============================] - 0s 718us/step - loss: 0.6886 - binary_accuracy: 0.5063 - val_loss: 0.6925 - val_binary_accuracy: 0.5156\n",
      "Epoch 49/100\n",
      "125/125 [==============================] - 0s 721us/step - loss: 0.6881 - binary_accuracy: 0.5076 - val_loss: 0.6882 - val_binary_accuracy: 0.4833\n",
      "Epoch 50/100\n",
      "125/125 [==============================] - 0s 734us/step - loss: 0.6885 - binary_accuracy: 0.5100 - val_loss: 0.6857 - val_binary_accuracy: 0.5198\n",
      "Epoch 51/100\n",
      "125/125 [==============================] - 0s 722us/step - loss: 0.6880 - binary_accuracy: 0.5071 - val_loss: 0.6893 - val_binary_accuracy: 0.5250\n",
      "Epoch 52/100\n",
      "125/125 [==============================] - 0s 718us/step - loss: 0.6891 - binary_accuracy: 0.5051 - val_loss: 0.6905 - val_binary_accuracy: 0.5198\n",
      "Epoch 53/100\n",
      "125/125 [==============================] - 0s 718us/step - loss: 0.6881 - binary_accuracy: 0.5070 - val_loss: 0.6867 - val_binary_accuracy: 0.4844\n",
      "Epoch 54/100\n",
      "125/125 [==============================] - 0s 710us/step - loss: 0.6885 - binary_accuracy: 0.5050 - val_loss: 0.6914 - val_binary_accuracy: 0.4948\n",
      "Epoch 55/100\n",
      "125/125 [==============================] - 0s 710us/step - loss: 0.6881 - binary_accuracy: 0.5045 - val_loss: 0.6914 - val_binary_accuracy: 0.5083\n",
      "Epoch 56/100\n",
      "125/125 [==============================] - 0s 726us/step - loss: 0.6885 - binary_accuracy: 0.5064 - val_loss: 0.6869 - val_binary_accuracy: 0.4906\n",
      "Epoch 57/100\n",
      "125/125 [==============================] - 0s 726us/step - loss: 0.6876 - binary_accuracy: 0.5091 - val_loss: 0.6879 - val_binary_accuracy: 0.5125\n",
      "Epoch 58/100\n",
      "125/125 [==============================] - 0s 710us/step - loss: 0.6876 - binary_accuracy: 0.5056 - val_loss: 0.6811 - val_binary_accuracy: 0.5094\n",
      "Epoch 59/100\n",
      "125/125 [==============================] - 0s 726us/step - loss: 0.6883 - binary_accuracy: 0.5080 - val_loss: 0.6906 - val_binary_accuracy: 0.5188\n",
      "Epoch 60/100\n",
      "125/125 [==============================] - 0s 702us/step - loss: 0.6882 - binary_accuracy: 0.5055 - val_loss: 0.6897 - val_binary_accuracy: 0.5063\n",
      "Epoch 61/100\n",
      "125/125 [==============================] - 0s 710us/step - loss: 0.6881 - binary_accuracy: 0.5088 - val_loss: 0.6863 - val_binary_accuracy: 0.5021\n",
      "Epoch 62/100\n",
      "125/125 [==============================] - 0s 718us/step - loss: 0.6884 - binary_accuracy: 0.5052 - val_loss: 0.6883 - val_binary_accuracy: 0.5156\n",
      "Epoch 63/100\n",
      "125/125 [==============================] - 0s 718us/step - loss: 0.6888 - binary_accuracy: 0.5063 - val_loss: 0.6828 - val_binary_accuracy: 0.5354\n",
      "Epoch 64/100\n",
      "125/125 [==============================] - 0s 726us/step - loss: 0.6885 - binary_accuracy: 0.5025 - val_loss: 0.6910 - val_binary_accuracy: 0.5083\n",
      "Epoch 65/100\n",
      "125/125 [==============================] - 0s 750us/step - loss: 0.6887 - binary_accuracy: 0.5025 - val_loss: 0.6780 - val_binary_accuracy: 0.4979\n",
      "Epoch 66/100\n",
      "125/125 [==============================] - 0s 710us/step - loss: 0.6880 - binary_accuracy: 0.5039 - val_loss: 0.6870 - val_binary_accuracy: 0.5042\n",
      "Epoch 67/100\n",
      "125/125 [==============================] - 0s 726us/step - loss: 0.6867 - binary_accuracy: 0.5096 - val_loss: 0.6833 - val_binary_accuracy: 0.4854\n",
      "Epoch 68/100\n",
      "125/125 [==============================] - 0s 734us/step - loss: 0.6875 - binary_accuracy: 0.5077 - val_loss: 0.6867 - val_binary_accuracy: 0.5094\n",
      "Epoch 69/100\n",
      "125/125 [==============================] - 0s 718us/step - loss: 0.6873 - binary_accuracy: 0.5056 - val_loss: 0.6877 - val_binary_accuracy: 0.5302\n",
      "Epoch 70/100\n",
      "125/125 [==============================] - 0s 734us/step - loss: 0.6870 - binary_accuracy: 0.5013 - val_loss: 0.6918 - val_binary_accuracy: 0.5115\n",
      "Epoch 71/100\n",
      "125/125 [==============================] - 0s 726us/step - loss: 0.6875 - binary_accuracy: 0.5067 - val_loss: 0.6924 - val_binary_accuracy: 0.5104\n",
      "Epoch 72/100\n",
      "125/125 [==============================] - 0s 702us/step - loss: 0.6877 - binary_accuracy: 0.5085 - val_loss: 0.6895 - val_binary_accuracy: 0.5271\n",
      "Epoch 73/100\n",
      "125/125 [==============================] - 0s 718us/step - loss: 0.6860 - binary_accuracy: 0.5063 - val_loss: 0.6860 - val_binary_accuracy: 0.5094\n",
      "Epoch 74/100\n",
      "125/125 [==============================] - 0s 726us/step - loss: 0.6878 - binary_accuracy: 0.5033 - val_loss: 0.6893 - val_binary_accuracy: 0.5083\n",
      "Epoch 75/100\n",
      "125/125 [==============================] - 0s 750us/step - loss: 0.6884 - binary_accuracy: 0.5061 - val_loss: 0.6852 - val_binary_accuracy: 0.5125\n",
      "Epoch 76/100\n",
      "125/125 [==============================] - 0s 750us/step - loss: 0.6885 - binary_accuracy: 0.5070 - val_loss: 0.6924 - val_binary_accuracy: 0.4969\n",
      "Epoch 77/100\n",
      "125/125 [==============================] - 0s 734us/step - loss: 0.6877 - binary_accuracy: 0.5046 - val_loss: 0.6846 - val_binary_accuracy: 0.5260\n",
      "Epoch 78/100\n",
      "125/125 [==============================] - 0s 710us/step - loss: 0.6874 - binary_accuracy: 0.5096 - val_loss: 0.6905 - val_binary_accuracy: 0.4677\n",
      "Epoch 79/100\n",
      "125/125 [==============================] - 0s 718us/step - loss: 0.6876 - binary_accuracy: 0.5090 - val_loss: 0.6942 - val_binary_accuracy: 0.4854\n",
      "Epoch 80/100\n",
      "125/125 [==============================] - 0s 742us/step - loss: 0.6869 - binary_accuracy: 0.5058 - val_loss: 0.6848 - val_binary_accuracy: 0.4958\n",
      "Epoch 81/100\n",
      "125/125 [==============================] - 0s 718us/step - loss: 0.6875 - binary_accuracy: 0.5048 - val_loss: 0.6925 - val_binary_accuracy: 0.4844\n",
      "Epoch 82/100\n",
      "125/125 [==============================] - 0s 726us/step - loss: 0.6880 - binary_accuracy: 0.5076 - val_loss: 0.6855 - val_binary_accuracy: 0.5042\n",
      "Epoch 83/100\n",
      "125/125 [==============================] - 0s 782us/step - loss: 0.6885 - binary_accuracy: 0.5058 - val_loss: 0.6871 - val_binary_accuracy: 0.5115\n",
      "Epoch 84/100\n",
      "125/125 [==============================] - 0s 742us/step - loss: 0.6879 - binary_accuracy: 0.5058 - val_loss: 0.6828 - val_binary_accuracy: 0.5052\n",
      "Epoch 85/100\n",
      "125/125 [==============================] - 0s 718us/step - loss: 0.6881 - binary_accuracy: 0.5104 - val_loss: 0.6816 - val_binary_accuracy: 0.5094\n",
      "Epoch 86/100\n",
      "125/125 [==============================] - 0s 742us/step - loss: 0.6874 - binary_accuracy: 0.5088 - val_loss: 0.6818 - val_binary_accuracy: 0.5094\n",
      "Epoch 87/100\n",
      "125/125 [==============================] - 0s 742us/step - loss: 0.6872 - binary_accuracy: 0.5105 - val_loss: 0.6891 - val_binary_accuracy: 0.4927\n",
      "Epoch 88/100\n",
      "125/125 [==============================] - 0s 702us/step - loss: 0.6870 - binary_accuracy: 0.5091 - val_loss: 0.6882 - val_binary_accuracy: 0.5073\n",
      "Epoch 89/100\n",
      "125/125 [==============================] - 0s 734us/step - loss: 0.6868 - binary_accuracy: 0.5060 - val_loss: 0.6902 - val_binary_accuracy: 0.5083\n",
      "Epoch 90/100\n",
      "125/125 [==============================] - 0s 718us/step - loss: 0.6866 - binary_accuracy: 0.5046 - val_loss: 0.6882 - val_binary_accuracy: 0.5031\n",
      "Epoch 91/100\n",
      "125/125 [==============================] - 0s 726us/step - loss: 0.6865 - binary_accuracy: 0.5071 - val_loss: 0.6890 - val_binary_accuracy: 0.5208\n",
      "Epoch 92/100\n",
      "125/125 [==============================] - 0s 718us/step - loss: 0.6868 - binary_accuracy: 0.5052 - val_loss: 0.6833 - val_binary_accuracy: 0.5125\n",
      "Epoch 93/100\n",
      "125/125 [==============================] - 0s 710us/step - loss: 0.6882 - binary_accuracy: 0.5091 - val_loss: 0.6831 - val_binary_accuracy: 0.5010\n",
      "Epoch 94/100\n",
      "125/125 [==============================] - 0s 718us/step - loss: 0.6870 - binary_accuracy: 0.5041 - val_loss: 0.6872 - val_binary_accuracy: 0.4750\n",
      "Epoch 95/100\n",
      "125/125 [==============================] - 0s 734us/step - loss: 0.6865 - binary_accuracy: 0.5063 - val_loss: 0.6901 - val_binary_accuracy: 0.5052\n",
      "Epoch 96/100\n",
      "125/125 [==============================] - 0s 718us/step - loss: 0.6880 - binary_accuracy: 0.5095 - val_loss: 0.6860 - val_binary_accuracy: 0.5292\n",
      "Epoch 97/100\n",
      "125/125 [==============================] - 0s 718us/step - loss: 0.6867 - binary_accuracy: 0.5073 - val_loss: 0.6880 - val_binary_accuracy: 0.4969\n",
      "Epoch 98/100\n",
      "125/125 [==============================] - 0s 726us/step - loss: 0.6864 - binary_accuracy: 0.5048 - val_loss: 0.6821 - val_binary_accuracy: 0.4812\n",
      "Epoch 99/100\n",
      "125/125 [==============================] - 0s 710us/step - loss: 0.6872 - binary_accuracy: 0.5091 - val_loss: 0.6842 - val_binary_accuracy: 0.4906\n",
      "Epoch 100/100\n",
      "125/125 [==============================] - 0s 718us/step - loss: 0.6864 - binary_accuracy: 0.5067 - val_loss: 0.6849 - val_binary_accuracy: 0.5229\n"
     ]
    }
   ],
   "source": [
    "history = model.fit(train, validation_data=val, epochs=100)"
   ]
  },
  {
   "cell_type": "code",
   "execution_count": 25,
   "id": "35b77552",
   "metadata": {},
   "outputs": [],
   "source": [
    "history_dict = history.history"
   ]
  },
  {
   "cell_type": "code",
   "execution_count": 16,
   "id": "915e09fe",
   "metadata": {},
   "outputs": [
    {
     "data": {
      "text/plain": [
       "dict_keys(['loss', 'binary_accuracy', 'val_loss', 'val_binary_accuracy'])"
      ]
     },
     "execution_count": 16,
     "metadata": {},
     "output_type": "execute_result"
    }
   ],
   "source": [
    "history_dict.keys()"
   ]
  },
  {
   "cell_type": "code",
   "execution_count": 17,
   "id": "b9f8ca54",
   "metadata": {},
   "outputs": [
    {
     "data": {
      "image/png": "[encoded data removed]",
      "text/plain": [
       "<Figure size 500x500 with 1 Axes>"
      ]
     },
     "metadata": {},
     "output_type": "display_data"
    }
   ],
   "source": [
    "plt.figure(figsize=(5, 5))\n",
    "plt.plot(history_dict['loss'], label='Training Loss')\n",
    "plt.plot(history_dict['val_loss'], label='Validation Loss')\n",
    "plt.title('Training and Validation Loss')\n",
    "plt.xlabel('Epochs')\n",
    "plt.xscale('log')\n",
    "plt.ylabel('Loss')\n",
    "plt.legend()\n",
    "plt.show()"
   ]
  },
  {
   "cell_type": "code",
   "execution_count": 18,
   "id": "0f63411e",
   "metadata": {},
   "outputs": [
    {
     "data": {
      "image/png": "[encoded data removed]",
      "text/plain": [
       "<Figure size 500x500 with 1 Axes>"
      ]
     },
     "metadata": {},
     "output_type": "display_data"
    }
   ],
   "source": [
    "plt.figure(figsize=(5, 5))\n",
    "plt.plot(history_dict['binary_accuracy'], label='Training Accuracy')\n",
    "plt.plot(history_dict['val_binary_accuracy'], label='Validation Accuracy')\n",
    "plt.title('Training and Validation Accuracy')\n",
    "plt.xlabel('Epochs')\n",
    "plt.xscale('log')\n",
    "plt.ylabel('Accuracy')\n",
    "plt.legend()\n",
    "plt.show()"
   ]
  },
  {
   "cell_type": "code",
   "execution_count": 19,
   "id": "a5084eaa",
   "metadata": {},
   "outputs": [
    {
     "name": "stdout",
     "output_type": "stream",
     "text": [
      "17/17 [==============================] - 0s 563us/step - loss: 0.6100 - binary_accuracy: 0.5808\n",
      "Loss: 0.6099903583526611\n",
      "Accuracy: 0.5807692408561707\n"
     ]
    }
   ],
   "source": [
    "loss, accuracy = model.evaluate(test)\n",
    "print('Loss:', loss)\n",
    "print('Accuracy:', accuracy)"
   ]
  },
  {
   "cell_type": "code",
   "execution_count": null,
   "id": "ae014f9d",
   "metadata": {},
   "outputs": [],
   "source": [
    "# Save the model\n",
    "export_model = tf.keras.Sequential([\n",
    "    model,\n",
    "    tf.keras.layers.Activation('sigmoid')\n",
    "])"
   ]
  },
  {
   "cell_type": "code",
   "execution_count": 36,
   "id": "583ff84d",
   "metadata": {},
   "outputs": [
    {
     "name": "stdout",
     "output_type": "stream",
     "text": [
      "WARNING:tensorflow:Compiled the loaded model, but the compiled metrics have yet to be built. `model.compile_metrics` will be empty until you train or evaluate the model.\n"
     ]
    }
   ],
   "source": [
    "tfjs.converters.save_keras_model(export_model, 'winpredictor/public/models/master')"
   ]
  }
 ],
 "metadata": {
  "kernelspec": {
   "display_name": "Python 3 (ipykernel)",
   "language": "python",
   "name": "python3"
  },
  "language_info": {
   "codemirror_mode": {
    "name": "ipython",
    "version": 3
   },
   "file_extension": ".py",
   "mimetype": "text/x-python",
   "name": "python",
   "nbconvert_exporter": "python",
   "pygments_lexer": "ipython3",
   "version": "3.10.9"
  }
 },
 "nbformat": 4,
 "nbformat_minor": 5
}
