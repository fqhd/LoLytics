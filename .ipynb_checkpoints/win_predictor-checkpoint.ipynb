{
 "cells": [
  {
   "cell_type": "code",
   "execution_count": 1,
   "id": "945692de",
   "metadata": {},
   "outputs": [
    {
     "name": "stdout",
     "output_type": "stream",
     "text": [
      "[]\n"
     ]
    }
   ],
   "source": [
    "import tensorflow as tf\n",
    "import matplotlib.pyplot as plt\n",
    "import numpy as np\n",
    "import pandas as pd\n",
    "from tensorflow import keras\n",
    "from tensorflow.keras import layers\n",
    "from tensorflow.keras import optimizers\n",
    "from tensorflow.keras import losses\n",
    "import tensorflowjs as tfjs\n",
    "import os\n",
    "os.environ['CUDA_VISIBLE_DEVICES'] = '-1'\n",
    "print(tf.config.list_physical_devices('GPU'))"
   ]
  },
  {
   "cell_type": "code",
   "execution_count": 2,
   "id": "0397f3eb",
   "metadata": {},
   "outputs": [],
   "source": [
    "# Constants\n",
    "NUM_GAMES = 10000\n",
    "BATCH_SIZE = 32\n",
    "LR = 1e-4"
   ]
  },
  {
   "cell_type": "code",
   "execution_count": 3,
   "id": "047bc5a9",
   "metadata": {},
   "outputs": [],
   "source": [
    "df = pd.read_csv('champions.csv')\n",
    "def get_champ_vec(champ_name):\n",
    "    arr = []\n",
    "    row = df.loc[df['Champion'] == champ_name].iloc[0]\n",
    "    for i in range(1, 16):\n",
    "        if i == 7:\n",
    "            if row[i] == 1:\n",
    "                arr.append(1)\n",
    "                arr.append(0)\n",
    "                arr.append(0)\n",
    "            elif row[i] == 2:\n",
    "                arr.append(0)\n",
    "                arr.append(1)\n",
    "                arr.append(0)\n",
    "            elif row[i] == 3:\n",
    "                arr.append(0)\n",
    "                arr.append(0)\n",
    "                arr.append(1)\n",
    "        else:\n",
    "            arr.append(row[i] / 10)\n",
    "    return arr"
   ]
  },
  {
   "cell_type": "code",
   "execution_count": 4,
   "id": "d2e786ca",
   "metadata": {},
   "outputs": [],
   "source": [
    "def process_match(match):\n",
    "        champs = match.split(',')\n",
    "        vec = []\n",
    "        for i in range(10):\n",
    "            champ_vec = get_champ_vec(champs[i])\n",
    "            for e in champ_vec:\n",
    "                vec.append(e)\n",
    "        if champs[10] == 'true':\n",
    "            vec.append(1)\n",
    "        else:\n",
    "            vec.append(0)\n",
    "        return vec"
   ]
  },
  {
   "cell_type": "code",
   "execution_count": 5,
   "id": "da587725",
   "metadata": {},
   "outputs": [],
   "source": [
    "def process_ds_element(x):\n",
    "    return (tf.cast(x[:-1], 'float32'), tf.cast(x[-1], 'int32'))"
   ]
  },
  {
   "cell_type": "code",
   "execution_count": 6,
   "id": "90f93e69",
   "metadata": {},
   "outputs": [],
   "source": [
    "def get_dataset():\n",
    "    tmp = []\n",
    "    with open('data/matches/diamond_training_data.txt', 'r') as f:\n",
    "        matches = f.read().split('\\n')\n",
    "        global NUM_GAMES\n",
    "        NUM_GAMES = min(len(matches), NUM_GAMES)\n",
    "        for i in range(NUM_GAMES):\n",
    "            try:\n",
    "                tmp.append(process_match(matches[i]))\n",
    "            except:\n",
    "                NUM_GAMES-=1\n",
    "    ds = tf.data.Dataset.from_tensor_slices(tmp)\n",
    "    ds = ds.map(process_ds_element)\n",
    "    ds = ds.cache()\n",
    "    ds = ds.shuffle(NUM_GAMES)\n",
    "    ds = ds.batch(BATCH_SIZE)\n",
    "    ds = ds.prefetch(tf.data.AUTOTUNE)\n",
    "    print(f'Using {NUM_GAMES} matches for training')\n",
    "    return ds"
   ]
  },
  {
   "cell_type": "code",
   "execution_count": 7,
   "id": "23a73ecc",
   "metadata": {},
   "outputs": [
    {
     "name": "stdout",
     "output_type": "stream",
     "text": [
      "Using 159992 matches for training\n"
     ]
    }
   ],
   "source": [
    "ds = get_dataset()"
   ]
  },
  {
   "cell_type": "code",
   "execution_count": 9,
   "id": "cab9bfdd",
   "metadata": {},
   "outputs": [
    {
     "name": "stdout",
     "output_type": "stream",
     "text": [
      "2000 250 250\n"
     ]
    }
   ],
   "source": [
    "# Partition Dataset\n",
    "train_size = int(len(ds)*0.8)\n",
    "val_size = int(len(ds)*0.1)\n",
    "test_size = len(ds) - (train_size + val_size)\n",
    "\n",
    "train = ds.take(train_size)\n",
    "val = ds.skip(train_size).take(val_size)\n",
    "test = ds.skip(train_size+val_size).take(test_size)\n",
    "print(train_size, val_size, test_size)"
   ]
  },
  {
   "cell_type": "code",
   "execution_count": 10,
   "id": "a19b79f9",
   "metadata": {},
   "outputs": [],
   "source": [
    "def create_model():\n",
    "    model = keras.Sequential()\n",
    "    model.add(layers.Dense(128, activation='relu', input_dim=170))\n",
    "    model.add(layers.Dense(64, activation='relu'))\n",
    "    model.add(layers.Dense(16, activation='relu'))\n",
    "    model.add(layers.Dense(1))\n",
    "    return model"
   ]
  },
  {
   "cell_type": "code",
   "execution_count": 11,
   "id": "f9c931e3",
   "metadata": {},
   "outputs": [],
   "source": [
    "example = next(iter(ds))"
   ]
  },
  {
   "cell_type": "code",
   "execution_count": 12,
   "id": "690fbae5",
   "metadata": {},
   "outputs": [],
   "source": [
    "model = create_model()"
   ]
  },
  {
   "cell_type": "code",
   "execution_count": 13,
   "id": "67e1953a",
   "metadata": {},
   "outputs": [
    {
     "name": "stdout",
     "output_type": "stream",
     "text": [
      "Model: \"sequential\"\n",
      "_________________________________________________________________\n",
      " Layer (type)                Output Shape              Param #   \n",
      "=================================================================\n",
      " dense (Dense)               (None, 128)               21888     \n",
      "                                                                 \n",
      " dense_1 (Dense)             (None, 64)                8256      \n",
      "                                                                 \n",
      " dense_2 (Dense)             (None, 16)                1040      \n",
      "                                                                 \n",
      " dense_3 (Dense)             (None, 1)                 17        \n",
      "                                                                 \n",
      "=================================================================\n",
      "Total params: 31,201\n",
      "Trainable params: 31,201\n",
      "Non-trainable params: 0\n",
      "_________________________________________________________________\n"
     ]
    }
   ],
   "source": [
    "model.summary()"
   ]
  },
  {
   "cell_type": "code",
   "execution_count": 14,
   "id": "b5cf7424",
   "metadata": {},
   "outputs": [],
   "source": [
    "loss = losses.BinaryCrossentropy(from_logits=True)\n",
    "optimizer = optimizers.Adam(learning_rate=LR)\n",
    "model.compile(loss=loss, optimizer=optimizer, metrics=[tf.metrics.BinaryAccuracy(threshold=0.0)])"
   ]
  },
  {
   "cell_type": "code",
   "execution_count": 15,
   "id": "daff853a",
   "metadata": {},
   "outputs": [
    {
     "name": "stdout",
     "output_type": "stream",
     "text": [
      "Epoch 1/100\n",
      "2000/2000 [==============================] - 2s 893us/step - loss: 0.6937 - binary_accuracy: 0.5070 - val_loss: 0.6920 - val_binary_accuracy: 0.5234\n",
      "Epoch 2/100\n",
      "2000/2000 [==============================] - 2s 895us/step - loss: 0.6925 - binary_accuracy: 0.5157 - val_loss: 0.6917 - val_binary_accuracy: 0.5211\n",
      "Epoch 3/100\n",
      "2000/2000 [==============================] - 2s 869us/step - loss: 0.6921 - binary_accuracy: 0.5178 - val_loss: 0.6904 - val_binary_accuracy: 0.5332\n",
      "Epoch 4/100\n",
      "2000/2000 [==============================] - 2s 841us/step - loss: 0.6916 - binary_accuracy: 0.5236 - val_loss: 0.6911 - val_binary_accuracy: 0.5280\n",
      "Epoch 5/100\n",
      "2000/2000 [==============================] - 2s 846us/step - loss: 0.6911 - binary_accuracy: 0.5254 - val_loss: 0.6904 - val_binary_accuracy: 0.5343\n",
      "Epoch 6/100\n",
      "2000/2000 [==============================] - 2s 840us/step - loss: 0.6906 - binary_accuracy: 0.5283 - val_loss: 0.6896 - val_binary_accuracy: 0.5356\n",
      "Epoch 7/100\n",
      "2000/2000 [==============================] - 2s 845us/step - loss: 0.6900 - binary_accuracy: 0.5330 - val_loss: 0.6882 - val_binary_accuracy: 0.5476\n",
      "Epoch 8/100\n",
      "2000/2000 [==============================] - 2s 845us/step - loss: 0.6894 - binary_accuracy: 0.5342 - val_loss: 0.6891 - val_binary_accuracy: 0.5365\n",
      "Epoch 9/100\n",
      "2000/2000 [==============================] - 2s 851us/step - loss: 0.6887 - binary_accuracy: 0.5373 - val_loss: 0.6867 - val_binary_accuracy: 0.5528\n",
      "Epoch 10/100\n",
      "2000/2000 [==============================] - 2s 850us/step - loss: 0.6879 - binary_accuracy: 0.5413 - val_loss: 0.6874 - val_binary_accuracy: 0.5400\n",
      "Epoch 11/100\n",
      "2000/2000 [==============================] - 2s 851us/step - loss: 0.6868 - binary_accuracy: 0.5448 - val_loss: 0.6860 - val_binary_accuracy: 0.5461\n",
      "Epoch 12/100\n",
      "2000/2000 [==============================] - 2s 854us/step - loss: 0.6856 - binary_accuracy: 0.5480 - val_loss: 0.6832 - val_binary_accuracy: 0.5602\n",
      "Epoch 13/100\n",
      "2000/2000 [==============================] - 2s 850us/step - loss: 0.6848 - binary_accuracy: 0.5510 - val_loss: 0.6826 - val_binary_accuracy: 0.5583\n",
      "Epoch 14/100\n",
      "2000/2000 [==============================] - 2s 846us/step - loss: 0.6840 - binary_accuracy: 0.5521 - val_loss: 0.6828 - val_binary_accuracy: 0.5601\n",
      "Epoch 15/100\n",
      "2000/2000 [==============================] - 2s 848us/step - loss: 0.6829 - binary_accuracy: 0.5565 - val_loss: 0.6821 - val_binary_accuracy: 0.5594\n",
      "Epoch 16/100\n",
      "2000/2000 [==============================] - 2s 859us/step - loss: 0.6818 - binary_accuracy: 0.5586 - val_loss: 0.6791 - val_binary_accuracy: 0.5647\n",
      "Epoch 17/100\n",
      "2000/2000 [==============================] - 2s 848us/step - loss: 0.6804 - binary_accuracy: 0.5635 - val_loss: 0.6786 - val_binary_accuracy: 0.5674\n",
      "Epoch 18/100\n",
      "2000/2000 [==============================] - 2s 849us/step - loss: 0.6796 - binary_accuracy: 0.5644 - val_loss: 0.6768 - val_binary_accuracy: 0.5683\n",
      "Epoch 19/100\n",
      "2000/2000 [==============================] - 2s 853us/step - loss: 0.6780 - binary_accuracy: 0.5676 - val_loss: 0.6779 - val_binary_accuracy: 0.5677\n",
      "Epoch 20/100\n",
      "2000/2000 [==============================] - 2s 853us/step - loss: 0.6770 - binary_accuracy: 0.5695 - val_loss: 0.6743 - val_binary_accuracy: 0.5772\n",
      "Epoch 21/100\n",
      "2000/2000 [==============================] - 2s 846us/step - loss: 0.6758 - binary_accuracy: 0.5711 - val_loss: 0.6748 - val_binary_accuracy: 0.5735\n",
      "Epoch 22/100\n",
      "2000/2000 [==============================] - 2s 849us/step - loss: 0.6745 - binary_accuracy: 0.5760 - val_loss: 0.6740 - val_binary_accuracy: 0.5773\n",
      "Epoch 23/100\n",
      "2000/2000 [==============================] - 2s 854us/step - loss: 0.6736 - binary_accuracy: 0.5775 - val_loss: 0.6727 - val_binary_accuracy: 0.5785\n",
      "Epoch 24/100\n",
      "2000/2000 [==============================] - 2s 860us/step - loss: 0.6722 - binary_accuracy: 0.5794 - val_loss: 0.6688 - val_binary_accuracy: 0.5881\n",
      "Epoch 25/100\n",
      "2000/2000 [==============================] - 2s 852us/step - loss: 0.6711 - binary_accuracy: 0.5816 - val_loss: 0.6684 - val_binary_accuracy: 0.5879\n",
      "Epoch 26/100\n",
      "2000/2000 [==============================] - 2s 852us/step - loss: 0.6696 - binary_accuracy: 0.5852 - val_loss: 0.6685 - val_binary_accuracy: 0.5870\n",
      "Epoch 27/100\n",
      "2000/2000 [==============================] - 2s 860us/step - loss: 0.6689 - binary_accuracy: 0.5864 - val_loss: 0.6642 - val_binary_accuracy: 0.5972\n",
      "Epoch 28/100\n",
      "2000/2000 [==============================] - 2s 855us/step - loss: 0.6672 - binary_accuracy: 0.5883 - val_loss: 0.6651 - val_binary_accuracy: 0.5928\n",
      "Epoch 29/100\n",
      "2000/2000 [==============================] - 2s 850us/step - loss: 0.6663 - binary_accuracy: 0.5901 - val_loss: 0.6628 - val_binary_accuracy: 0.5962\n",
      "Epoch 30/100\n",
      "2000/2000 [==============================] - 2s 853us/step - loss: 0.6648 - binary_accuracy: 0.5929 - val_loss: 0.6636 - val_binary_accuracy: 0.5969\n",
      "Epoch 31/100\n",
      "2000/2000 [==============================] - 2s 849us/step - loss: 0.6635 - binary_accuracy: 0.5945 - val_loss: 0.6602 - val_binary_accuracy: 0.6003\n",
      "Epoch 32/100\n",
      "2000/2000 [==============================] - 2s 853us/step - loss: 0.6622 - binary_accuracy: 0.5973 - val_loss: 0.6579 - val_binary_accuracy: 0.6051\n",
      "Epoch 33/100\n",
      "2000/2000 [==============================] - 2s 856us/step - loss: 0.6613 - binary_accuracy: 0.5988 - val_loss: 0.6584 - val_binary_accuracy: 0.6009\n",
      "Epoch 34/100\n",
      "2000/2000 [==============================] - 2s 855us/step - loss: 0.6603 - binary_accuracy: 0.6001 - val_loss: 0.6554 - val_binary_accuracy: 0.6102\n",
      "Epoch 35/100\n",
      "2000/2000 [==============================] - 2s 854us/step - loss: 0.6592 - binary_accuracy: 0.6014 - val_loss: 0.6557 - val_binary_accuracy: 0.6070\n",
      "Epoch 36/100\n",
      "2000/2000 [==============================] - 2s 852us/step - loss: 0.6573 - binary_accuracy: 0.6044 - val_loss: 0.6560 - val_binary_accuracy: 0.6074\n",
      "Epoch 37/100\n",
      "2000/2000 [==============================] - 2s 850us/step - loss: 0.6566 - binary_accuracy: 0.6047 - val_loss: 0.6564 - val_binary_accuracy: 0.6054\n",
      "Epoch 38/100\n",
      "2000/2000 [==============================] - 2s 845us/step - loss: 0.6551 - binary_accuracy: 0.6076 - val_loss: 0.6509 - val_binary_accuracy: 0.6118\n",
      "Epoch 39/100\n",
      "2000/2000 [==============================] - 2s 859us/step - loss: 0.6543 - binary_accuracy: 0.6076 - val_loss: 0.6478 - val_binary_accuracy: 0.6214\n",
      "Epoch 40/100\n",
      "2000/2000 [==============================] - 2s 849us/step - loss: 0.6533 - binary_accuracy: 0.6091 - val_loss: 0.6491 - val_binary_accuracy: 0.6139\n",
      "Epoch 41/100\n",
      "2000/2000 [==============================] - 2s 846us/step - loss: 0.6518 - binary_accuracy: 0.6110 - val_loss: 0.6460 - val_binary_accuracy: 0.6171\n",
      "Epoch 42/100\n",
      "2000/2000 [==============================] - 2s 850us/step - loss: 0.6503 - binary_accuracy: 0.6138 - val_loss: 0.6503 - val_binary_accuracy: 0.6119\n",
      "Epoch 43/100\n",
      "2000/2000 [==============================] - 2s 853us/step - loss: 0.6493 - binary_accuracy: 0.6156 - val_loss: 0.6475 - val_binary_accuracy: 0.6156\n",
      "Epoch 44/100\n",
      "2000/2000 [==============================] - 2s 861us/step - loss: 0.6481 - binary_accuracy: 0.6166 - val_loss: 0.6449 - val_binary_accuracy: 0.6199\n",
      "Epoch 45/100\n",
      "2000/2000 [==============================] - 2s 862us/step - loss: 0.6465 - binary_accuracy: 0.6191 - val_loss: 0.6435 - val_binary_accuracy: 0.6227\n",
      "Epoch 46/100\n",
      "2000/2000 [==============================] - 2s 854us/step - loss: 0.6460 - binary_accuracy: 0.6192 - val_loss: 0.6415 - val_binary_accuracy: 0.6269\n",
      "Epoch 47/100\n",
      "2000/2000 [==============================] - 2s 853us/step - loss: 0.6450 - binary_accuracy: 0.6210 - val_loss: 0.6391 - val_binary_accuracy: 0.6301\n",
      "Epoch 48/100\n",
      "2000/2000 [==============================] - 2s 843us/step - loss: 0.6437 - binary_accuracy: 0.6225 - val_loss: 0.6415 - val_binary_accuracy: 0.6253\n",
      "Epoch 49/100\n",
      "2000/2000 [==============================] - 2s 862us/step - loss: 0.6421 - binary_accuracy: 0.6255 - val_loss: 0.6344 - val_binary_accuracy: 0.6373\n",
      "Epoch 50/100\n",
      "2000/2000 [==============================] - 2s 852us/step - loss: 0.6414 - binary_accuracy: 0.6253 - val_loss: 0.6396 - val_binary_accuracy: 0.6317\n",
      "Epoch 51/100\n",
      "2000/2000 [==============================] - 2s 844us/step - loss: 0.6403 - binary_accuracy: 0.6269 - val_loss: 0.6387 - val_binary_accuracy: 0.6271\n",
      "Epoch 52/100\n",
      "2000/2000 [==============================] - 2s 856us/step - loss: 0.6393 - binary_accuracy: 0.6290 - val_loss: 0.6365 - val_binary_accuracy: 0.6315\n",
      "Epoch 53/100\n",
      "2000/2000 [==============================] - 2s 847us/step - loss: 0.6382 - binary_accuracy: 0.6295 - val_loss: 0.6297 - val_binary_accuracy: 0.6386\n",
      "Epoch 54/100\n",
      "2000/2000 [==============================] - 2s 843us/step - loss: 0.6366 - binary_accuracy: 0.6324 - val_loss: 0.6304 - val_binary_accuracy: 0.6467\n",
      "Epoch 55/100\n",
      "2000/2000 [==============================] - 2s 858us/step - loss: 0.6361 - binary_accuracy: 0.6319 - val_loss: 0.6288 - val_binary_accuracy: 0.6419\n",
      "Epoch 56/100\n",
      "2000/2000 [==============================] - 2s 854us/step - loss: 0.6349 - binary_accuracy: 0.6329 - val_loss: 0.6252 - val_binary_accuracy: 0.6491\n",
      "Epoch 57/100\n",
      "2000/2000 [==============================] - 2s 840us/step - loss: 0.6339 - binary_accuracy: 0.6360 - val_loss: 0.6335 - val_binary_accuracy: 0.6357\n",
      "Epoch 58/100\n",
      "2000/2000 [==============================] - 2s 860us/step - loss: 0.6330 - binary_accuracy: 0.6358 - val_loss: 0.6306 - val_binary_accuracy: 0.6359\n",
      "Epoch 59/100\n",
      "2000/2000 [==============================] - 2s 851us/step - loss: 0.6309 - binary_accuracy: 0.6379 - val_loss: 0.6250 - val_binary_accuracy: 0.6434\n",
      "Epoch 60/100\n",
      "2000/2000 [==============================] - 2s 844us/step - loss: 0.6309 - binary_accuracy: 0.6395 - val_loss: 0.6237 - val_binary_accuracy: 0.6470\n",
      "Epoch 61/100\n",
      "2000/2000 [==============================] - 2s 844us/step - loss: 0.6298 - binary_accuracy: 0.6391 - val_loss: 0.6184 - val_binary_accuracy: 0.6501\n",
      "Epoch 62/100\n",
      "2000/2000 [==============================] - 2s 845us/step - loss: 0.6295 - binary_accuracy: 0.6405 - val_loss: 0.6234 - val_binary_accuracy: 0.6465\n",
      "Epoch 63/100\n",
      "2000/2000 [==============================] - 2s 856us/step - loss: 0.6282 - binary_accuracy: 0.6428 - val_loss: 0.6200 - val_binary_accuracy: 0.6490\n",
      "Epoch 64/100\n",
      "2000/2000 [==============================] - 2s 851us/step - loss: 0.6271 - binary_accuracy: 0.6436 - val_loss: 0.6243 - val_binary_accuracy: 0.6466\n",
      "Epoch 65/100\n",
      "2000/2000 [==============================] - 2s 838us/step - loss: 0.6253 - binary_accuracy: 0.6443 - val_loss: 0.6248 - val_binary_accuracy: 0.6423\n",
      "Epoch 66/100\n",
      "2000/2000 [==============================] - 2s 844us/step - loss: 0.6254 - binary_accuracy: 0.6443 - val_loss: 0.6203 - val_binary_accuracy: 0.6482\n",
      "Epoch 67/100\n",
      "2000/2000 [==============================] - 2s 847us/step - loss: 0.6237 - binary_accuracy: 0.6455 - val_loss: 0.6164 - val_binary_accuracy: 0.6543\n",
      "Epoch 68/100\n",
      "2000/2000 [==============================] - 2s 847us/step - loss: 0.6236 - binary_accuracy: 0.6469 - val_loss: 0.6157 - val_binary_accuracy: 0.6574\n",
      "Epoch 69/100\n",
      "2000/2000 [==============================] - 2s 849us/step - loss: 0.6222 - binary_accuracy: 0.6482 - val_loss: 0.6171 - val_binary_accuracy: 0.6490\n",
      "Epoch 70/100\n",
      "2000/2000 [==============================] - 2s 850us/step - loss: 0.6210 - binary_accuracy: 0.6498 - val_loss: 0.6179 - val_binary_accuracy: 0.6516\n",
      "Epoch 71/100\n",
      "2000/2000 [==============================] - 2s 847us/step - loss: 0.6202 - binary_accuracy: 0.6505 - val_loss: 0.6154 - val_binary_accuracy: 0.6572\n",
      "Epoch 72/100\n",
      "2000/2000 [==============================] - 2s 840us/step - loss: 0.6189 - binary_accuracy: 0.6509 - val_loss: 0.6138 - val_binary_accuracy: 0.6538\n",
      "Epoch 73/100\n",
      "2000/2000 [==============================] - 2s 839us/step - loss: 0.6178 - binary_accuracy: 0.6531 - val_loss: 0.6121 - val_binary_accuracy: 0.6553\n",
      "Epoch 74/100\n",
      "2000/2000 [==============================] - 2s 847us/step - loss: 0.6174 - binary_accuracy: 0.6535 - val_loss: 0.6148 - val_binary_accuracy: 0.6532\n",
      "Epoch 75/100\n",
      "2000/2000 [==============================] - 2s 848us/step - loss: 0.6173 - binary_accuracy: 0.6535 - val_loss: 0.6071 - val_binary_accuracy: 0.6639\n",
      "Epoch 76/100\n",
      "2000/2000 [==============================] - 2s 857us/step - loss: 0.6151 - binary_accuracy: 0.6543 - val_loss: 0.6059 - val_binary_accuracy: 0.6665\n",
      "Epoch 77/100\n",
      "2000/2000 [==============================] - 2s 860us/step - loss: 0.6147 - binary_accuracy: 0.6564 - val_loss: 0.6120 - val_binary_accuracy: 0.6569\n",
      "Epoch 78/100\n",
      "2000/2000 [==============================] - 2s 858us/step - loss: 0.6136 - binary_accuracy: 0.6579 - val_loss: 0.6105 - val_binary_accuracy: 0.6584\n",
      "Epoch 79/100\n",
      "2000/2000 [==============================] - 2s 848us/step - loss: 0.6127 - binary_accuracy: 0.6578 - val_loss: 0.6083 - val_binary_accuracy: 0.6595\n",
      "Epoch 80/100\n",
      "2000/2000 [==============================] - 2s 854us/step - loss: 0.6121 - binary_accuracy: 0.6586 - val_loss: 0.6090 - val_binary_accuracy: 0.6621\n",
      "Epoch 81/100\n",
      "2000/2000 [==============================] - 2s 856us/step - loss: 0.6116 - binary_accuracy: 0.6593 - val_loss: 0.6057 - val_binary_accuracy: 0.6631\n",
      "Epoch 82/100\n",
      "2000/2000 [==============================] - 2s 853us/step - loss: 0.6102 - binary_accuracy: 0.6610 - val_loss: 0.6040 - val_binary_accuracy: 0.6657\n",
      "Epoch 83/100\n",
      "2000/2000 [==============================] - 2s 855us/step - loss: 0.6097 - binary_accuracy: 0.6604 - val_loss: 0.6032 - val_binary_accuracy: 0.6745\n",
      "Epoch 84/100\n",
      "2000/2000 [==============================] - 2s 849us/step - loss: 0.6083 - binary_accuracy: 0.6625 - val_loss: 0.6059 - val_binary_accuracy: 0.6651\n",
      "Epoch 85/100\n",
      "2000/2000 [==============================] - 2s 859us/step - loss: 0.6085 - binary_accuracy: 0.6628 - val_loss: 0.6012 - val_binary_accuracy: 0.6703\n",
      "Epoch 86/100\n",
      "2000/2000 [==============================] - 2s 849us/step - loss: 0.6068 - binary_accuracy: 0.6628 - val_loss: 0.6039 - val_binary_accuracy: 0.6606\n",
      "Epoch 87/100\n",
      "2000/2000 [==============================] - 2s 848us/step - loss: 0.6067 - binary_accuracy: 0.6630 - val_loss: 0.5995 - val_binary_accuracy: 0.6709\n",
      "Epoch 88/100\n",
      "2000/2000 [==============================] - 2s 842us/step - loss: 0.6049 - binary_accuracy: 0.6655 - val_loss: 0.6028 - val_binary_accuracy: 0.6746\n",
      "Epoch 89/100\n",
      "2000/2000 [==============================] - 2s 848us/step - loss: 0.6051 - binary_accuracy: 0.6655 - val_loss: 0.6007 - val_binary_accuracy: 0.6686\n",
      "Epoch 90/100\n",
      "2000/2000 [==============================] - 2s 852us/step - loss: 0.6037 - binary_accuracy: 0.6670 - val_loss: 0.6016 - val_binary_accuracy: 0.6697\n",
      "Epoch 91/100\n",
      "2000/2000 [==============================] - 2s 856us/step - loss: 0.6028 - binary_accuracy: 0.6665 - val_loss: 0.5980 - val_binary_accuracy: 0.6717\n",
      "Epoch 92/100\n",
      "2000/2000 [==============================] - 2s 861us/step - loss: 0.6024 - binary_accuracy: 0.6672 - val_loss: 0.5997 - val_binary_accuracy: 0.6717\n",
      "Epoch 93/100\n",
      "2000/2000 [==============================] - 2s 853us/step - loss: 0.6012 - binary_accuracy: 0.6691 - val_loss: 0.5966 - val_binary_accuracy: 0.6729\n",
      "Epoch 94/100\n",
      "2000/2000 [==============================] - 2s 858us/step - loss: 0.5999 - binary_accuracy: 0.6703 - val_loss: 0.5921 - val_binary_accuracy: 0.6764\n",
      "Epoch 95/100\n",
      "2000/2000 [==============================] - 2s 852us/step - loss: 0.6001 - binary_accuracy: 0.6703 - val_loss: 0.5946 - val_binary_accuracy: 0.6768\n",
      "Epoch 96/100\n",
      "2000/2000 [==============================] - 2s 846us/step - loss: 0.5997 - binary_accuracy: 0.6707 - val_loss: 0.5981 - val_binary_accuracy: 0.6689\n",
      "Epoch 97/100\n",
      "2000/2000 [==============================] - 2s 850us/step - loss: 0.5981 - binary_accuracy: 0.6714 - val_loss: 0.5975 - val_binary_accuracy: 0.6770\n",
      "Epoch 98/100\n",
      "2000/2000 [==============================] - 2s 850us/step - loss: 0.5974 - binary_accuracy: 0.6721 - val_loss: 0.5881 - val_binary_accuracy: 0.6840\n",
      "Epoch 99/100\n",
      "2000/2000 [==============================] - 2s 857us/step - loss: 0.5973 - binary_accuracy: 0.6718 - val_loss: 0.5891 - val_binary_accuracy: 0.6798\n",
      "Epoch 100/100\n",
      "2000/2000 [==============================] - 2s 853us/step - loss: 0.5963 - binary_accuracy: 0.6731 - val_loss: 0.5916 - val_binary_accuracy: 0.6738\n"
     ]
    }
   ],
   "source": [
    "history = model.fit(train, validation_data=val, epochs=100)"
   ]
  },
  {
   "cell_type": "code",
   "execution_count": 14,
   "id": "35b77552",
   "metadata": {},
   "outputs": [],
   "source": [
    "history_dict = history.history"
   ]
  },
  {
   "cell_type": "code",
   "execution_count": 15,
   "id": "915e09fe",
   "metadata": {},
   "outputs": [
    {
     "data": {
      "text/plain": [
       "dict_keys(['loss', 'binary_accuracy', 'val_loss', 'val_binary_accuracy'])"
      ]
     },
     "execution_count": 15,
     "metadata": {},
     "output_type": "execute_result"
    }
   ],
   "source": [
    "history_dict.keys()"
   ]
  },
  {
   "cell_type": "code",
   "execution_count": 16,
   "id": "b9f8ca54",
   "metadata": {},
   "outputs": [
    {
     "data": {
      "image/png": "[encoded data removed]",
      "text/plain": [
       "<Figure size 500x500 with 1 Axes>"
      ]
     },
     "metadata": {},
     "output_type": "display_data"
    }
   ],
   "source": [
    "plt.figure(figsize=(5, 5))\n",
    "plt.plot(history_dict['loss'], label='Training Loss')\n",
    "plt.plot(history_dict['val_loss'], label='Validation Loss')\n",
    "plt.title('Training and Validation Loss')\n",
    "plt.xlabel('Epochs')\n",
    "plt.xscale('log')\n",
    "plt.ylabel('Loss')\n",
    "plt.legend()\n",
    "plt.show()"
   ]
  },
  {
   "cell_type": "code",
   "execution_count": 17,
   "id": "0f63411e",
   "metadata": {},
   "outputs": [
    {
     "data": {
      "image/png": "[encoded data removed]",
      "text/plain": [
       "<Figure size 500x500 with 1 Axes>"
      ]
     },
     "metadata": {},
     "output_type": "display_data"
    }
   ],
   "source": [
    "plt.figure(figsize=(5, 5))\n",
    "plt.plot(history_dict['binary_accuracy'], label='Training Accuracy')\n",
    "plt.plot(history_dict['val_binary_accuracy'], label='Validation Accuracy')\n",
    "plt.title('Training and Validation Accuracy')\n",
    "plt.xlabel('Epochs')\n",
    "plt.xscale('log')\n",
    "plt.ylabel('Accuracy')\n",
    "plt.legend()\n",
    "plt.show()"
   ]
  },
  {
   "cell_type": "code",
   "execution_count": 26,
   "id": "a5084eaa",
   "metadata": {},
   "outputs": [
    {
     "name": "stdout",
     "output_type": "stream",
     "text": [
      "241/241 [==============================] - 0s 525us/step - loss: 0.5801 - binary_accuracy: 0.6886\n",
      "Loss: 0.5800842046737671\n",
      "Accuracy: 0.6885799765586853\n"
     ]
    }
   ],
   "source": [
    "loss, accuracy = model.evaluate(test)\n",
    "print('Loss:', loss)\n",
    "print('Accuracy:', accuracy)"
   ]
  },
  {
   "cell_type": "code",
   "execution_count": 121,
   "id": "ae014f9d",
   "metadata": {},
   "outputs": [],
   "source": [
    "# Save the model\n",
    "export_model = tf.keras.Sequential([\n",
    "    model,\n",
    "    tf.keras.layers.Activation('sigmoid')\n",
    "])"
   ]
  },
  {
   "cell_type": "code",
   "execution_count": 122,
   "id": "2928d415",
   "metadata": {},
   "outputs": [],
   "source": [
    "def test_model(champ_names):\n",
    "    Xs = []\n",
    "    for name in champ_names:\n",
    "        Xs += get_champ_vec(name)\n",
    "    Xs = tf.constant([Xs])\n",
    "    return export_model(Xs)"
   ]
  },
  {
   "cell_type": "code",
   "execution_count": 125,
   "id": "895d5a3b",
   "metadata": {},
   "outputs": [
    {
     "data": {
      "text/plain": [
       "<tf.Tensor: shape=(1, 1), dtype=float32, numpy=array([[0.9525021]], dtype=float32)>"
      ]
     },
     "execution_count": 125,
     "metadata": {},
     "output_type": "execute_result"
    }
   ],
   "source": [
    "test_model(['Fiora', 'XinZhao', 'Cassiopeia', 'Jhin', 'Heimerdinger', 'Jayce', 'Khazix', 'Lissandra', 'Varus', 'Karma'])"
   ]
  },
  {
   "cell_type": "code",
   "execution_count": 36,
   "id": "583ff84d",
   "metadata": {},
   "outputs": [
    {
     "name": "stdout",
     "output_type": "stream",
     "text": [
      "WARNING:tensorflow:Compiled the loaded model, but the compiled metrics have yet to be built. `model.compile_metrics` will be empty until you train or evaluate the model.\n"
     ]
    }
   ],
   "source": [
    "tfjs.converters.save_keras_model(export_model, 'winpredictor/public/models/master')"
   ]
  }
 ],
 "metadata": {
  "kernelspec": {
   "display_name": "Python 3 (ipykernel)",
   "language": "python",
   "name": "python3"
  },
  "language_info": {
   "codemirror_mode": {
    "name": "ipython",
    "version": 3
   },
   "file_extension": ".py",
   "mimetype": "text/x-python",
   "name": "python",
   "nbconvert_exporter": "python",
   "pygments_lexer": "ipython3",
   "version": "3.10.9"
  }
 },
 "nbformat": 4,
 "nbformat_minor": 5
}
