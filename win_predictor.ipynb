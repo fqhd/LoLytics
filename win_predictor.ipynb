{
 "cells": [
  {
   "cell_type": "code",
   "execution_count": 24,
   "id": "945692de",
   "metadata": {},
   "outputs": [
    {
     "name": "stdout",
     "output_type": "stream",
     "text": [
      "[]\n"
     ]
    }
   ],
   "source": [
    "import tensorflow as tf\n",
    "import matplotlib.pyplot as plt\n",
    "import numpy as np\n",
    "import pandas as pd\n",
    "from tensorflow import keras\n",
    "from tensorflow.keras import layers\n",
    "from tensorflow.keras import optimizers\n",
    "from tensorflow.keras import losses\n",
    "import tensorflowjs as tfjs\n",
    "import os\n",
    "os.environ['CUDA_VISIBLE_DEVICES'] = '-1'\n",
    "print(tf.config.list_physical_devices('GPU'))"
   ]
  },
  {
   "cell_type": "code",
   "execution_count": 25,
   "id": "0397f3eb",
   "metadata": {},
   "outputs": [],
   "source": [
    "# Constants\n",
    "BATCH_SIZE = 32\n",
    "LR = 1e-4"
   ]
  },
  {
   "cell_type": "code",
   "execution_count": 26,
   "id": "047bc5a9",
   "metadata": {},
   "outputs": [],
   "source": [
    "df = pd.read_csv('champions.csv')\n",
    "def get_champ_vec(champ_name):\n",
    "    arr = []\n",
    "    row = df.loc[df['Champion'] == champ_name].iloc[0]\n",
    "    for i in range(1, 16):\n",
    "        if i == 7:\n",
    "            if row[i] == 1:\n",
    "                arr.append(1)\n",
    "                arr.append(0)\n",
    "                arr.append(0)\n",
    "            elif row[i] == 2:\n",
    "                arr.append(0)\n",
    "                arr.append(1)\n",
    "                arr.append(0)\n",
    "            elif row[i] == 3:\n",
    "                arr.append(0)\n",
    "                arr.append(0)\n",
    "                arr.append(1)\n",
    "        else:\n",
    "            arr.append(row[i] / 10)\n",
    "    return arr"
   ]
  },
  {
   "cell_type": "code",
   "execution_count": 27,
   "id": "d2e786ca",
   "metadata": {},
   "outputs": [],
   "source": [
    "def process_match(match):\n",
    "    champs = match.split(',')\n",
    "    vec = []\n",
    "    for i in range(10):\n",
    "        champ_vec = get_champ_vec(champs[i])\n",
    "        for e in champ_vec:\n",
    "            vec.append(e)\n",
    "    if champs[10] == 'true':\n",
    "        vec.append(1)\n",
    "    else:\n",
    "        vec.append(0)\n",
    "    return vec"
   ]
  },
  {
   "cell_type": "code",
   "execution_count": 28,
   "id": "da587725",
   "metadata": {},
   "outputs": [],
   "source": [
    "def process_ds_element(x):\n",
    "    return (tf.cast(x[:-1], 'float32'), tf.cast(x[-1], 'int32'))"
   ]
  },
  {
   "cell_type": "code",
   "execution_count": 29,
   "id": "90f93e69",
   "metadata": {},
   "outputs": [],
   "source": [
    "def get_dataset(num_games):\n",
    "    tmp = []\n",
    "    with open('data/matches/diamond_training_data.txt', 'r') as f:\n",
    "        matches = f.read().split('\\n')\n",
    "        num_games = min(len(matches), num_games)\n",
    "        for i in range(num_games):\n",
    "            try:\n",
    "                tmp.append(process_match(matches[i]))\n",
    "            except:\n",
    "                num_games -= 1\n",
    "    ds = tf.data.Dataset.from_tensor_slices(tmp)\n",
    "    ds = ds.map(process_ds_element)\n",
    "    ds = ds.cache()\n",
    "    ds = ds.shuffle(num_games)\n",
    "    ds = ds.batch(BATCH_SIZE)\n",
    "    ds = ds.prefetch(tf.data.AUTOTUNE)\n",
    "    print(f'Using {num_games} matches for training')\n",
    "    return ds"
   ]
  },
  {
   "cell_type": "code",
   "execution_count": 21,
   "id": "23a73ecc",
   "metadata": {},
   "outputs": [
    {
     "name": "stdout",
     "output_type": "stream",
     "text": [
      "Using 10000 matches for training\n"
     ]
    }
   ],
   "source": [
    "ds = get_dataset(10000)"
   ]
  },
  {
   "cell_type": "code",
   "execution_count": 30,
   "id": "cab9bfdd",
   "metadata": {},
   "outputs": [
    {
     "name": "stdout",
     "output_type": "stream",
     "text": [
      "250 31 32\n"
     ]
    }
   ],
   "source": [
    "# Partition Dataset\n",
    "train_size = int(len(ds)*0.8)\n",
    "val_size = int(len(ds)*0.1)\n",
    "test_size = len(ds) - (train_size + val_size)\n",
    "\n",
    "train = ds.take(train_size)\n",
    "val = ds.skip(train_size).take(val_size)\n",
    "test = ds.skip(train_size+val_size).take(test_size)\n",
    "print(train_size, val_size, test_size)"
   ]
  },
  {
   "cell_type": "code",
   "execution_count": 37,
   "id": "a19b79f9",
   "metadata": {},
   "outputs": [],
   "source": [
    "def create_model():\n",
    "    model = keras.Sequential()\n",
    "    model.add(layers.Dense(128, activation='relu', input_dim=170))\n",
    "    model.add(layers.Dense(64, activation='relu'))\n",
    "    model.add(layers.Dense(16, activation='relu'))\n",
    "    model.add(layers.Dense(1))\n",
    "    return model"
   ]
  },
  {
   "cell_type": "code",
   "execution_count": 38,
   "id": "690fbae5",
   "metadata": {},
   "outputs": [],
   "source": [
    "model = create_model()"
   ]
  },
  {
   "cell_type": "code",
   "execution_count": 39,
   "id": "67e1953a",
   "metadata": {},
   "outputs": [
    {
     "name": "stdout",
     "output_type": "stream",
     "text": [
      "Model: \"sequential_1\"\n",
      "_________________________________________________________________\n",
      " Layer (type)                Output Shape              Param #   \n",
      "=================================================================\n",
      " dense_4 (Dense)             (None, 128)               21888     \n",
      "                                                                 \n",
      " dense_5 (Dense)             (None, 64)                8256      \n",
      "                                                                 \n",
      " dense_6 (Dense)             (None, 16)                1040      \n",
      "                                                                 \n",
      " dense_7 (Dense)             (None, 1)                 17        \n",
      "                                                                 \n",
      "=================================================================\n",
      "Total params: 31,201\n",
      "Trainable params: 31,201\n",
      "Non-trainable params: 0\n",
      "_________________________________________________________________\n"
     ]
    }
   ],
   "source": [
    "model.summary()"
   ]
  },
  {
   "cell_type": "code",
   "execution_count": 40,
   "id": "b5cf7424",
   "metadata": {},
   "outputs": [],
   "source": [
    "loss = losses.BinaryCrossentropy(from_logits=True)\n",
    "optimizer = optimizers.Adam(learning_rate=LR)\n",
    "model.compile(loss=loss, optimizer=optimizer, metrics=[tf.metrics.BinaryAccuracy(threshold=0.0)])"
   ]
  },
  {
   "cell_type": "code",
   "execution_count": 41,
   "id": "daff853a",
   "metadata": {
    "scrolled": true
   },
   "outputs": [
    {
     "name": "stdout",
     "output_type": "stream",
     "text": [
      "Epoch 1/100\n",
      "250/250 [==============================] - 0s 968us/step - loss: 0.6965 - binary_accuracy: 0.5016 - val_loss: 0.6919 - val_binary_accuracy: 0.5222\n",
      "Epoch 2/100\n",
      "250/250 [==============================] - 0s 771us/step - loss: 0.6931 - binary_accuracy: 0.5196 - val_loss: 0.6926 - val_binary_accuracy: 0.5212\n",
      "Epoch 3/100\n",
      "250/250 [==============================] - 0s 803us/step - loss: 0.6905 - binary_accuracy: 0.5281 - val_loss: 0.6825 - val_binary_accuracy: 0.5635\n",
      "Epoch 4/100\n",
      "250/250 [==============================] - 0s 783us/step - loss: 0.6888 - binary_accuracy: 0.5357 - val_loss: 0.6908 - val_binary_accuracy: 0.5312\n",
      "Epoch 5/100\n",
      "250/250 [==============================] - 0s 771us/step - loss: 0.6890 - binary_accuracy: 0.5403 - val_loss: 0.6857 - val_binary_accuracy: 0.5534\n",
      "Epoch 6/100\n",
      "250/250 [==============================] - 0s 763us/step - loss: 0.6868 - binary_accuracy: 0.5499 - val_loss: 0.6845 - val_binary_accuracy: 0.5726\n",
      "Epoch 7/100\n",
      "250/250 [==============================] - 0s 767us/step - loss: 0.6857 - binary_accuracy: 0.5505 - val_loss: 0.6832 - val_binary_accuracy: 0.5675\n",
      "Epoch 8/100\n",
      "250/250 [==============================] - 0s 767us/step - loss: 0.6844 - binary_accuracy: 0.5543 - val_loss: 0.6783 - val_binary_accuracy: 0.5685\n",
      "Epoch 9/100\n",
      "250/250 [==============================] - 0s 767us/step - loss: 0.6830 - binary_accuracy: 0.5664 - val_loss: 0.6750 - val_binary_accuracy: 0.6008\n",
      "Epoch 10/100\n",
      "250/250 [==============================] - 0s 847us/step - loss: 0.6816 - binary_accuracy: 0.5671 - val_loss: 0.6780 - val_binary_accuracy: 0.5917\n",
      "Epoch 11/100\n",
      "250/250 [==============================] - 0s 775us/step - loss: 0.6790 - binary_accuracy: 0.5769 - val_loss: 0.6794 - val_binary_accuracy: 0.5675\n",
      "Epoch 12/100\n",
      "250/250 [==============================] - 0s 791us/step - loss: 0.6782 - binary_accuracy: 0.5825 - val_loss: 0.6758 - val_binary_accuracy: 0.5766\n",
      "Epoch 13/100\n",
      "250/250 [==============================] - 0s 779us/step - loss: 0.6772 - binary_accuracy: 0.5813 - val_loss: 0.6719 - val_binary_accuracy: 0.5786\n",
      "Epoch 14/100\n",
      "250/250 [==============================] - 0s 775us/step - loss: 0.6753 - binary_accuracy: 0.5850 - val_loss: 0.6748 - val_binary_accuracy: 0.5968\n",
      "Epoch 15/100\n",
      "250/250 [==============================] - 0s 815us/step - loss: 0.6711 - binary_accuracy: 0.6001 - val_loss: 0.6681 - val_binary_accuracy: 0.6139\n",
      "Epoch 16/100\n",
      "250/250 [==============================] - 0s 791us/step - loss: 0.6720 - binary_accuracy: 0.5947 - val_loss: 0.6650 - val_binary_accuracy: 0.6089\n",
      "Epoch 17/100\n",
      "250/250 [==============================] - 0s 847us/step - loss: 0.6690 - binary_accuracy: 0.6075 - val_loss: 0.6617 - val_binary_accuracy: 0.6179\n",
      "Epoch 18/100\n",
      "250/250 [==============================] - 0s 803us/step - loss: 0.6671 - binary_accuracy: 0.6068 - val_loss: 0.6629 - val_binary_accuracy: 0.6200\n",
      "Epoch 19/100\n",
      "250/250 [==============================] - 0s 795us/step - loss: 0.6646 - binary_accuracy: 0.6134 - val_loss: 0.6723 - val_binary_accuracy: 0.5827\n",
      "Epoch 20/100\n",
      "250/250 [==============================] - 0s 755us/step - loss: 0.6633 - binary_accuracy: 0.6150 - val_loss: 0.6625 - val_binary_accuracy: 0.5998\n",
      "Epoch 21/100\n",
      "250/250 [==============================] - 0s 763us/step - loss: 0.6597 - binary_accuracy: 0.6192 - val_loss: 0.6562 - val_binary_accuracy: 0.6462\n",
      "Epoch 22/100\n",
      "250/250 [==============================] - 0s 755us/step - loss: 0.6591 - binary_accuracy: 0.6201 - val_loss: 0.6530 - val_binary_accuracy: 0.6250\n",
      "Epoch 23/100\n",
      "250/250 [==============================] - 0s 775us/step - loss: 0.6540 - binary_accuracy: 0.6327 - val_loss: 0.6537 - val_binary_accuracy: 0.6371\n",
      "Epoch 24/100\n",
      "250/250 [==============================] - 0s 747us/step - loss: 0.6521 - binary_accuracy: 0.6342 - val_loss: 0.6424 - val_binary_accuracy: 0.6613\n",
      "Epoch 25/100\n",
      "250/250 [==============================] - 0s 767us/step - loss: 0.6483 - binary_accuracy: 0.6396 - val_loss: 0.6379 - val_binary_accuracy: 0.6472\n",
      "Epoch 26/100\n",
      "250/250 [==============================] - 0s 771us/step - loss: 0.6453 - binary_accuracy: 0.6414 - val_loss: 0.6386 - val_binary_accuracy: 0.6573\n",
      "Epoch 27/100\n",
      "250/250 [==============================] - 0s 758us/step - loss: 0.6432 - binary_accuracy: 0.6445 - val_loss: 0.6321 - val_binary_accuracy: 0.6683\n",
      "Epoch 28/100\n",
      "250/250 [==============================] - 0s 763us/step - loss: 0.6386 - binary_accuracy: 0.6496 - val_loss: 0.6311 - val_binary_accuracy: 0.6744\n",
      "Epoch 29/100\n",
      "250/250 [==============================] - 0s 791us/step - loss: 0.6346 - binary_accuracy: 0.6525 - val_loss: 0.6297 - val_binary_accuracy: 0.6754\n",
      "Epoch 30/100\n",
      "250/250 [==============================] - 0s 771us/step - loss: 0.6321 - binary_accuracy: 0.6575 - val_loss: 0.6220 - val_binary_accuracy: 0.6804\n",
      "Epoch 31/100\n",
      "250/250 [==============================] - 0s 766us/step - loss: 0.6275 - binary_accuracy: 0.6600 - val_loss: 0.6290 - val_binary_accuracy: 0.6734\n",
      "Epoch 32/100\n",
      "250/250 [==============================] - 0s 787us/step - loss: 0.6223 - binary_accuracy: 0.6737 - val_loss: 0.6214 - val_binary_accuracy: 0.6633\n",
      "Epoch 33/100\n",
      "250/250 [==============================] - 0s 779us/step - loss: 0.6189 - binary_accuracy: 0.6683 - val_loss: 0.6166 - val_binary_accuracy: 0.6724\n",
      "Epoch 34/100\n",
      "250/250 [==============================] - 0s 771us/step - loss: 0.6141 - binary_accuracy: 0.6830 - val_loss: 0.6126 - val_binary_accuracy: 0.6784\n",
      "Epoch 35/100\n",
      "250/250 [==============================] - 0s 791us/step - loss: 0.6072 - binary_accuracy: 0.6870 - val_loss: 0.5947 - val_binary_accuracy: 0.7097\n",
      "Epoch 36/100\n",
      "250/250 [==============================] - 0s 779us/step - loss: 0.6032 - binary_accuracy: 0.6921 - val_loss: 0.6023 - val_binary_accuracy: 0.6764\n",
      "Epoch 37/100\n",
      "250/250 [==============================] - 0s 783us/step - loss: 0.5994 - binary_accuracy: 0.6930 - val_loss: 0.5965 - val_binary_accuracy: 0.7087\n",
      "Epoch 38/100\n",
      "250/250 [==============================] - 0s 783us/step - loss: 0.5954 - binary_accuracy: 0.6989 - val_loss: 0.5969 - val_binary_accuracy: 0.6915\n",
      "Epoch 39/100\n",
      "250/250 [==============================] - 0s 763us/step - loss: 0.5919 - binary_accuracy: 0.7000 - val_loss: 0.5783 - val_binary_accuracy: 0.7077\n",
      "Epoch 40/100\n",
      "250/250 [==============================] - 0s 783us/step - loss: 0.5880 - binary_accuracy: 0.6990 - val_loss: 0.5621 - val_binary_accuracy: 0.7329\n",
      "Epoch 41/100\n",
      "250/250 [==============================] - 0s 767us/step - loss: 0.5832 - binary_accuracy: 0.7085 - val_loss: 0.5699 - val_binary_accuracy: 0.7308\n",
      "Epoch 42/100\n",
      "250/250 [==============================] - 0s 789us/step - loss: 0.5742 - binary_accuracy: 0.7124 - val_loss: 0.5632 - val_binary_accuracy: 0.7258\n",
      "Epoch 43/100\n",
      "250/250 [==============================] - 0s 779us/step - loss: 0.5710 - binary_accuracy: 0.7166 - val_loss: 0.5637 - val_binary_accuracy: 0.7177\n",
      "Epoch 44/100\n",
      "250/250 [==============================] - 0s 755us/step - loss: 0.5656 - binary_accuracy: 0.7171 - val_loss: 0.5717 - val_binary_accuracy: 0.7127\n",
      "Epoch 45/100\n",
      "250/250 [==============================] - 0s 783us/step - loss: 0.5617 - binary_accuracy: 0.7229 - val_loss: 0.5611 - val_binary_accuracy: 0.7369\n",
      "Epoch 46/100\n",
      "250/250 [==============================] - 0s 771us/step - loss: 0.5573 - binary_accuracy: 0.7266 - val_loss: 0.5561 - val_binary_accuracy: 0.7349\n",
      "Epoch 47/100\n",
      "250/250 [==============================] - 0s 771us/step - loss: 0.5534 - binary_accuracy: 0.7303 - val_loss: 0.5433 - val_binary_accuracy: 0.7429\n",
      "Epoch 48/100\n",
      "250/250 [==============================] - 0s 771us/step - loss: 0.5466 - binary_accuracy: 0.7318 - val_loss: 0.5367 - val_binary_accuracy: 0.7419\n",
      "Epoch 49/100\n",
      "250/250 [==============================] - 0s 759us/step - loss: 0.5420 - binary_accuracy: 0.7408 - val_loss: 0.5532 - val_binary_accuracy: 0.7177\n",
      "Epoch 50/100\n",
      "250/250 [==============================] - 0s 767us/step - loss: 0.5370 - binary_accuracy: 0.7394 - val_loss: 0.5243 - val_binary_accuracy: 0.7510\n",
      "Epoch 51/100\n",
      "250/250 [==============================] - 0s 783us/step - loss: 0.5284 - binary_accuracy: 0.7495 - val_loss: 0.5310 - val_binary_accuracy: 0.7308\n",
      "Epoch 52/100\n"
     ]
    },
    {
     "name": "stdout",
     "output_type": "stream",
     "text": [
      "250/250 [==============================] - 0s 791us/step - loss: 0.5290 - binary_accuracy: 0.7475 - val_loss: 0.5235 - val_binary_accuracy: 0.7460\n",
      "Epoch 53/100\n",
      "250/250 [==============================] - 0s 763us/step - loss: 0.5174 - binary_accuracy: 0.7604 - val_loss: 0.5167 - val_binary_accuracy: 0.7722\n",
      "Epoch 54/100\n",
      "250/250 [==============================] - 0s 787us/step - loss: 0.5161 - binary_accuracy: 0.7606 - val_loss: 0.5001 - val_binary_accuracy: 0.7611\n",
      "Epoch 55/100\n",
      "250/250 [==============================] - 0s 775us/step - loss: 0.5118 - binary_accuracy: 0.7584 - val_loss: 0.5079 - val_binary_accuracy: 0.7692\n",
      "Epoch 56/100\n",
      "250/250 [==============================] - 0s 775us/step - loss: 0.5056 - binary_accuracy: 0.7654 - val_loss: 0.5044 - val_binary_accuracy: 0.7772\n",
      "Epoch 57/100\n",
      "250/250 [==============================] - 0s 771us/step - loss: 0.4984 - binary_accuracy: 0.7695 - val_loss: 0.4912 - val_binary_accuracy: 0.7853\n",
      "Epoch 58/100\n",
      "250/250 [==============================] - 0s 771us/step - loss: 0.4887 - binary_accuracy: 0.7769 - val_loss: 0.4935 - val_binary_accuracy: 0.7802\n",
      "Epoch 59/100\n",
      "250/250 [==============================] - 0s 771us/step - loss: 0.4887 - binary_accuracy: 0.7784 - val_loss: 0.4812 - val_binary_accuracy: 0.7903\n",
      "Epoch 60/100\n",
      "250/250 [==============================] - 0s 787us/step - loss: 0.4818 - binary_accuracy: 0.7806 - val_loss: 0.4792 - val_binary_accuracy: 0.7903\n",
      "Epoch 61/100\n",
      "250/250 [==============================] - 0s 783us/step - loss: 0.4804 - binary_accuracy: 0.7804 - val_loss: 0.4581 - val_binary_accuracy: 0.7984\n",
      "Epoch 62/100\n",
      "250/250 [==============================] - 0s 771us/step - loss: 0.4732 - binary_accuracy: 0.7884 - val_loss: 0.4613 - val_binary_accuracy: 0.7923\n",
      "Epoch 63/100\n",
      "250/250 [==============================] - 0s 795us/step - loss: 0.4675 - binary_accuracy: 0.7912 - val_loss: 0.4716 - val_binary_accuracy: 0.7792\n",
      "Epoch 64/100\n",
      "250/250 [==============================] - 0s 783us/step - loss: 0.4613 - binary_accuracy: 0.7909 - val_loss: 0.4352 - val_binary_accuracy: 0.8236\n",
      "Epoch 65/100\n",
      "250/250 [==============================] - 0s 771us/step - loss: 0.4567 - binary_accuracy: 0.7956 - val_loss: 0.4476 - val_binary_accuracy: 0.8145\n",
      "Epoch 66/100\n",
      "250/250 [==============================] - 0s 775us/step - loss: 0.4517 - binary_accuracy: 0.7971 - val_loss: 0.4390 - val_binary_accuracy: 0.8165\n",
      "Epoch 67/100\n",
      "250/250 [==============================] - 0s 783us/step - loss: 0.4426 - binary_accuracy: 0.8064 - val_loss: 0.4390 - val_binary_accuracy: 0.8196\n",
      "Epoch 68/100\n",
      "250/250 [==============================] - 0s 795us/step - loss: 0.4388 - binary_accuracy: 0.8084 - val_loss: 0.4282 - val_binary_accuracy: 0.8236\n",
      "Epoch 69/100\n",
      "250/250 [==============================] - 0s 775us/step - loss: 0.4350 - binary_accuracy: 0.8115 - val_loss: 0.4202 - val_binary_accuracy: 0.8407\n",
      "Epoch 70/100\n",
      "250/250 [==============================] - 0s 767us/step - loss: 0.4305 - binary_accuracy: 0.8124 - val_loss: 0.4094 - val_binary_accuracy: 0.8236\n",
      "Epoch 71/100\n",
      "250/250 [==============================] - 0s 775us/step - loss: 0.4272 - binary_accuracy: 0.8140 - val_loss: 0.4195 - val_binary_accuracy: 0.8256\n",
      "Epoch 72/100\n",
      "250/250 [==============================] - 0s 775us/step - loss: 0.4228 - binary_accuracy: 0.8163 - val_loss: 0.4056 - val_binary_accuracy: 0.8196\n",
      "Epoch 73/100\n",
      "250/250 [==============================] - 0s 775us/step - loss: 0.4159 - binary_accuracy: 0.8196 - val_loss: 0.4275 - val_binary_accuracy: 0.8165\n",
      "Epoch 74/100\n",
      "250/250 [==============================] - 0s 771us/step - loss: 0.4025 - binary_accuracy: 0.8310 - val_loss: 0.4022 - val_binary_accuracy: 0.8427\n",
      "Epoch 75/100\n",
      "250/250 [==============================] - 0s 783us/step - loss: 0.4042 - binary_accuracy: 0.8295 - val_loss: 0.4070 - val_binary_accuracy: 0.8367\n",
      "Epoch 76/100\n",
      "250/250 [==============================] - 0s 779us/step - loss: 0.3989 - binary_accuracy: 0.8322 - val_loss: 0.3973 - val_binary_accuracy: 0.8327\n",
      "Epoch 77/100\n",
      "250/250 [==============================] - 0s 775us/step - loss: 0.3898 - binary_accuracy: 0.8364 - val_loss: 0.3981 - val_binary_accuracy: 0.8357\n",
      "Epoch 78/100\n",
      "250/250 [==============================] - 0s 783us/step - loss: 0.3922 - binary_accuracy: 0.8338 - val_loss: 0.3657 - val_binary_accuracy: 0.8548\n",
      "Epoch 79/100\n",
      "250/250 [==============================] - 0s 799us/step - loss: 0.3838 - binary_accuracy: 0.8428 - val_loss: 0.3684 - val_binary_accuracy: 0.8629\n",
      "Epoch 80/100\n",
      "250/250 [==============================] - 0s 783us/step - loss: 0.3771 - binary_accuracy: 0.8464 - val_loss: 0.3861 - val_binary_accuracy: 0.8357\n",
      "Epoch 81/100\n",
      "250/250 [==============================] - 0s 775us/step - loss: 0.3695 - binary_accuracy: 0.8480 - val_loss: 0.3523 - val_binary_accuracy: 0.8750\n",
      "Epoch 82/100\n",
      "250/250 [==============================] - 0s 791us/step - loss: 0.3709 - binary_accuracy: 0.8449 - val_loss: 0.3673 - val_binary_accuracy: 0.8548\n",
      "Epoch 83/100\n",
      "250/250 [==============================] - 0s 783us/step - loss: 0.3627 - binary_accuracy: 0.8531 - val_loss: 0.3431 - val_binary_accuracy: 0.8740\n",
      "Epoch 84/100\n",
      "250/250 [==============================] - 0s 791us/step - loss: 0.3594 - binary_accuracy: 0.8511 - val_loss: 0.3508 - val_binary_accuracy: 0.8528\n",
      "Epoch 85/100\n",
      "250/250 [==============================] - 0s 787us/step - loss: 0.3508 - binary_accuracy: 0.8595 - val_loss: 0.3303 - val_binary_accuracy: 0.8669\n",
      "Epoch 86/100\n",
      "250/250 [==============================] - 0s 771us/step - loss: 0.3471 - binary_accuracy: 0.8616 - val_loss: 0.3450 - val_binary_accuracy: 0.8558\n",
      "Epoch 87/100\n",
      "250/250 [==============================] - 0s 775us/step - loss: 0.3453 - binary_accuracy: 0.8633 - val_loss: 0.3259 - val_binary_accuracy: 0.8780\n",
      "Epoch 88/100\n",
      "250/250 [==============================] - 0s 779us/step - loss: 0.3340 - binary_accuracy: 0.8676 - val_loss: 0.3159 - val_binary_accuracy: 0.8831\n",
      "Epoch 89/100\n",
      "250/250 [==============================] - 0s 767us/step - loss: 0.3332 - binary_accuracy: 0.8706 - val_loss: 0.3246 - val_binary_accuracy: 0.8770\n",
      "Epoch 90/100\n",
      "250/250 [==============================] - 0s 775us/step - loss: 0.3262 - binary_accuracy: 0.8736 - val_loss: 0.3194 - val_binary_accuracy: 0.8881\n",
      "Epoch 91/100\n",
      "250/250 [==============================] - 0s 783us/step - loss: 0.3168 - binary_accuracy: 0.8790 - val_loss: 0.2812 - val_binary_accuracy: 0.9123\n",
      "Epoch 92/100\n",
      "250/250 [==============================] - 0s 773us/step - loss: 0.3169 - binary_accuracy: 0.8758 - val_loss: 0.3046 - val_binary_accuracy: 0.8821\n",
      "Epoch 93/100\n",
      "250/250 [==============================] - 0s 775us/step - loss: 0.3088 - binary_accuracy: 0.8810 - val_loss: 0.2875 - val_binary_accuracy: 0.9042\n",
      "Epoch 94/100\n",
      "250/250 [==============================] - 0s 783us/step - loss: 0.3071 - binary_accuracy: 0.8867 - val_loss: 0.2970 - val_binary_accuracy: 0.8911\n",
      "Epoch 95/100\n",
      "250/250 [==============================] - 0s 771us/step - loss: 0.2983 - binary_accuracy: 0.8867 - val_loss: 0.3000 - val_binary_accuracy: 0.8952\n",
      "Epoch 96/100\n",
      "250/250 [==============================] - 0s 775us/step - loss: 0.2980 - binary_accuracy: 0.8916 - val_loss: 0.2927 - val_binary_accuracy: 0.8942\n",
      "Epoch 97/100\n",
      "250/250 [==============================] - 0s 771us/step - loss: 0.2908 - binary_accuracy: 0.8949 - val_loss: 0.3006 - val_binary_accuracy: 0.8770\n",
      "Epoch 98/100\n",
      "250/250 [==============================] - 0s 771us/step - loss: 0.2831 - binary_accuracy: 0.8989 - val_loss: 0.2728 - val_binary_accuracy: 0.9022\n",
      "Epoch 99/100\n",
      "250/250 [==============================] - 0s 771us/step - loss: 0.2855 - binary_accuracy: 0.8939 - val_loss: 0.2533 - val_binary_accuracy: 0.9173\n",
      "Epoch 100/100\n",
      "250/250 [==============================] - 0s 775us/step - loss: 0.2774 - binary_accuracy: 0.8985 - val_loss: 0.2423 - val_binary_accuracy: 0.9062\n"
     ]
    }
   ],
   "source": [
    "history = model.fit(train, validation_data=val, epochs=100)"
   ]
  },
  {
   "cell_type": "code",
   "execution_count": 43,
   "id": "35b77552",
   "metadata": {},
   "outputs": [],
   "source": [
    "history_dict = history.history"
   ]
  },
  {
   "cell_type": "code",
   "execution_count": 44,
   "id": "915e09fe",
   "metadata": {},
   "outputs": [
    {
     "data": {
      "text/plain": [
       "dict_keys(['loss', 'binary_accuracy', 'val_loss', 'val_binary_accuracy'])"
      ]
     },
     "execution_count": 44,
     "metadata": {},
     "output_type": "execute_result"
    }
   ],
   "source": [
    "history_dict.keys()"
   ]
  },
  {
   "cell_type": "code",
   "execution_count": 45,
   "id": "b9f8ca54",
   "metadata": {},
   "outputs": [
    {
     "data": {
      "image/png": "[encoded data removed]",
      "text/plain": [
       "<Figure size 500x500 with 1 Axes>"
      ]
     },
     "metadata": {},
     "output_type": "display_data"
    }
   ],
   "source": [
    "plt.figure(figsize=(5, 5))\n",
    "plt.plot(history_dict['loss'], label='Training Loss')\n",
    "plt.plot(history_dict['val_loss'], label='Validation Loss')\n",
    "plt.title('Training and Validation Loss')\n",
    "plt.xlabel('Epochs')\n",
    "plt.xscale('log')\n",
    "plt.ylabel('Loss')\n",
    "plt.legend()\n",
    "plt.show()"
   ]
  },
  {
   "cell_type": "code",
   "execution_count": 46,
   "id": "0f63411e",
   "metadata": {},
   "outputs": [
    {
     "data": {
      "image/png": "[encoded data removed]",
      "text/plain": [
       "<Figure size 500x500 with 1 Axes>"
      ]
     },
     "metadata": {},
     "output_type": "display_data"
    }
   ],
   "source": [
    "plt.figure(figsize=(5, 5))\n",
    "plt.plot(history_dict['binary_accuracy'], label='Training Accuracy')\n",
    "plt.plot(history_dict['val_binary_accuracy'], label='Validation Accuracy')\n",
    "plt.title('Training and Validation Accuracy')\n",
    "plt.xlabel('Epochs')\n",
    "plt.xscale('log')\n",
    "plt.ylabel('Accuracy')\n",
    "plt.legend()\n",
    "plt.show()"
   ]
  },
  {
   "cell_type": "code",
   "execution_count": 47,
   "id": "a5084eaa",
   "metadata": {},
   "outputs": [
    {
     "name": "stdout",
     "output_type": "stream",
     "text": [
      "32/32 [==============================] - 0s 516us/step - loss: 0.2741 - binary_accuracy: 0.9067\n",
      "Loss: 0.27406951785087585\n",
      "Accuracy: 0.9067460298538208\n"
     ]
    }
   ],
   "source": [
    "loss, accuracy = model.evaluate(test)\n",
    "print('Loss:', loss)\n",
    "print('Accuracy:', accuracy)"
   ]
  },
  {
   "cell_type": "code",
   "execution_count": null,
   "id": "ae014f9d",
   "metadata": {},
   "outputs": [],
   "source": [
    "# Save the model\n",
    "export_model = tf.keras.Sequential([\n",
    "    model,\n",
    "    tf.keras.layers.Activation('sigmoid')\n",
    "])"
   ]
  },
  {
   "cell_type": "code",
   "execution_count": 36,
   "id": "583ff84d",
   "metadata": {},
   "outputs": [
    {
     "name": "stdout",
     "output_type": "stream",
     "text": [
      "WARNING:tensorflow:Compiled the loaded model, but the compiled metrics have yet to be built. `model.compile_metrics` will be empty until you train or evaluate the model.\n"
     ]
    }
   ],
   "source": [
    "tfjs.converters.save_keras_model(export_model, 'winpredictor/public/models/master')"
   ]
  }
 ],
 "metadata": {
  "kernelspec": {
   "display_name": "Python 3 (ipykernel)",
   "language": "python",
   "name": "python3"
  },
  "language_info": {
   "codemirror_mode": {
    "name": "ipython",
    "version": 3
   },
   "file_extension": ".py",
   "mimetype": "text/x-python",
   "name": "python",
   "nbconvert_exporter": "python",
   "pygments_lexer": "ipython3",
   "version": "3.10.9"
  }
 },
 "nbformat": 4,
 "nbformat_minor": 5
}
