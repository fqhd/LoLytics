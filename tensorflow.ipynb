{
 "cells": [
  {
   "cell_type": "code",
   "execution_count": null,
   "id": "945692de",
   "metadata": {},
   "outputs": [],
   "source": [
    "import tensorflow as tf\n",
    "import matplotlib.pyplot as plt\n",
    "import numpy as np\n",
    "import pandas as pd\n",
    "from tensorflow import keras\n",
    "from tensorflow.keras import layers\n",
    "from tensorflow.keras import optimizers\n",
    "from tensorflow.keras import losses\n",
    "import os\n",
    "import pickle\n",
    "from keras_tuner.tuners import RandomSearch\n",
    "os.environ['CUDA_VISIBLE_DEVICES'] = '-1'\n",
    "print(tf.config.list_physical_devices('GPU'))"
   ]
  },
  {
   "cell_type": "code",
   "execution_count": null,
   "id": "0397f3eb",
   "metadata": {},
   "outputs": [],
   "source": [
    "# Constants\n",
    "BATCH_SIZE = 32\n",
    "LR = 1e-4"
   ]
  },
  {
   "cell_type": "code",
   "execution_count": null,
   "id": "90f93e69",
   "metadata": {},
   "outputs": [],
   "source": [
    "# Load training data\n",
    "with open('data/matches/diamond.ds', 'rb') as f:\n",
    "    training_data = pickle.load(f)"
   ]
  },
  {
   "cell_type": "code",
   "execution_count": null,
   "id": "cab9bfdd",
   "metadata": {},
   "outputs": [],
   "source": [
    "# Partition Dataset\n",
    "train_len = int(training_data[0].shape[0] * 0.9)\n",
    "\n",
    "train_x = training_data[0][:train_len]\n",
    "train_y = training_data[1][:train_len]\n",
    "\n",
    "test_x = training_data[0][train_len:]\n",
    "test_y = training_data[1][train_len:]"
   ]
  },
  {
   "cell_type": "code",
   "execution_count": null,
   "id": "a19b79f9",
   "metadata": {},
   "outputs": [],
   "source": [
    "def model_builder(hp):\n",
    "    model = keras.Sequential()\n",
    "    for i in range(hp.Int('layers', 4, 12)):\n",
    "        model.add(layers.Dense(\n",
    "            units=hp.Int('units_'+str(i), 50, 1000, step=100),\n",
    "            activation=hp.Choice('act_'+str(i), ['relu', 'elu', 'selu'])))\n",
    "    model.add(tf.keras.layers.Dense(1))\n",
    "    \n",
    "    loss = losses.MeanAbsoluteError()\n",
    "    optimizer = optimizers.Adam(learning_rate=hp.Choice('learning_rate', values=[1e-2, 1e-4]))\n",
    "    model.compile(loss=loss, optimizer=optimizer)\n",
    "    return model"
   ]
  },
  {
   "cell_type": "code",
   "execution_count": null,
   "id": "2c09f6cd",
   "metadata": {},
   "outputs": [],
   "source": [
    "tuner = RandomSearch(\n",
    "    model_builder,\n",
    "    objective='val_loss',\n",
    "    max_trials=100,\n",
    "    executions_per_trial=1,\n",
    "    directory='checkpoints',\n",
    "    project_name='winpredictor'\n",
    ")"
   ]
  },
  {
   "cell_type": "code",
   "execution_count": null,
   "id": "37e90a28",
   "metadata": {},
   "outputs": [],
   "source": [
    "tuner.search_space_summary()"
   ]
  },
  {
   "cell_type": "code",
   "execution_count": null,
   "id": "1792a151",
   "metadata": {},
   "outputs": [],
   "source": [
    "tuner.search(train_x[:10000], train_y[:10000], epochs=5, validation_data=(test_x[:1000], test_y[:1000]))"
   ]
  }
 ],
 "metadata": {
  "kernelspec": {
   "display_name": "Python 3 (ipykernel)",
   "language": "python",
   "name": "python3"
  },
  "language_info": {
   "codemirror_mode": {
    "name": "ipython",
    "version": 3
   },
   "file_extension": ".py",
   "mimetype": "text/x-python",
   "name": "python",
   "nbconvert_exporter": "python",
   "pygments_lexer": "ipython3",
   "version": "3.10.9"
  }
 },
 "nbformat": 4,
 "nbformat_minor": 5
}
