{
 "cells": [
  {
   "cell_type": "code",
   "execution_count": 1,
   "id": "945692de",
   "metadata": {},
   "outputs": [
    {
     "name": "stdout",
     "output_type": "stream",
     "text": [
      "[]\n"
     ]
    }
   ],
   "source": [
    "import tensorflow as tf\n",
    "import matplotlib.pyplot as plt\n",
    "import numpy as np\n",
    "import pandas as pd\n",
    "from tensorflow import keras\n",
    "from tensorflow.keras import layers\n",
    "from tensorflow.keras import optimizers\n",
    "from tensorflow.keras import losses\n",
    "import tensorflowjs as tfjs\n",
    "import os\n",
    "import pickle\n",
    "os.environ['CUDA_VISIBLE_DEVICES'] = '-1'\n",
    "print(tf.config.list_physical_devices('GPU'))"
   ]
  },
  {
   "cell_type": "code",
   "execution_count": 32,
   "id": "0397f3eb",
   "metadata": {},
   "outputs": [],
   "source": [
    "# Constants\n",
    "BATCH_SIZE = 64\n",
    "LR = 1e-4"
   ]
  },
  {
   "cell_type": "code",
   "execution_count": 9,
   "id": "90f93e69",
   "metadata": {},
   "outputs": [],
   "source": [
    "# Load training data\n",
    "with open('data/matches/diamond.ds', 'rb') as f:\n",
    "    training_data = pickle.load(f)"
   ]
  },
  {
   "cell_type": "code",
   "execution_count": 23,
   "id": "cab9bfdd",
   "metadata": {},
   "outputs": [],
   "source": [
    "# Partition Dataset\n",
    "train_len = int(training_data[0].shape[0] * 0.9)\n",
    "\n",
    "train_x = training_data[0][:train_len]\n",
    "train_y = training_data[1][:train_len]\n",
    "\n",
    "test_x = training_data[0][train_len:]\n",
    "test_y = training_data[1][train_len:]"
   ]
  },
  {
   "cell_type": "code",
   "execution_count": 28,
   "id": "a19b79f9",
   "metadata": {},
   "outputs": [],
   "source": [
    "def create_model():\n",
    "    model = keras.Sequential()\n",
    "    model.add(layers.Dense(256, activation='relu', input_dim=170))\n",
    "    model.add(layers.Dense(128, activation='relu'))\n",
    "    model.add(layers.Dense(64, activation='relu'))\n",
    "    model.add(layers.Dense(16, activation='relu'))\n",
    "    model.add(layers.Dense(1))\n",
    "    return model"
   ]
  },
  {
   "cell_type": "code",
   "execution_count": 29,
   "id": "690fbae5",
   "metadata": {},
   "outputs": [],
   "source": [
    "model = create_model()"
   ]
  },
  {
   "cell_type": "code",
   "execution_count": 30,
   "id": "67e1953a",
   "metadata": {},
   "outputs": [
    {
     "name": "stdout",
     "output_type": "stream",
     "text": [
      "Model: \"sequential_1\"\n",
      "_________________________________________________________________\n",
      " Layer (type)                Output Shape              Param #   \n",
      "=================================================================\n",
      " dense_5 (Dense)             (None, 256)               43776     \n",
      "                                                                 \n",
      " dense_6 (Dense)             (None, 128)               32896     \n",
      "                                                                 \n",
      " dense_7 (Dense)             (None, 64)                8256      \n",
      "                                                                 \n",
      " dense_8 (Dense)             (None, 16)                1040      \n",
      "                                                                 \n",
      " dense_9 (Dense)             (None, 1)                 17        \n",
      "                                                                 \n",
      "=================================================================\n",
      "Total params: 85,985\n",
      "Trainable params: 85,985\n",
      "Non-trainable params: 0\n",
      "_________________________________________________________________\n"
     ]
    }
   ],
   "source": [
    "model.summary()"
   ]
  },
  {
   "cell_type": "code",
   "execution_count": 33,
   "id": "b5cf7424",
   "metadata": {},
   "outputs": [],
   "source": [
    "loss = losses.BinaryCrossentropy(from_logits=True)\n",
    "optimizer = optimizers.Adam(learning_rate=LR)\n",
    "model.compile(loss=loss, optimizer=optimizer, metrics=[tf.metrics.BinaryAccuracy()])"
   ]
  },
  {
   "cell_type": "code",
   "execution_count": 34,
   "id": "daff853a",
   "metadata": {
    "scrolled": true
   },
   "outputs": [
    {
     "name": "stdout",
     "output_type": "stream",
     "text": [
      "Epoch 1/200\n",
      "2069/2069 [==============================] - 3s 1ms/step - loss: 0.6933 - binary_accuracy: 0.4963 - val_loss: 0.6928 - val_binary_accuracy: 0.4912\n",
      "Epoch 2/200\n",
      "2069/2069 [==============================] - 2s 975us/step - loss: 0.6919 - binary_accuracy: 0.4963 - val_loss: 0.6925 - val_binary_accuracy: 0.4912\n",
      "Epoch 3/200\n",
      "2069/2069 [==============================] - 2s 965us/step - loss: 0.6911 - binary_accuracy: 0.4964 - val_loss: 0.6930 - val_binary_accuracy: 0.4912\n",
      "Epoch 4/200\n",
      "2069/2069 [==============================] - 2s 962us/step - loss: 0.6902 - binary_accuracy: 0.4966 - val_loss: 0.6931 - val_binary_accuracy: 0.4913\n",
      "Epoch 5/200\n",
      "2069/2069 [==============================] - 2s 975us/step - loss: 0.6888 - binary_accuracy: 0.4971 - val_loss: 0.6924 - val_binary_accuracy: 0.4914\n",
      "Epoch 6/200\n",
      "2069/2069 [==============================] - 2s 964us/step - loss: 0.6874 - binary_accuracy: 0.4985 - val_loss: 0.6933 - val_binary_accuracy: 0.4919\n",
      "Epoch 7/200\n",
      "2069/2069 [==============================] - 2s 986us/step - loss: 0.6855 - binary_accuracy: 0.5012 - val_loss: 0.6938 - val_binary_accuracy: 0.4918\n",
      "Epoch 8/200\n",
      "2069/2069 [==============================] - 2s 976us/step - loss: 0.6831 - binary_accuracy: 0.5064 - val_loss: 0.6962 - val_binary_accuracy: 0.5003\n",
      "Epoch 9/200\n",
      "2069/2069 [==============================] - 2s 977us/step - loss: 0.6801 - binary_accuracy: 0.5120 - val_loss: 0.6963 - val_binary_accuracy: 0.4976\n",
      "Epoch 10/200\n",
      "2069/2069 [==============================] - 2s 989us/step - loss: 0.6769 - binary_accuracy: 0.5192 - val_loss: 0.6989 - val_binary_accuracy: 0.4976\n",
      "Epoch 11/200\n",
      "2069/2069 [==============================] - 2s 965us/step - loss: 0.6731 - binary_accuracy: 0.5271 - val_loss: 0.7013 - val_binary_accuracy: 0.4975\n",
      "Epoch 12/200\n",
      "2069/2069 [==============================] - 2s 968us/step - loss: 0.6693 - binary_accuracy: 0.5379 - val_loss: 0.7045 - val_binary_accuracy: 0.4973\n",
      "Epoch 13/200\n",
      "2069/2069 [==============================] - 2s 979us/step - loss: 0.6651 - binary_accuracy: 0.5449 - val_loss: 0.7057 - val_binary_accuracy: 0.4974\n",
      "Epoch 14/200\n",
      "2069/2069 [==============================] - 2s 977us/step - loss: 0.6599 - binary_accuracy: 0.5566 - val_loss: 0.7157 - val_binary_accuracy: 0.5080\n",
      "Epoch 15/200\n",
      "2069/2069 [==============================] - 2s 959us/step - loss: 0.6545 - binary_accuracy: 0.5662 - val_loss: 0.7173 - val_binary_accuracy: 0.5025\n",
      "Epoch 16/200\n",
      "2069/2069 [==============================] - 2s 964us/step - loss: 0.6492 - binary_accuracy: 0.5760 - val_loss: 0.7238 - val_binary_accuracy: 0.5042\n",
      "Epoch 17/200\n",
      "2069/2069 [==============================] - 2s 990us/step - loss: 0.6435 - binary_accuracy: 0.5854 - val_loss: 0.7246 - val_binary_accuracy: 0.4961\n",
      "Epoch 18/200\n",
      "2069/2069 [==============================] - 2s 984us/step - loss: 0.6379 - binary_accuracy: 0.5937 - val_loss: 0.7334 - val_binary_accuracy: 0.5018\n",
      "Epoch 19/200\n",
      "2069/2069 [==============================] - 2s 966us/step - loss: 0.6322 - binary_accuracy: 0.6019 - val_loss: 0.7364 - val_binary_accuracy: 0.5063\n",
      "Epoch 20/200\n",
      "2069/2069 [==============================] - 2s 973us/step - loss: 0.6260 - binary_accuracy: 0.6092 - val_loss: 0.7387 - val_binary_accuracy: 0.5014\n",
      "Epoch 21/200\n",
      "2069/2069 [==============================] - 2s 963us/step - loss: 0.6198 - binary_accuracy: 0.6192 - val_loss: 0.7456 - val_binary_accuracy: 0.5030\n",
      "Epoch 22/200\n",
      "2069/2069 [==============================] - 2s 973us/step - loss: 0.6137 - binary_accuracy: 0.6261 - val_loss: 0.7523 - val_binary_accuracy: 0.5033\n",
      "Epoch 23/200\n",
      "2069/2069 [==============================] - 2s 994us/step - loss: 0.6075 - binary_accuracy: 0.6344 - val_loss: 0.7663 - val_binary_accuracy: 0.5058\n",
      "Epoch 24/200\n",
      "2069/2069 [==============================] - 2s 975us/step - loss: 0.6014 - binary_accuracy: 0.6410 - val_loss: 0.7706 - val_binary_accuracy: 0.5031\n",
      "Epoch 25/200\n",
      "2069/2069 [==============================] - 2s 970us/step - loss: 0.5949 - binary_accuracy: 0.6476 - val_loss: 0.7768 - val_binary_accuracy: 0.5027\n",
      "Epoch 26/200\n",
      "2069/2069 [==============================] - 2s 962us/step - loss: 0.5894 - binary_accuracy: 0.6533 - val_loss: 0.7842 - val_binary_accuracy: 0.5029\n",
      "Epoch 27/200\n",
      "2069/2069 [==============================] - 2s 969us/step - loss: 0.5831 - binary_accuracy: 0.6607 - val_loss: 0.7903 - val_binary_accuracy: 0.5061\n",
      "Epoch 28/200\n",
      "2069/2069 [==============================] - 2s 966us/step - loss: 0.5765 - binary_accuracy: 0.6671 - val_loss: 0.8043 - val_binary_accuracy: 0.5053\n",
      "Epoch 29/200\n",
      "2069/2069 [==============================] - 2s 969us/step - loss: 0.5703 - binary_accuracy: 0.6734 - val_loss: 0.8137 - val_binary_accuracy: 0.5080\n",
      "Epoch 30/200\n",
      "2069/2069 [==============================] - 2s 966us/step - loss: 0.5645 - binary_accuracy: 0.6791 - val_loss: 0.8277 - val_binary_accuracy: 0.5070\n",
      "Epoch 31/200\n",
      "2069/2069 [==============================] - 2s 969us/step - loss: 0.5577 - binary_accuracy: 0.6847 - val_loss: 0.8309 - val_binary_accuracy: 0.5051\n",
      "Epoch 32/200\n",
      "2069/2069 [==============================] - 2s 969us/step - loss: 0.5517 - binary_accuracy: 0.6906 - val_loss: 0.8419 - val_binary_accuracy: 0.5112\n",
      "Epoch 33/200\n",
      "2069/2069 [==============================] - 2s 966us/step - loss: 0.5463 - binary_accuracy: 0.6949 - val_loss: 0.8347 - val_binary_accuracy: 0.5071\n",
      "Epoch 34/200\n",
      "2069/2069 [==============================] - 2s 972us/step - loss: 0.5397 - binary_accuracy: 0.7014 - val_loss: 0.8689 - val_binary_accuracy: 0.5045\n",
      "Epoch 35/200\n",
      "2069/2069 [==============================] - 2s 971us/step - loss: 0.5344 - binary_accuracy: 0.7056 - val_loss: 0.8564 - val_binary_accuracy: 0.5048\n",
      "Epoch 36/200\n",
      "2069/2069 [==============================] - 2s 980us/step - loss: 0.5282 - binary_accuracy: 0.7111 - val_loss: 0.8750 - val_binary_accuracy: 0.5041\n",
      "Epoch 37/200\n",
      "2069/2069 [==============================] - 2s 989us/step - loss: 0.5228 - binary_accuracy: 0.7140 - val_loss: 0.8875 - val_binary_accuracy: 0.5086\n",
      "Epoch 38/200\n",
      "2069/2069 [==============================] - 2s 991us/step - loss: 0.5164 - binary_accuracy: 0.7191 - val_loss: 0.8945 - val_binary_accuracy: 0.4991\n",
      "Epoch 39/200\n",
      "2069/2069 [==============================] - 2s 997us/step - loss: 0.5105 - binary_accuracy: 0.7242 - val_loss: 0.9217 - val_binary_accuracy: 0.5063\n",
      "Epoch 40/200\n",
      "2069/2069 [==============================] - 2s 1ms/step - loss: 0.5055 - binary_accuracy: 0.7289 - val_loss: 0.9344 - val_binary_accuracy: 0.5065\n",
      "Epoch 41/200\n",
      "2069/2069 [==============================] - 2s 1ms/step - loss: 0.4996 - binary_accuracy: 0.7330 - val_loss: 0.9273 - val_binary_accuracy: 0.5044\n",
      "Epoch 42/200\n",
      "2069/2069 [==============================] - 2s 994us/step - loss: 0.4930 - binary_accuracy: 0.7375 - val_loss: 0.9512 - val_binary_accuracy: 0.5067\n",
      "Epoch 43/200\n",
      "2069/2069 [==============================] - 2s 989us/step - loss: 0.4888 - binary_accuracy: 0.7409 - val_loss: 0.9643 - val_binary_accuracy: 0.5069\n",
      "Epoch 44/200\n",
      "2069/2069 [==============================] - 2s 976us/step - loss: 0.4835 - binary_accuracy: 0.7437 - val_loss: 0.9747 - val_binary_accuracy: 0.5075\n",
      "Epoch 45/200\n",
      "2069/2069 [==============================] - 2s 983us/step - loss: 0.4780 - binary_accuracy: 0.7481 - val_loss: 0.9808 - val_binary_accuracy: 0.5098\n",
      "Epoch 46/200\n",
      "2069/2069 [==============================] - 2s 985us/step - loss: 0.4723 - binary_accuracy: 0.7512 - val_loss: 0.9906 - val_binary_accuracy: 0.5074\n",
      "Epoch 47/200\n",
      "2069/2069 [==============================] - 2s 981us/step - loss: 0.4670 - binary_accuracy: 0.7558 - val_loss: 1.0043 - val_binary_accuracy: 0.5036\n",
      "Epoch 48/200\n",
      "2069/2069 [==============================] - 2s 977us/step - loss: 0.4627 - binary_accuracy: 0.7593 - val_loss: 1.0258 - val_binary_accuracy: 0.5084\n",
      "Epoch 49/200\n",
      "2069/2069 [==============================] - 2s 1ms/step - loss: 0.4567 - binary_accuracy: 0.7635 - val_loss: 1.0345 - val_binary_accuracy: 0.5100\n",
      "Epoch 50/200\n",
      "2069/2069 [==============================] - 2s 982us/step - loss: 0.4514 - binary_accuracy: 0.7671 - val_loss: 1.0424 - val_binary_accuracy: 0.5092\n",
      "Epoch 51/200\n",
      "2069/2069 [==============================] - 2s 983us/step - loss: 0.4475 - binary_accuracy: 0.7692 - val_loss: 1.0548 - val_binary_accuracy: 0.5071\n"
     ]
    },
    {
     "name": "stdout",
     "output_type": "stream",
     "text": [
      "Epoch 52/200\n",
      "2069/2069 [==============================] - 2s 981us/step - loss: 0.4424 - binary_accuracy: 0.7727 - val_loss: 1.0561 - val_binary_accuracy: 0.5056\n",
      "Epoch 53/200\n",
      "2069/2069 [==============================] - 2s 980us/step - loss: 0.4367 - binary_accuracy: 0.7758 - val_loss: 1.0858 - val_binary_accuracy: 0.5088\n",
      "Epoch 54/200\n",
      "2069/2069 [==============================] - 2s 977us/step - loss: 0.4320 - binary_accuracy: 0.7800 - val_loss: 1.0888 - val_binary_accuracy: 0.5086\n",
      "Epoch 55/200\n",
      "2069/2069 [==============================] - 2s 985us/step - loss: 0.4272 - binary_accuracy: 0.7824 - val_loss: 1.0907 - val_binary_accuracy: 0.5107\n",
      "Epoch 56/200\n",
      "2069/2069 [==============================] - 2s 984us/step - loss: 0.4231 - binary_accuracy: 0.7855 - val_loss: 1.1121 - val_binary_accuracy: 0.5111\n",
      "Epoch 57/200\n",
      "2069/2069 [==============================] - 2s 981us/step - loss: 0.4179 - binary_accuracy: 0.7896 - val_loss: 1.1465 - val_binary_accuracy: 0.5063\n",
      "Epoch 58/200\n",
      "2069/2069 [==============================] - 2s 985us/step - loss: 0.4131 - binary_accuracy: 0.7923 - val_loss: 1.1493 - val_binary_accuracy: 0.5097\n",
      "Epoch 59/200\n",
      "2069/2069 [==============================] - 2s 983us/step - loss: 0.4084 - binary_accuracy: 0.7953 - val_loss: 1.1847 - val_binary_accuracy: 0.5056\n",
      "Epoch 60/200\n",
      "2069/2069 [==============================] - 2s 981us/step - loss: 0.4039 - binary_accuracy: 0.7971 - val_loss: 1.1771 - val_binary_accuracy: 0.5053\n",
      "Epoch 61/200\n",
      "2069/2069 [==============================] - 2s 979us/step - loss: 0.3994 - binary_accuracy: 0.8000 - val_loss: 1.2125 - val_binary_accuracy: 0.5063\n",
      "Epoch 62/200\n",
      "2069/2069 [==============================] - 2s 980us/step - loss: 0.3957 - binary_accuracy: 0.8021 - val_loss: 1.2355 - val_binary_accuracy: 0.5076\n",
      "Epoch 63/200\n",
      "2069/2069 [==============================] - 2s 985us/step - loss: 0.3918 - binary_accuracy: 0.8049 - val_loss: 1.2318 - val_binary_accuracy: 0.5065\n",
      "Epoch 64/200\n",
      "2069/2069 [==============================] - 2s 981us/step - loss: 0.3876 - binary_accuracy: 0.8072 - val_loss: 1.2596 - val_binary_accuracy: 0.5060\n",
      "Epoch 65/200\n",
      "2069/2069 [==============================] - 2s 983us/step - loss: 0.3826 - binary_accuracy: 0.8104 - val_loss: 1.2586 - val_binary_accuracy: 0.5082\n",
      "Epoch 66/200\n",
      "2069/2069 [==============================] - 2s 988us/step - loss: 0.3782 - binary_accuracy: 0.8140 - val_loss: 1.3005 - val_binary_accuracy: 0.5097\n",
      "Epoch 67/200\n",
      "2069/2069 [==============================] - 2s 979us/step - loss: 0.3741 - binary_accuracy: 0.8158 - val_loss: 1.3064 - val_binary_accuracy: 0.5075\n",
      "Epoch 68/200\n",
      "2069/2069 [==============================] - 2s 970us/step - loss: 0.3698 - binary_accuracy: 0.8178 - val_loss: 1.3107 - val_binary_accuracy: 0.5065\n",
      "Epoch 69/200\n",
      "2069/2069 [==============================] - 2s 976us/step - loss: 0.3667 - binary_accuracy: 0.8202 - val_loss: 1.2895 - val_binary_accuracy: 0.5077\n",
      "Epoch 70/200\n",
      "2069/2069 [==============================] - 2s 986us/step - loss: 0.3633 - binary_accuracy: 0.8212 - val_loss: 1.3334 - val_binary_accuracy: 0.5114\n",
      "Epoch 71/200\n",
      "2069/2069 [==============================] - 2s 984us/step - loss: 0.3576 - binary_accuracy: 0.8250 - val_loss: 1.4139 - val_binary_accuracy: 0.5089\n",
      "Epoch 72/200\n",
      "2069/2069 [==============================] - 2s 987us/step - loss: 0.3532 - binary_accuracy: 0.8278 - val_loss: 1.3998 - val_binary_accuracy: 0.5065\n",
      "Epoch 73/200\n",
      "2069/2069 [==============================] - 2s 972us/step - loss: 0.3499 - binary_accuracy: 0.8297 - val_loss: 1.3986 - val_binary_accuracy: 0.5089\n",
      "Epoch 74/200\n",
      "2069/2069 [==============================] - 2s 988us/step - loss: 0.3471 - binary_accuracy: 0.8316 - val_loss: 1.4379 - val_binary_accuracy: 0.5076\n",
      "Epoch 75/200\n",
      "2069/2069 [==============================] - 2s 982us/step - loss: 0.3427 - binary_accuracy: 0.8333 - val_loss: 1.4824 - val_binary_accuracy: 0.5116\n",
      "Epoch 76/200\n",
      "2069/2069 [==============================] - 2s 982us/step - loss: 0.3382 - binary_accuracy: 0.8356 - val_loss: 1.4599 - val_binary_accuracy: 0.5055\n",
      "Epoch 77/200\n",
      "2069/2069 [==============================] - 2s 981us/step - loss: 0.3354 - binary_accuracy: 0.8373 - val_loss: 1.4800 - val_binary_accuracy: 0.5077\n",
      "Epoch 78/200\n",
      "2069/2069 [==============================] - 2s 981us/step - loss: 0.3323 - binary_accuracy: 0.8389 - val_loss: 1.5175 - val_binary_accuracy: 0.5069\n",
      "Epoch 79/200\n",
      "2069/2069 [==============================] - 2s 986us/step - loss: 0.3280 - binary_accuracy: 0.8424 - val_loss: 1.5371 - val_binary_accuracy: 0.5063\n",
      "Epoch 80/200\n",
      "2069/2069 [==============================] - 2s 1ms/step - loss: 0.3236 - binary_accuracy: 0.8441 - val_loss: 1.5565 - val_binary_accuracy: 0.5080\n",
      "Epoch 81/200\n",
      "2069/2069 [==============================] - 2s 992us/step - loss: 0.3210 - binary_accuracy: 0.8461 - val_loss: 1.5831 - val_binary_accuracy: 0.5069\n",
      "Epoch 82/200\n",
      "2069/2069 [==============================] - 2s 1ms/step - loss: 0.3171 - binary_accuracy: 0.8476 - val_loss: 1.5838 - val_binary_accuracy: 0.5135\n",
      "Epoch 83/200\n",
      "2069/2069 [==============================] - 2s 1ms/step - loss: 0.3144 - binary_accuracy: 0.8490 - val_loss: 1.6312 - val_binary_accuracy: 0.5071\n",
      "Epoch 84/200\n",
      "2069/2069 [==============================] - 2s 1ms/step - loss: 0.3118 - binary_accuracy: 0.8501 - val_loss: 1.5923 - val_binary_accuracy: 0.5072\n",
      "Epoch 85/200\n",
      "2069/2069 [==============================] - 2s 993us/step - loss: 0.3068 - binary_accuracy: 0.8541 - val_loss: 1.6734 - val_binary_accuracy: 0.5077\n",
      "Epoch 86/200\n",
      "2069/2069 [==============================] - 2s 985us/step - loss: 0.3035 - binary_accuracy: 0.8552 - val_loss: 1.7181 - val_binary_accuracy: 0.5095\n",
      "Epoch 87/200\n",
      "2069/2069 [==============================] - 2s 985us/step - loss: 0.3015 - binary_accuracy: 0.8569 - val_loss: 1.7219 - val_binary_accuracy: 0.5039\n",
      "Epoch 88/200\n",
      "2069/2069 [==============================] - 2s 991us/step - loss: 0.2977 - binary_accuracy: 0.8584 - val_loss: 1.7121 - val_binary_accuracy: 0.5062\n",
      "Epoch 89/200\n",
      "2069/2069 [==============================] - 2s 1ms/step - loss: 0.2954 - binary_accuracy: 0.8597 - val_loss: 1.7185 - val_binary_accuracy: 0.5086\n",
      "Epoch 90/200\n",
      "2069/2069 [==============================] - 2s 1ms/step - loss: 0.2930 - binary_accuracy: 0.8599 - val_loss: 1.7953 - val_binary_accuracy: 0.5101\n",
      "Epoch 91/200\n",
      "2069/2069 [==============================] - 2s 1ms/step - loss: 0.2890 - binary_accuracy: 0.8639 - val_loss: 1.7950 - val_binary_accuracy: 0.5051\n",
      "Epoch 92/200\n",
      "2069/2069 [==============================] - 2s 1ms/step - loss: 0.2868 - binary_accuracy: 0.8637 - val_loss: 1.8252 - val_binary_accuracy: 0.5059\n",
      "Epoch 93/200\n",
      "2069/2069 [==============================] - 2s 1ms/step - loss: 0.2841 - binary_accuracy: 0.8661 - val_loss: 1.7703 - val_binary_accuracy: 0.5028\n",
      "Epoch 94/200\n",
      "2069/2069 [==============================] - 2s 1ms/step - loss: 0.2807 - binary_accuracy: 0.8678 - val_loss: 1.8263 - val_binary_accuracy: 0.5064\n",
      "Epoch 95/200\n",
      "2069/2069 [==============================] - 2s 1ms/step - loss: 0.2798 - binary_accuracy: 0.8677 - val_loss: 1.8736 - val_binary_accuracy: 0.5099\n",
      "Epoch 96/200\n",
      "2069/2069 [==============================] - 2s 1ms/step - loss: 0.2751 - binary_accuracy: 0.8705 - val_loss: 1.8703 - val_binary_accuracy: 0.5094\n",
      "Epoch 97/200\n",
      "2069/2069 [==============================] - 2s 971us/step - loss: 0.2718 - binary_accuracy: 0.8732 - val_loss: 1.9177 - val_binary_accuracy: 0.5056\n",
      "Epoch 98/200\n",
      "2069/2069 [==============================] - 2s 973us/step - loss: 0.2696 - binary_accuracy: 0.8733 - val_loss: 1.9021 - val_binary_accuracy: 0.5113\n",
      "Epoch 99/200\n",
      "2069/2069 [==============================] - 2s 969us/step - loss: 0.2669 - binary_accuracy: 0.8750 - val_loss: 1.9992 - val_binary_accuracy: 0.5077\n",
      "Epoch 100/200\n",
      "2069/2069 [==============================] - 2s 973us/step - loss: 0.2649 - binary_accuracy: 0.8756 - val_loss: 1.9826 - val_binary_accuracy: 0.5063\n",
      "Epoch 101/200\n",
      "2069/2069 [==============================] - 2s 972us/step - loss: 0.2631 - binary_accuracy: 0.8774 - val_loss: 1.9896 - val_binary_accuracy: 0.5108\n",
      "Epoch 102/200\n",
      "2069/2069 [==============================] - 2s 985us/step - loss: 0.2596 - binary_accuracy: 0.8792 - val_loss: 2.0155 - val_binary_accuracy: 0.5077\n"
     ]
    },
    {
     "name": "stdout",
     "output_type": "stream",
     "text": [
      "Epoch 103/200\n",
      "2069/2069 [==============================] - 2s 1ms/step - loss: 0.2572 - binary_accuracy: 0.8797 - val_loss: 2.0093 - val_binary_accuracy: 0.5095\n",
      "Epoch 104/200\n",
      "2069/2069 [==============================] - 2s 1ms/step - loss: 0.2534 - binary_accuracy: 0.8822 - val_loss: 2.2084 - val_binary_accuracy: 0.5086\n",
      "Epoch 105/200\n",
      "2069/2069 [==============================] - 2s 1ms/step - loss: 0.2534 - binary_accuracy: 0.8820 - val_loss: 2.0515 - val_binary_accuracy: 0.5050\n",
      "Epoch 106/200\n",
      "2069/2069 [==============================] - 2s 1ms/step - loss: 0.2498 - binary_accuracy: 0.8841 - val_loss: 2.1529 - val_binary_accuracy: 0.5099\n",
      "Epoch 107/200\n",
      "2069/2069 [==============================] - 2s 973us/step - loss: 0.2470 - binary_accuracy: 0.8850 - val_loss: 2.1605 - val_binary_accuracy: 0.5090\n",
      "Epoch 108/200\n",
      "2069/2069 [==============================] - 2s 1ms/step - loss: 0.2465 - binary_accuracy: 0.8853 - val_loss: 2.1813 - val_binary_accuracy: 0.5112\n",
      "Epoch 109/200\n",
      "2069/2069 [==============================] - 2s 1ms/step - loss: 0.2431 - binary_accuracy: 0.8871 - val_loss: 2.2403 - val_binary_accuracy: 0.5089\n",
      "Epoch 110/200\n",
      "2069/2069 [==============================] - 2s 998us/step - loss: 0.2402 - binary_accuracy: 0.8886 - val_loss: 2.2233 - val_binary_accuracy: 0.5077\n",
      "Epoch 111/200\n",
      "2069/2069 [==============================] - 2s 997us/step - loss: 0.2396 - binary_accuracy: 0.8890 - val_loss: 2.2511 - val_binary_accuracy: 0.5086\n",
      "Epoch 112/200\n",
      "2069/2069 [==============================] - 2s 1ms/step - loss: 0.2377 - binary_accuracy: 0.8901 - val_loss: 2.2684 - val_binary_accuracy: 0.5094\n",
      "Epoch 113/200\n",
      "2069/2069 [==============================] - 2s 975us/step - loss: 0.2340 - binary_accuracy: 0.8914 - val_loss: 2.3595 - val_binary_accuracy: 0.5118\n",
      "Epoch 114/200\n",
      "2069/2069 [==============================] - 2s 1ms/step - loss: 0.2323 - binary_accuracy: 0.8937 - val_loss: 2.3126 - val_binary_accuracy: 0.5105\n",
      "Epoch 115/200\n",
      "2069/2069 [==============================] - 2s 1ms/step - loss: 0.2302 - binary_accuracy: 0.8937 - val_loss: 2.3846 - val_binary_accuracy: 0.5096\n",
      "Epoch 116/200\n",
      "2069/2069 [==============================] - 2s 983us/step - loss: 0.2290 - binary_accuracy: 0.8945 - val_loss: 2.3339 - val_binary_accuracy: 0.5114\n",
      "Epoch 117/200\n",
      "2069/2069 [==============================] - 2s 1ms/step - loss: 0.2257 - binary_accuracy: 0.8961 - val_loss: 2.3603 - val_binary_accuracy: 0.5101\n",
      "Epoch 118/200\n",
      "2069/2069 [==============================] - 2s 1ms/step - loss: 0.2253 - binary_accuracy: 0.8964 - val_loss: 2.4076 - val_binary_accuracy: 0.5098\n",
      "Epoch 119/200\n",
      "2069/2069 [==============================] - 2s 1ms/step - loss: 0.2227 - binary_accuracy: 0.8979 - val_loss: 2.4399 - val_binary_accuracy: 0.5130\n",
      "Epoch 120/200\n",
      "2069/2069 [==============================] - 2s 1ms/step - loss: 0.2200 - binary_accuracy: 0.8997 - val_loss: 2.4247 - val_binary_accuracy: 0.5092\n",
      "Epoch 121/200\n",
      "2069/2069 [==============================] - 2s 1ms/step - loss: 0.2192 - binary_accuracy: 0.8993 - val_loss: 2.4483 - val_binary_accuracy: 0.5083\n",
      "Epoch 122/200\n",
      "2069/2069 [==============================] - 2s 983us/step - loss: 0.2172 - binary_accuracy: 0.8997 - val_loss: 2.4941 - val_binary_accuracy: 0.5097\n",
      "Epoch 123/200\n",
      "2069/2069 [==============================] - 2s 1ms/step - loss: 0.2160 - binary_accuracy: 0.9006 - val_loss: 2.4863 - val_binary_accuracy: 0.5098\n",
      "Epoch 124/200\n",
      "2069/2069 [==============================] - 2s 993us/step - loss: 0.2149 - binary_accuracy: 0.9010 - val_loss: 2.5061 - val_binary_accuracy: 0.5123\n",
      "Epoch 125/200\n",
      "2069/2069 [==============================] - 2s 1ms/step - loss: 0.2119 - binary_accuracy: 0.9039 - val_loss: 2.6294 - val_binary_accuracy: 0.5097\n",
      "Epoch 126/200\n",
      "2069/2069 [==============================] - 2s 983us/step - loss: 0.2090 - binary_accuracy: 0.9040 - val_loss: 2.6141 - val_binary_accuracy: 0.5114\n",
      "Epoch 127/200\n",
      "2069/2069 [==============================] - 2s 997us/step - loss: 0.2077 - binary_accuracy: 0.9053 - val_loss: 2.5705 - val_binary_accuracy: 0.5077\n",
      "Epoch 128/200\n",
      "2069/2069 [==============================] - 2s 1ms/step - loss: 0.2065 - binary_accuracy: 0.9059 - val_loss: 2.6686 - val_binary_accuracy: 0.5092\n",
      "Epoch 129/200\n",
      "2069/2069 [==============================] - 2s 1ms/step - loss: 0.2032 - binary_accuracy: 0.9080 - val_loss: 2.6868 - val_binary_accuracy: 0.5090\n",
      "Epoch 130/200\n",
      "2069/2069 [==============================] - 2s 1ms/step - loss: 0.2054 - binary_accuracy: 0.9069 - val_loss: 2.6499 - val_binary_accuracy: 0.5092\n",
      "Epoch 131/200\n",
      "2069/2069 [==============================] - 2s 1ms/step - loss: 0.2022 - binary_accuracy: 0.9080 - val_loss: 2.6967 - val_binary_accuracy: 0.5105\n",
      "Epoch 132/200\n",
      "2069/2069 [==============================] - 2s 1ms/step - loss: 0.2009 - binary_accuracy: 0.9082 - val_loss: 2.6734 - val_binary_accuracy: 0.5099\n",
      "Epoch 133/200\n",
      "2069/2069 [==============================] - 2s 1ms/step - loss: 0.1986 - binary_accuracy: 0.9100 - val_loss: 2.6787 - val_binary_accuracy: 0.5107\n",
      "Epoch 134/200\n",
      "2069/2069 [==============================] - 2s 1ms/step - loss: 0.1962 - binary_accuracy: 0.9112 - val_loss: 2.7412 - val_binary_accuracy: 0.5145\n",
      "Epoch 135/200\n",
      "2069/2069 [==============================] - 2s 988us/step - loss: 0.1950 - binary_accuracy: 0.9116 - val_loss: 2.9075 - val_binary_accuracy: 0.5131\n",
      "Epoch 136/200\n",
      "2069/2069 [==============================] - 2s 1ms/step - loss: 0.1959 - binary_accuracy: 0.9113 - val_loss: 2.8587 - val_binary_accuracy: 0.5109\n",
      "Epoch 137/200\n",
      "2069/2069 [==============================] - 2s 994us/step - loss: 0.1937 - binary_accuracy: 0.9122 - val_loss: 2.8403 - val_binary_accuracy: 0.5090\n",
      "Epoch 138/200\n",
      "2069/2069 [==============================] - 2s 977us/step - loss: 0.1916 - binary_accuracy: 0.9132 - val_loss: 2.8283 - val_binary_accuracy: 0.5055\n",
      "Epoch 139/200\n",
      "2069/2069 [==============================] - 2s 997us/step - loss: 0.1907 - binary_accuracy: 0.9140 - val_loss: 2.9344 - val_binary_accuracy: 0.5097\n",
      "Epoch 140/200\n",
      "2069/2069 [==============================] - 2s 1ms/step - loss: 0.1888 - binary_accuracy: 0.9151 - val_loss: 2.8515 - val_binary_accuracy: 0.5095\n",
      "Epoch 141/200\n",
      "2069/2069 [==============================] - 2s 994us/step - loss: 0.1885 - binary_accuracy: 0.9152 - val_loss: 2.9352 - val_binary_accuracy: 0.5080\n",
      "Epoch 142/200\n",
      "2069/2069 [==============================] - 2s 982us/step - loss: 0.1858 - binary_accuracy: 0.9160 - val_loss: 2.8652 - val_binary_accuracy: 0.5097\n",
      "Epoch 143/200\n",
      "2069/2069 [==============================] - 2s 984us/step - loss: 0.1848 - binary_accuracy: 0.9162 - val_loss: 2.9606 - val_binary_accuracy: 0.5094\n",
      "Epoch 144/200\n",
      "2069/2069 [==============================] - 2s 992us/step - loss: 0.1820 - binary_accuracy: 0.9185 - val_loss: 2.9115 - val_binary_accuracy: 0.5099\n",
      "Epoch 145/200\n",
      "2069/2069 [==============================] - 2s 1ms/step - loss: 0.1824 - binary_accuracy: 0.9174 - val_loss: 2.9882 - val_binary_accuracy: 0.5097\n",
      "Epoch 146/200\n",
      "2069/2069 [==============================] - 2s 1ms/step - loss: 0.1826 - binary_accuracy: 0.9181 - val_loss: 3.0375 - val_binary_accuracy: 0.5076\n",
      "Epoch 147/200\n",
      "2069/2069 [==============================] - 2s 1ms/step - loss: 0.1789 - binary_accuracy: 0.9205 - val_loss: 3.0625 - val_binary_accuracy: 0.5063\n",
      "Epoch 148/200\n",
      "2069/2069 [==============================] - 2s 1ms/step - loss: 0.1782 - binary_accuracy: 0.9200 - val_loss: 3.1119 - val_binary_accuracy: 0.5103\n",
      "Epoch 149/200\n",
      "2069/2069 [==============================] - 2s 1ms/step - loss: 0.1768 - binary_accuracy: 0.9203 - val_loss: 2.9705 - val_binary_accuracy: 0.5110\n",
      "Epoch 150/200\n",
      "2069/2069 [==============================] - 2s 988us/step - loss: 0.1760 - binary_accuracy: 0.9207 - val_loss: 3.1015 - val_binary_accuracy: 0.5109\n",
      "Epoch 151/200\n",
      "2069/2069 [==============================] - 2s 981us/step - loss: 0.1733 - binary_accuracy: 0.9225 - val_loss: 3.1397 - val_binary_accuracy: 0.5116\n",
      "Epoch 152/200\n",
      "2069/2069 [==============================] - 2s 1ms/step - loss: 0.1746 - binary_accuracy: 0.9224 - val_loss: 3.0583 - val_binary_accuracy: 0.5086\n",
      "Epoch 153/200\n"
     ]
    },
    {
     "name": "stdout",
     "output_type": "stream",
     "text": [
      "2069/2069 [==============================] - 2s 1ms/step - loss: 0.1723 - binary_accuracy: 0.9235 - val_loss: 3.1991 - val_binary_accuracy: 0.5083\n",
      "Epoch 154/200\n",
      "2069/2069 [==============================] - 2s 1ms/step - loss: 0.1714 - binary_accuracy: 0.9228 - val_loss: 3.2957 - val_binary_accuracy: 0.5089\n",
      "Epoch 155/200\n",
      "2069/2069 [==============================] - 2s 1ms/step - loss: 0.1699 - binary_accuracy: 0.9244 - val_loss: 3.3101 - val_binary_accuracy: 0.5114\n",
      "Epoch 156/200\n",
      "2069/2069 [==============================] - 2s 992us/step - loss: 0.1696 - binary_accuracy: 0.9245 - val_loss: 3.2365 - val_binary_accuracy: 0.5085\n",
      "Epoch 157/200\n",
      "2069/2069 [==============================] - 2s 1ms/step - loss: 0.1676 - binary_accuracy: 0.9245 - val_loss: 3.2284 - val_binary_accuracy: 0.5095\n",
      "Epoch 158/200\n",
      "2069/2069 [==============================] - 2s 1ms/step - loss: 0.1655 - binary_accuracy: 0.9259 - val_loss: 3.2649 - val_binary_accuracy: 0.5106\n",
      "Epoch 159/200\n",
      "2069/2069 [==============================] - 2s 1ms/step - loss: 0.1662 - binary_accuracy: 0.9261 - val_loss: 3.2694 - val_binary_accuracy: 0.5107\n",
      "Epoch 160/200\n",
      "2069/2069 [==============================] - 2s 1ms/step - loss: 0.1650 - binary_accuracy: 0.9263 - val_loss: 3.2673 - val_binary_accuracy: 0.5099\n",
      "Epoch 161/200\n",
      "2069/2069 [==============================] - 2s 1ms/step - loss: 0.1637 - binary_accuracy: 0.9274 - val_loss: 3.3640 - val_binary_accuracy: 0.5123\n",
      "Epoch 162/200\n",
      "2069/2069 [==============================] - 2s 1ms/step - loss: 0.1618 - binary_accuracy: 0.9283 - val_loss: 3.3080 - val_binary_accuracy: 0.5074\n",
      "Epoch 163/200\n",
      "2069/2069 [==============================] - 2s 1ms/step - loss: 0.1624 - binary_accuracy: 0.9279 - val_loss: 3.4512 - val_binary_accuracy: 0.5103\n",
      "Epoch 164/200\n",
      "2069/2069 [==============================] - 2s 1ms/step - loss: 0.1614 - binary_accuracy: 0.9287 - val_loss: 3.4790 - val_binary_accuracy: 0.5117\n",
      "Epoch 165/200\n",
      "2069/2069 [==============================] - 3s 1ms/step - loss: 0.1613 - binary_accuracy: 0.9289 - val_loss: 3.4491 - val_binary_accuracy: 0.5093\n",
      "Epoch 166/200\n",
      "2069/2069 [==============================] - 3s 2ms/step - loss: 0.1575 - binary_accuracy: 0.9299 - val_loss: 3.3706 - val_binary_accuracy: 0.5104\n",
      "Epoch 167/200\n",
      "2069/2069 [==============================] - 2s 1ms/step - loss: 0.1574 - binary_accuracy: 0.9302 - val_loss: 3.3885 - val_binary_accuracy: 0.5112\n",
      "Epoch 168/200\n",
      "2069/2069 [==============================] - 2s 1ms/step - loss: 0.1576 - binary_accuracy: 0.9301 - val_loss: 3.5159 - val_binary_accuracy: 0.5111\n",
      "Epoch 169/200\n",
      "2069/2069 [==============================] - 2s 1ms/step - loss: 0.1565 - binary_accuracy: 0.9310 - val_loss: 3.5273 - val_binary_accuracy: 0.5077\n",
      "Epoch 170/200\n",
      "2069/2069 [==============================] - 2s 1ms/step - loss: 0.1543 - binary_accuracy: 0.9325 - val_loss: 3.4468 - val_binary_accuracy: 0.5126\n",
      "Epoch 171/200\n",
      "2069/2069 [==============================] - 2s 1ms/step - loss: 0.1548 - binary_accuracy: 0.9316 - val_loss: 3.5789 - val_binary_accuracy: 0.5110\n",
      "Epoch 172/200\n",
      "2069/2069 [==============================] - 2s 1ms/step - loss: 0.1540 - binary_accuracy: 0.9327 - val_loss: 3.5471 - val_binary_accuracy: 0.5105\n",
      "Epoch 173/200\n",
      "2069/2069 [==============================] - 2s 994us/step - loss: 0.1529 - binary_accuracy: 0.9324 - val_loss: 3.5349 - val_binary_accuracy: 0.5126\n",
      "Epoch 174/200\n",
      "2069/2069 [==============================] - 2s 1ms/step - loss: 0.1501 - binary_accuracy: 0.9335 - val_loss: 3.6149 - val_binary_accuracy: 0.5116\n",
      "Epoch 175/200\n",
      "2069/2069 [==============================] - 3s 1ms/step - loss: 0.1500 - binary_accuracy: 0.9341 - val_loss: 3.6212 - val_binary_accuracy: 0.5117\n",
      "Epoch 176/200\n",
      "2069/2069 [==============================] - 2s 1ms/step - loss: 0.1522 - binary_accuracy: 0.9328 - val_loss: 3.6948 - val_binary_accuracy: 0.5107\n",
      "Epoch 177/200\n",
      "2069/2069 [==============================] - 2s 1ms/step - loss: 0.1465 - binary_accuracy: 0.9354 - val_loss: 3.8078 - val_binary_accuracy: 0.5136\n",
      "Epoch 178/200\n",
      "2069/2069 [==============================] - 2s 1ms/step - loss: 0.1478 - binary_accuracy: 0.9350 - val_loss: 3.7108 - val_binary_accuracy: 0.5129\n",
      "Epoch 179/200\n",
      "2069/2069 [==============================] - 2s 992us/step - loss: 0.1467 - binary_accuracy: 0.9356 - val_loss: 3.5870 - val_binary_accuracy: 0.5116\n",
      "Epoch 180/200\n",
      "2069/2069 [==============================] - 2s 986us/step - loss: 0.1445 - binary_accuracy: 0.9364 - val_loss: 3.7368 - val_binary_accuracy: 0.5118\n",
      "Epoch 181/200\n",
      "2069/2069 [==============================] - 2s 987us/step - loss: 0.1468 - binary_accuracy: 0.9353 - val_loss: 3.8058 - val_binary_accuracy: 0.5122\n",
      "Epoch 182/200\n",
      "2069/2069 [==============================] - 2s 1ms/step - loss: 0.1426 - binary_accuracy: 0.9379 - val_loss: 3.7045 - val_binary_accuracy: 0.5111\n",
      "Epoch 183/200\n",
      "2069/2069 [==============================] - 2s 996us/step - loss: 0.1415 - binary_accuracy: 0.9379 - val_loss: 3.7804 - val_binary_accuracy: 0.5105\n",
      "Epoch 184/200\n",
      "2069/2069 [==============================] - 2s 979us/step - loss: 0.1430 - binary_accuracy: 0.9369 - val_loss: 3.9246 - val_binary_accuracy: 0.5092\n",
      "Epoch 185/200\n",
      "2069/2069 [==============================] - 2s 973us/step - loss: 0.1408 - binary_accuracy: 0.9381 - val_loss: 3.8549 - val_binary_accuracy: 0.5122\n",
      "Epoch 186/200\n",
      "2069/2069 [==============================] - 2s 965us/step - loss: 0.1427 - binary_accuracy: 0.9374 - val_loss: 3.7660 - val_binary_accuracy: 0.5122\n",
      "Epoch 187/200\n",
      "2069/2069 [==============================] - 2s 979us/step - loss: 0.1390 - binary_accuracy: 0.9391 - val_loss: 3.8527 - val_binary_accuracy: 0.5087\n",
      "Epoch 188/200\n",
      "2069/2069 [==============================] - 2s 995us/step - loss: 0.1403 - binary_accuracy: 0.9390 - val_loss: 3.9405 - val_binary_accuracy: 0.5126\n",
      "Epoch 189/200\n",
      "2069/2069 [==============================] - 2s 982us/step - loss: 0.1398 - binary_accuracy: 0.9388 - val_loss: 3.9106 - val_binary_accuracy: 0.5052\n",
      "Epoch 190/200\n",
      "2069/2069 [==============================] - 2s 989us/step - loss: 0.1380 - binary_accuracy: 0.9396 - val_loss: 3.9296 - val_binary_accuracy: 0.5098\n",
      "Epoch 191/200\n",
      "2069/2069 [==============================] - 2s 986us/step - loss: 0.1378 - binary_accuracy: 0.9392 - val_loss: 3.9682 - val_binary_accuracy: 0.5094\n",
      "Epoch 192/200\n",
      "2069/2069 [==============================] - 2s 1ms/step - loss: 0.1376 - binary_accuracy: 0.9400 - val_loss: 3.8785 - val_binary_accuracy: 0.5116\n",
      "Epoch 193/200\n",
      "2069/2069 [==============================] - 2s 1ms/step - loss: 0.1372 - binary_accuracy: 0.9412 - val_loss: 4.0742 - val_binary_accuracy: 0.5090\n",
      "Epoch 194/200\n",
      "2069/2069 [==============================] - 2s 977us/step - loss: 0.1347 - binary_accuracy: 0.9415 - val_loss: 4.1341 - val_binary_accuracy: 0.5094\n",
      "Epoch 195/200\n",
      "2069/2069 [==============================] - 2s 980us/step - loss: 0.1335 - binary_accuracy: 0.9420 - val_loss: 4.1606 - val_binary_accuracy: 0.5068\n",
      "Epoch 196/200\n",
      "2069/2069 [==============================] - 2s 981us/step - loss: 0.1354 - binary_accuracy: 0.9414 - val_loss: 4.0632 - val_binary_accuracy: 0.5103\n",
      "Epoch 197/200\n",
      "2069/2069 [==============================] - 2s 1ms/step - loss: 0.1353 - binary_accuracy: 0.9413 - val_loss: 3.9877 - val_binary_accuracy: 0.5105\n",
      "Epoch 198/200\n",
      "2069/2069 [==============================] - 2s 979us/step - loss: 0.1309 - binary_accuracy: 0.9433 - val_loss: 4.1346 - val_binary_accuracy: 0.5094\n",
      "Epoch 199/200\n",
      "2069/2069 [==============================] - 2s 978us/step - loss: 0.1313 - binary_accuracy: 0.9433 - val_loss: 3.9711 - val_binary_accuracy: 0.5086\n",
      "Epoch 200/200\n",
      "2069/2069 [==============================] - 2s 971us/step - loss: 0.1330 - binary_accuracy: 0.9428 - val_loss: 4.1389 - val_binary_accuracy: 0.5116\n"
     ]
    }
   ],
   "source": [
    "history = model.fit(train_x, train_y, batch_size=BATCH_SIZE, validation_split=0.1, epochs=200)"
   ]
  },
  {
   "cell_type": "code",
   "execution_count": 35,
   "id": "35b77552",
   "metadata": {},
   "outputs": [],
   "source": [
    "history_dict = history.history"
   ]
  },
  {
   "cell_type": "code",
   "execution_count": 36,
   "id": "915e09fe",
   "metadata": {},
   "outputs": [
    {
     "data": {
      "text/plain": [
       "dict_keys(['loss', 'binary_accuracy', 'val_loss', 'val_binary_accuracy'])"
      ]
     },
     "execution_count": 36,
     "metadata": {},
     "output_type": "execute_result"
    }
   ],
   "source": [
    "history_dict.keys()"
   ]
  },
  {
   "cell_type": "code",
   "execution_count": 37,
   "id": "b9f8ca54",
   "metadata": {},
   "outputs": [
    {
     "data": {
      "image/png": "[encoded data removed]",
      "text/plain": [
       "<Figure size 500x500 with 1 Axes>"
      ]
     },
     "metadata": {},
     "output_type": "display_data"
    }
   ],
   "source": [
    "plt.figure(figsize=(5, 5))\n",
    "plt.plot(history_dict['loss'], label='Training Loss')\n",
    "plt.plot(history_dict['val_loss'], label='Validation Loss')\n",
    "plt.title('Training and Validation Loss')\n",
    "plt.xlabel('Epochs')\n",
    "plt.xscale('log')\n",
    "plt.ylabel('Loss')\n",
    "plt.legend()\n",
    "plt.show()"
   ]
  },
  {
   "cell_type": "code",
   "execution_count": 38,
   "id": "0f63411e",
   "metadata": {},
   "outputs": [
    {
     "data": {
      "image/png": "[encoded data removed]",
      "text/plain": [
       "<Figure size 500x500 with 1 Axes>"
      ]
     },
     "metadata": {},
     "output_type": "display_data"
    }
   ],
   "source": [
    "plt.figure(figsize=(5, 5))\n",
    "plt.plot(history_dict['binary_accuracy'], label='Training Accuracy')\n",
    "plt.plot(history_dict['val_binary_accuracy'], label='Validation Accuracy')\n",
    "plt.title('Training and Validation Accuracy')\n",
    "plt.xlabel('Epochs')\n",
    "plt.xscale('log')\n",
    "plt.ylabel('Accuracy')\n",
    "plt.legend()\n",
    "plt.show()"
   ]
  },
  {
   "cell_type": "code",
   "execution_count": 39,
   "id": "a5084eaa",
   "metadata": {},
   "outputs": [
    {
     "name": "stdout",
     "output_type": "stream",
     "text": [
      "511/511 [==============================] - 0s 596us/step - loss: 4.1775 - binary_accuracy: 0.5030\n",
      "Loss: 4.177544593811035\n",
      "Accuracy: 0.5029672980308533\n"
     ]
    }
   ],
   "source": [
    "loss, accuracy = model.evaluate(test_x, test_y)\n",
    "print('Loss:', loss)\n",
    "print('Accuracy:', accuracy)"
   ]
  },
  {
   "cell_type": "code",
   "execution_count": 27,
   "id": "cc1698f7",
   "metadata": {},
   "outputs": [],
   "source": [
    "data = tf.random.uniform([1024, 4])\n",
    "ds = tf.data.Dataset.from_tensor_slices(data)\n",
    "ds = ds.batch(32)\n",
    "ds1 = ds.take(16)\n",
    "ds2 = ds.skip(16).take(16)"
   ]
  },
  {
   "cell_type": "code",
   "execution_count": null,
   "id": "59dd8daf",
   "metadata": {},
   "outputs": [],
   "source": [
    "data = tf.random.uniform([1024, 4])\n",
    "ds = tf.data.Dataset.from_tensor_slices(data)\n",
    "ds1 = ds.take(512).batch(32)\n",
    "ds2 = ds.skip(512).take(512).batch(32)"
   ]
  },
  {
   "cell_type": "code",
   "execution_count": 47,
   "id": "ae014f9d",
   "metadata": {},
   "outputs": [],
   "source": [
    "# Save the model\n",
    "export_model = tf.keras.Sequential([\n",
    "    model,\n",
    "    tf.keras.layers.Activation('sigmoid')\n",
    "])"
   ]
  },
  {
   "cell_type": "code",
   "execution_count": 59,
   "id": "4972a082",
   "metadata": {},
   "outputs": [
    {
     "name": "stdout",
     "output_type": "stream",
     "text": [
      "1/1 [==============================] - 0s 18ms/step\n",
      "Win\n"
     ]
    }
   ],
   "source": [
    "game = 'Aatrox,Nidalee,Velkoz,Jhin,Nautilus,Darius,Nocturne,Zoe,Draven,Shaco,true'\n",
    "vec = process_match(game)[:-1]\n",
    "out = export_model.predict([vec])\n",
    "if out > 0.5:\n",
    "    print('Win')\n",
    "else:\n",
    "    print('Loss')"
   ]
  },
  {
   "cell_type": "code",
   "execution_count": 36,
   "id": "583ff84d",
   "metadata": {},
   "outputs": [
    {
     "name": "stdout",
     "output_type": "stream",
     "text": [
      "WARNING:tensorflow:Compiled the loaded model, but the compiled metrics have yet to be built. `model.compile_metrics` will be empty until you train or evaluate the model.\n"
     ]
    }
   ],
   "source": [
    "tfjs.converters.save_keras_model(export_model, 'winpredictor/public/models/master')"
   ]
  }
 ],
 "metadata": {
  "kernelspec": {
   "display_name": "Python 3 (ipykernel)",
   "language": "python",
   "name": "python3"
  },
  "language_info": {
   "codemirror_mode": {
    "name": "ipython",
    "version": 3
   },
   "file_extension": ".py",
   "mimetype": "text/x-python",
   "name": "python",
   "nbconvert_exporter": "python",
   "pygments_lexer": "ipython3",
   "version": "3.10.9"
  }
 },
 "nbformat": 4,
 "nbformat_minor": 5
}
