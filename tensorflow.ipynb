{
 "cells": [
  {
   "cell_type": "code",
   "execution_count": 1,
   "id": "945692de",
   "metadata": {},
   "outputs": [
    {
     "name": "stdout",
     "output_type": "stream",
     "text": [
      "[]\n"
     ]
    }
   ],
   "source": [
    "import tensorflow as tf\n",
    "import matplotlib.pyplot as plt\n",
    "import numpy as np\n",
    "import pandas as pd\n",
    "from tensorflow import keras\n",
    "from tensorflow.keras import layers\n",
    "from tensorflow.keras import optimizers\n",
    "from tensorflow.keras import losses\n",
    "import tensorflowjs as tfjs\n",
    "import os\n",
    "os.environ['CUDA_VISIBLE_DEVICES'] = '-1'\n",
    "print(tf.config.list_physical_devices('GPU'))"
   ]
  },
  {
   "cell_type": "code",
   "execution_count": 2,
   "id": "0397f3eb",
   "metadata": {},
   "outputs": [],
   "source": [
    "# Constants\n",
    "BATCH_SIZE = 64\n",
    "LR = 1e-4"
   ]
  },
  {
   "cell_type": "code",
   "execution_count": 3,
   "id": "047bc5a9",
   "metadata": {},
   "outputs": [],
   "source": [
    "df = pd.read_csv('champions.csv')\n",
    "def get_champ_vec(champ_name):\n",
    "    arr = []\n",
    "    row = df.loc[df['Champion'] == champ_name].iloc[0]\n",
    "    for i in range(1, 16):\n",
    "        if i == 7:\n",
    "            if row[i] == 1:\n",
    "                arr.append(1)\n",
    "                arr.append(0)\n",
    "                arr.append(0)\n",
    "            elif row[i] == 2:\n",
    "                arr.append(0)\n",
    "                arr.append(1)\n",
    "                arr.append(0)\n",
    "            elif row[i] == 3:\n",
    "                arr.append(0)\n",
    "                arr.append(0)\n",
    "                arr.append(1)\n",
    "        else:\n",
    "            arr.append(row[i] / 10)\n",
    "    return arr"
   ]
  },
  {
   "cell_type": "code",
   "execution_count": 4,
   "id": "d2e786ca",
   "metadata": {},
   "outputs": [],
   "source": [
    "def process_match(match):\n",
    "    champs = match.split(',')\n",
    "    vec = []\n",
    "    for i in range(10):\n",
    "        champ_vec = get_champ_vec(champs[i])\n",
    "        for e in champ_vec:\n",
    "            vec.append(e)\n",
    "    if champs[10] == 'true':\n",
    "        vec.append(1)\n",
    "    else:\n",
    "        vec.append(0)\n",
    "    return vec"
   ]
  },
  {
   "cell_type": "code",
   "execution_count": 6,
   "id": "da587725",
   "metadata": {},
   "outputs": [],
   "source": [
    "def process_ds_element(x):\n",
    "    return (tf.cast(x[:-1], 'float32'), tf.cast(x[-1], 'float32'))"
   ]
  },
  {
   "cell_type": "code",
   "execution_count": 7,
   "id": "90f93e69",
   "metadata": {},
   "outputs": [],
   "source": [
    "def get_dataset(num_games):\n",
    "    tmp = []\n",
    "    with open('data/matches/diamond_training_data.txt', 'r') as f:\n",
    "        matches = f.read().split('\\n')\n",
    "        num_games = min(len(matches), num_games)\n",
    "        for i in range(num_games):\n",
    "            try:\n",
    "                tmp.append(process_match(matches[i]))\n",
    "            except:\n",
    "                num_games -= 1\n",
    "    ds = tf.data.Dataset.from_tensor_slices(tmp)\n",
    "    ds = ds.map(process_ds_element)\n",
    "    ds = ds.cache()\n",
    "    ds = ds.shuffle(num_games)\n",
    "    ds = ds.batch(BATCH_SIZE)\n",
    "    ds = ds.prefetch(tf.data.AUTOTUNE)\n",
    "    print(f'Using {num_games} matches for training')\n",
    "    return ds"
   ]
  },
  {
   "cell_type": "code",
   "execution_count": 8,
   "id": "23a73ecc",
   "metadata": {},
   "outputs": [
    {
     "name": "stdout",
     "output_type": "stream",
     "text": [
      "Using 163442 matches for training\n"
     ]
    }
   ],
   "source": [
    "ds = get_dataset(1000000000)"
   ]
  },
  {
   "cell_type": "code",
   "execution_count": 9,
   "id": "cab9bfdd",
   "metadata": {},
   "outputs": [
    {
     "name": "stdout",
     "output_type": "stream",
     "text": [
      "2043 255 256\n"
     ]
    }
   ],
   "source": [
    "# Partition Dataset\n",
    "train_size = int(len(ds)*0.8)\n",
    "val_size = int(len(ds)*0.1)\n",
    "test_size = len(ds) - (train_size + val_size)\n",
    "\n",
    "train = ds.take(train_size)\n",
    "val = ds.skip(train_size).take(val_size)\n",
    "test = ds.skip(train_size+val_size).take(test_size)\n",
    "print(train_size, val_size, test_size)"
   ]
  },
  {
   "cell_type": "code",
   "execution_count": 10,
   "id": "2e5036b9",
   "metadata": {},
   "outputs": [
    {
     "data": {
      "text/plain": [
       "(<tf.Tensor: shape=(64, 170), dtype=float32, numpy=\n",
       " array([[0.3, 0.6, 0. , ..., 0.4, 0.6, 1. ],\n",
       "        [1. , 1. , 0.6, ..., 0.9, 0. , 0. ],\n",
       "        [0.1, 0.1, 0.8, ..., 0.5, 0. , 0. ],\n",
       "        ...,\n",
       "        [0.1, 1. , 0. , ..., 0.2, 1. , 0. ],\n",
       "        [0.5, 0.8, 0.4, ..., 0.8, 0.6, 0.6],\n",
       "        [0.2, 0.7, 0.1, ..., 0.8, 0.9, 0. ]], dtype=float32)>,\n",
       " <tf.Tensor: shape=(64,), dtype=float32, numpy=\n",
       " array([1., 0., 1., 1., 1., 1., 0., 1., 0., 1., 1., 0., 1., 1., 0., 1., 0.,\n",
       "        1., 1., 0., 0., 1., 1., 0., 0., 1., 0., 0., 0., 1., 1., 1., 0., 0.,\n",
       "        1., 0., 1., 0., 1., 1., 1., 1., 0., 0., 1., 0., 1., 0., 1., 0., 1.,\n",
       "        0., 1., 1., 1., 1., 1., 1., 0., 1., 0., 1., 0., 0.], dtype=float32)>)"
      ]
     },
     "execution_count": 10,
     "metadata": {},
     "output_type": "execute_result"
    }
   ],
   "source": [
    "example = next(iter(train))\n",
    "example"
   ]
  },
  {
   "cell_type": "code",
   "execution_count": 11,
   "id": "a19b79f9",
   "metadata": {},
   "outputs": [],
   "source": [
    "def create_model():\n",
    "    model = keras.Sequential()\n",
    "    model.add(layers.Dense(256, activation='relu', input_dim=170))\n",
    "    model.add(layers.Dense(128, activation='relu'))\n",
    "    model.add(layers.Dense(64, activation='relu'))\n",
    "    model.add(layers.Dense(16, activation='relu'))\n",
    "    model.add(layers.Dense(1))\n",
    "    return model"
   ]
  },
  {
   "cell_type": "code",
   "execution_count": 12,
   "id": "690fbae5",
   "metadata": {},
   "outputs": [],
   "source": [
    "model = create_model()"
   ]
  },
  {
   "cell_type": "code",
   "execution_count": 13,
   "id": "67e1953a",
   "metadata": {},
   "outputs": [
    {
     "name": "stdout",
     "output_type": "stream",
     "text": [
      "Model: \"sequential\"\n",
      "_________________________________________________________________\n",
      " Layer (type)                Output Shape              Param #   \n",
      "=================================================================\n",
      " dense (Dense)               (None, 256)               43776     \n",
      "                                                                 \n",
      " dense_1 (Dense)             (None, 128)               32896     \n",
      "                                                                 \n",
      " dense_2 (Dense)             (None, 64)                8256      \n",
      "                                                                 \n",
      " dense_3 (Dense)             (None, 16)                1040      \n",
      "                                                                 \n",
      " dense_4 (Dense)             (None, 1)                 17        \n",
      "                                                                 \n",
      "=================================================================\n",
      "Total params: 85,985\n",
      "Trainable params: 85,985\n",
      "Non-trainable params: 0\n",
      "_________________________________________________________________\n"
     ]
    }
   ],
   "source": [
    "model.summary()"
   ]
  },
  {
   "cell_type": "code",
   "execution_count": 14,
   "id": "b5cf7424",
   "metadata": {},
   "outputs": [],
   "source": [
    "loss = losses.BinaryCrossentropy(from_logits=True)\n",
    "optimizer = optimizers.Adam(learning_rate=LR)\n",
    "model.compile(loss=loss, optimizer=optimizer, metrics=[tf.metrics.BinaryAccuracy()])"
   ]
  },
  {
   "cell_type": "code",
   "execution_count": 15,
   "id": "daff853a",
   "metadata": {
    "scrolled": true
   },
   "outputs": [
    {
     "name": "stdout",
     "output_type": "stream",
     "text": [
      "Epoch 1/200\n",
      "2043/2043 [==============================] - 3s 1ms/step - loss: 0.6932 - binary_accuracy: 0.4964 - val_loss: 0.6927 - val_binary_accuracy: 0.4894\n",
      "Epoch 2/200\n",
      "2043/2043 [==============================] - 2s 990us/step - loss: 0.6927 - binary_accuracy: 0.4961 - val_loss: 0.6922 - val_binary_accuracy: 0.5053\n",
      "Epoch 3/200\n",
      "2043/2043 [==============================] - 2s 977us/step - loss: 0.6923 - binary_accuracy: 0.4966 - val_loss: 0.6911 - val_binary_accuracy: 0.4998\n",
      "Epoch 4/200\n",
      "2043/2043 [==============================] - 2s 995us/step - loss: 0.6917 - binary_accuracy: 0.4965 - val_loss: 0.6911 - val_binary_accuracy: 0.4941\n",
      "Epoch 5/200\n",
      "2043/2043 [==============================] - 2s 982us/step - loss: 0.6911 - binary_accuracy: 0.4968 - val_loss: 0.6900 - val_binary_accuracy: 0.5000\n",
      "Epoch 6/200\n",
      "2043/2043 [==============================] - 2s 983us/step - loss: 0.6904 - binary_accuracy: 0.4969 - val_loss: 0.6892 - val_binary_accuracy: 0.5013\n",
      "Epoch 7/200\n",
      "2043/2043 [==============================] - 2s 988us/step - loss: 0.6899 - binary_accuracy: 0.4973 - val_loss: 0.6877 - val_binary_accuracy: 0.4963\n",
      "Epoch 8/200\n",
      "2043/2043 [==============================] - 2s 984us/step - loss: 0.6891 - binary_accuracy: 0.4989 - val_loss: 0.6883 - val_binary_accuracy: 0.5005\n",
      "Epoch 9/200\n",
      "2043/2043 [==============================] - 2s 977us/step - loss: 0.6879 - binary_accuracy: 0.4992 - val_loss: 0.6881 - val_binary_accuracy: 0.5034\n",
      "Epoch 10/200\n",
      "2043/2043 [==============================] - 2s 983us/step - loss: 0.6869 - binary_accuracy: 0.5001 - val_loss: 0.6856 - val_binary_accuracy: 0.5019\n",
      "Epoch 11/200\n",
      "2043/2043 [==============================] - 2s 1ms/step - loss: 0.6853 - binary_accuracy: 0.5037 - val_loss: 0.6853 - val_binary_accuracy: 0.5090\n",
      "Epoch 12/200\n",
      "2043/2043 [==============================] - 2s 991us/step - loss: 0.6841 - binary_accuracy: 0.5062 - val_loss: 0.6831 - val_binary_accuracy: 0.4971\n",
      "Epoch 13/200\n",
      "2043/2043 [==============================] - 2s 981us/step - loss: 0.6819 - binary_accuracy: 0.5105 - val_loss: 0.6782 - val_binary_accuracy: 0.5036\n",
      "Epoch 14/200\n",
      "2043/2043 [==============================] - 2s 978us/step - loss: 0.6797 - binary_accuracy: 0.5150 - val_loss: 0.6778 - val_binary_accuracy: 0.5284\n",
      "Epoch 15/200\n",
      "2043/2043 [==============================] - 2s 978us/step - loss: 0.6776 - binary_accuracy: 0.5193 - val_loss: 0.6747 - val_binary_accuracy: 0.5320\n",
      "Epoch 16/200\n",
      "2043/2043 [==============================] - 2s 980us/step - loss: 0.6750 - binary_accuracy: 0.5252 - val_loss: 0.6710 - val_binary_accuracy: 0.5238\n",
      "Epoch 17/200\n",
      "2043/2043 [==============================] - 2s 980us/step - loss: 0.6724 - binary_accuracy: 0.5306 - val_loss: 0.6641 - val_binary_accuracy: 0.5371\n",
      "Epoch 18/200\n",
      "2043/2043 [==============================] - 2s 978us/step - loss: 0.6695 - binary_accuracy: 0.5361 - val_loss: 0.6724 - val_binary_accuracy: 0.5812\n",
      "Epoch 19/200\n",
      "2043/2043 [==============================] - 2s 983us/step - loss: 0.6664 - binary_accuracy: 0.5429 - val_loss: 0.6629 - val_binary_accuracy: 0.5302\n",
      "Epoch 20/200\n",
      "2043/2043 [==============================] - 2s 983us/step - loss: 0.6635 - binary_accuracy: 0.5497 - val_loss: 0.6627 - val_binary_accuracy: 0.5362\n",
      "Epoch 21/200\n",
      "2043/2043 [==============================] - 2s 975us/step - loss: 0.6605 - binary_accuracy: 0.5542 - val_loss: 0.6566 - val_binary_accuracy: 0.5561\n",
      "Epoch 22/200\n",
      "2043/2043 [==============================] - 2s 983us/step - loss: 0.6571 - binary_accuracy: 0.5601 - val_loss: 0.6516 - val_binary_accuracy: 0.5536\n",
      "Epoch 23/200\n",
      "2043/2043 [==============================] - 2s 982us/step - loss: 0.6534 - binary_accuracy: 0.5687 - val_loss: 0.6507 - val_binary_accuracy: 0.5946\n",
      "Epoch 24/200\n",
      "2043/2043 [==============================] - 2s 977us/step - loss: 0.6497 - binary_accuracy: 0.5740 - val_loss: 0.6502 - val_binary_accuracy: 0.5528\n",
      "Epoch 25/200\n",
      "2043/2043 [==============================] - 2s 984us/step - loss: 0.6461 - binary_accuracy: 0.5795 - val_loss: 0.6392 - val_binary_accuracy: 0.6009\n",
      "Epoch 26/200\n",
      "2043/2043 [==============================] - 2s 980us/step - loss: 0.6430 - binary_accuracy: 0.5834 - val_loss: 0.6303 - val_binary_accuracy: 0.5971\n",
      "Epoch 27/200\n",
      "2043/2043 [==============================] - 2s 979us/step - loss: 0.6390 - binary_accuracy: 0.5909 - val_loss: 0.6348 - val_binary_accuracy: 0.6065\n",
      "Epoch 28/200\n",
      "2043/2043 [==============================] - 2s 981us/step - loss: 0.6347 - binary_accuracy: 0.5972 - val_loss: 0.6251 - val_binary_accuracy: 0.6103\n",
      "Epoch 29/200\n",
      "2043/2043 [==============================] - 2s 975us/step - loss: 0.6316 - binary_accuracy: 0.6015 - val_loss: 0.6218 - val_binary_accuracy: 0.5985\n",
      "Epoch 30/200\n",
      "2043/2043 [==============================] - 2s 979us/step - loss: 0.6273 - binary_accuracy: 0.6079 - val_loss: 0.6178 - val_binary_accuracy: 0.6038\n",
      "Epoch 31/200\n",
      "2043/2043 [==============================] - 2s 979us/step - loss: 0.6234 - binary_accuracy: 0.6127 - val_loss: 0.6126 - val_binary_accuracy: 0.6289\n",
      "Epoch 32/200\n",
      "2043/2043 [==============================] - 2s 982us/step - loss: 0.6181 - binary_accuracy: 0.6189 - val_loss: 0.6104 - val_binary_accuracy: 0.6327\n",
      "Epoch 33/200\n",
      "2043/2043 [==============================] - 2s 976us/step - loss: 0.6153 - binary_accuracy: 0.6225 - val_loss: 0.6085 - val_binary_accuracy: 0.6129\n",
      "Epoch 34/200\n",
      "2043/2043 [==============================] - 2s 995us/step - loss: 0.6120 - binary_accuracy: 0.6272 - val_loss: 0.6032 - val_binary_accuracy: 0.6156\n",
      "Epoch 35/200\n",
      "2043/2043 [==============================] - 2s 979us/step - loss: 0.6066 - binary_accuracy: 0.6322 - val_loss: 0.5905 - val_binary_accuracy: 0.6528\n",
      "Epoch 36/200\n",
      "2043/2043 [==============================] - 2s 983us/step - loss: 0.6033 - binary_accuracy: 0.6370 - val_loss: 0.5910 - val_binary_accuracy: 0.6363\n",
      "Epoch 37/200\n",
      "2043/2043 [==============================] - 2s 984us/step - loss: 0.5988 - binary_accuracy: 0.6421 - val_loss: 0.5890 - val_binary_accuracy: 0.6442\n",
      "Epoch 38/200\n",
      "2043/2043 [==============================] - 2s 978us/step - loss: 0.5958 - binary_accuracy: 0.6443 - val_loss: 0.5797 - val_binary_accuracy: 0.6419\n",
      "Epoch 39/200\n",
      "2043/2043 [==============================] - 2s 974us/step - loss: 0.5905 - binary_accuracy: 0.6505 - val_loss: 0.5815 - val_binary_accuracy: 0.6593\n",
      "Epoch 40/200\n",
      "2043/2043 [==============================] - 2s 987us/step - loss: 0.5878 - binary_accuracy: 0.6533 - val_loss: 0.5761 - val_binary_accuracy: 0.6631\n",
      "Epoch 41/200\n",
      "2043/2043 [==============================] - 2s 980us/step - loss: 0.5825 - binary_accuracy: 0.6571 - val_loss: 0.5672 - val_binary_accuracy: 0.6618\n",
      "Epoch 42/200\n",
      "2043/2043 [==============================] - 2s 980us/step - loss: 0.5787 - binary_accuracy: 0.6622 - val_loss: 0.5662 - val_binary_accuracy: 0.6768\n",
      "Epoch 43/200\n",
      "2043/2043 [==============================] - 2s 1ms/step - loss: 0.5757 - binary_accuracy: 0.6644 - val_loss: 0.5605 - val_binary_accuracy: 0.6848\n",
      "Epoch 44/200\n",
      "2043/2043 [==============================] - 2s 1ms/step - loss: 0.5707 - binary_accuracy: 0.6695 - val_loss: 0.5626 - val_binary_accuracy: 0.6705\n",
      "Epoch 45/200\n",
      "2043/2043 [==============================] - 2s 997us/step - loss: 0.5676 - binary_accuracy: 0.6718 - val_loss: 0.5588 - val_binary_accuracy: 0.6798\n",
      "Epoch 46/200\n",
      "2043/2043 [==============================] - 2s 1ms/step - loss: 0.5619 - binary_accuracy: 0.6761 - val_loss: 0.5513 - val_binary_accuracy: 0.6707\n",
      "Epoch 47/200\n",
      "2043/2043 [==============================] - 2s 1ms/step - loss: 0.5594 - binary_accuracy: 0.6786 - val_loss: 0.5497 - val_binary_accuracy: 0.7009\n",
      "Epoch 48/200\n",
      "2043/2043 [==============================] - 2s 1ms/step - loss: 0.5563 - binary_accuracy: 0.6823 - val_loss: 0.5436 - val_binary_accuracy: 0.7070\n",
      "Epoch 49/200\n",
      "2043/2043 [==============================] - 2s 1ms/step - loss: 0.5504 - binary_accuracy: 0.6861 - val_loss: 0.5472 - val_binary_accuracy: 0.6979\n",
      "Epoch 50/200\n",
      "2043/2043 [==============================] - 2s 1ms/step - loss: 0.5468 - binary_accuracy: 0.6908 - val_loss: 0.5289 - val_binary_accuracy: 0.7030\n",
      "Epoch 51/200\n",
      "2043/2043 [==============================] - 2s 1ms/step - loss: 0.5442 - binary_accuracy: 0.6921 - val_loss: 0.5321 - val_binary_accuracy: 0.6989\n"
     ]
    },
    {
     "name": "stdout",
     "output_type": "stream",
     "text": [
      "Epoch 52/200\n",
      "2043/2043 [==============================] - 2s 1ms/step - loss: 0.5391 - binary_accuracy: 0.6964 - val_loss: 0.5241 - val_binary_accuracy: 0.7159\n",
      "Epoch 53/200\n",
      "2043/2043 [==============================] - 2s 1ms/step - loss: 0.5363 - binary_accuracy: 0.6988 - val_loss: 0.5216 - val_binary_accuracy: 0.7125\n",
      "Epoch 54/200\n",
      "2043/2043 [==============================] - 2s 1ms/step - loss: 0.5324 - binary_accuracy: 0.7026 - val_loss: 0.5196 - val_binary_accuracy: 0.7129\n",
      "Epoch 55/200\n",
      "2043/2043 [==============================] - 2s 1ms/step - loss: 0.5286 - binary_accuracy: 0.7055 - val_loss: 0.5126 - val_binary_accuracy: 0.7129\n",
      "Epoch 56/200\n",
      "2043/2043 [==============================] - 2s 1ms/step - loss: 0.5242 - binary_accuracy: 0.7088 - val_loss: 0.5155 - val_binary_accuracy: 0.7331\n",
      "Epoch 57/200\n",
      "2043/2043 [==============================] - 2s 1ms/step - loss: 0.5211 - binary_accuracy: 0.7097 - val_loss: 0.5031 - val_binary_accuracy: 0.7365\n",
      "Epoch 58/200\n",
      "2043/2043 [==============================] - 2s 1ms/step - loss: 0.5178 - binary_accuracy: 0.7133 - val_loss: 0.5113 - val_binary_accuracy: 0.6948\n",
      "Epoch 59/200\n",
      "2043/2043 [==============================] - 2s 1ms/step - loss: 0.5142 - binary_accuracy: 0.7159 - val_loss: 0.4986 - val_binary_accuracy: 0.7379\n",
      "Epoch 60/200\n",
      "2043/2043 [==============================] - 2s 1ms/step - loss: 0.5090 - binary_accuracy: 0.7190 - val_loss: 0.5060 - val_binary_accuracy: 0.7475\n",
      "Epoch 61/200\n",
      "2043/2043 [==============================] - 2s 1ms/step - loss: 0.5065 - binary_accuracy: 0.7216 - val_loss: 0.4885 - val_binary_accuracy: 0.7395\n",
      "Epoch 62/200\n",
      "2043/2043 [==============================] - 2s 1ms/step - loss: 0.5037 - binary_accuracy: 0.7227 - val_loss: 0.5059 - val_binary_accuracy: 0.6971\n",
      "Epoch 63/200\n",
      "2043/2043 [==============================] - 2s 1ms/step - loss: 0.4991 - binary_accuracy: 0.7268 - val_loss: 0.4884 - val_binary_accuracy: 0.7336\n",
      "Epoch 64/200\n",
      "2043/2043 [==============================] - 2s 1ms/step - loss: 0.4954 - binary_accuracy: 0.7288 - val_loss: 0.4906 - val_binary_accuracy: 0.7200\n",
      "Epoch 65/200\n",
      "2043/2043 [==============================] - 2s 1ms/step - loss: 0.4939 - binary_accuracy: 0.7312 - val_loss: 0.4804 - val_binary_accuracy: 0.7266\n",
      "Epoch 66/200\n",
      "2043/2043 [==============================] - 2s 1ms/step - loss: 0.4897 - binary_accuracy: 0.7329 - val_loss: 0.4755 - val_binary_accuracy: 0.7566\n",
      "Epoch 67/200\n",
      "2043/2043 [==============================] - 2s 1ms/step - loss: 0.4866 - binary_accuracy: 0.7354 - val_loss: 0.4704 - val_binary_accuracy: 0.7596\n",
      "Epoch 68/200\n",
      "2043/2043 [==============================] - 2s 1ms/step - loss: 0.4831 - binary_accuracy: 0.7385 - val_loss: 0.4702 - val_binary_accuracy: 0.7365\n",
      "Epoch 69/200\n",
      "2043/2043 [==============================] - 2s 1ms/step - loss: 0.4797 - binary_accuracy: 0.7416 - val_loss: 0.4723 - val_binary_accuracy: 0.7629\n",
      "Epoch 70/200\n",
      "2043/2043 [==============================] - 2s 1ms/step - loss: 0.4762 - binary_accuracy: 0.7427 - val_loss: 0.4520 - val_binary_accuracy: 0.7516\n",
      "Epoch 71/200\n",
      "2043/2043 [==============================] - 2s 1ms/step - loss: 0.4731 - binary_accuracy: 0.7455 - val_loss: 0.4575 - val_binary_accuracy: 0.7463\n",
      "Epoch 72/200\n",
      "2043/2043 [==============================] - 2s 1ms/step - loss: 0.4703 - binary_accuracy: 0.7473 - val_loss: 0.4596 - val_binary_accuracy: 0.7494\n",
      "Epoch 73/200\n",
      "2043/2043 [==============================] - 2s 1ms/step - loss: 0.4667 - binary_accuracy: 0.7496 - val_loss: 0.4476 - val_binary_accuracy: 0.7566\n",
      "Epoch 74/200\n",
      "2043/2043 [==============================] - 2s 1ms/step - loss: 0.4641 - binary_accuracy: 0.7518 - val_loss: 0.4511 - val_binary_accuracy: 0.7488\n",
      "Epoch 75/200\n",
      "2043/2043 [==============================] - 2s 1ms/step - loss: 0.4622 - binary_accuracy: 0.7514 - val_loss: 0.4623 - val_binary_accuracy: 0.7324\n",
      "Epoch 76/200\n",
      "2043/2043 [==============================] - 2s 1ms/step - loss: 0.4579 - binary_accuracy: 0.7554 - val_loss: 0.4355 - val_binary_accuracy: 0.7599\n",
      "Epoch 77/200\n",
      "2043/2043 [==============================] - 2s 1ms/step - loss: 0.4544 - binary_accuracy: 0.7566 - val_loss: 0.4333 - val_binary_accuracy: 0.7667\n",
      "Epoch 78/200\n",
      "2043/2043 [==============================] - 2s 1ms/step - loss: 0.4525 - binary_accuracy: 0.7594 - val_loss: 0.4340 - val_binary_accuracy: 0.7671\n",
      "Epoch 79/200\n",
      "2043/2043 [==============================] - 2s 1ms/step - loss: 0.4497 - binary_accuracy: 0.7616 - val_loss: 0.4347 - val_binary_accuracy: 0.7669\n",
      "Epoch 80/200\n",
      "2043/2043 [==============================] - 2s 1ms/step - loss: 0.4471 - binary_accuracy: 0.7624 - val_loss: 0.4410 - val_binary_accuracy: 0.7637\n",
      "Epoch 81/200\n",
      "2043/2043 [==============================] - 2s 1ms/step - loss: 0.4424 - binary_accuracy: 0.7647 - val_loss: 0.4251 - val_binary_accuracy: 0.7716\n",
      "Epoch 82/200\n",
      "2043/2043 [==============================] - 2s 1ms/step - loss: 0.4411 - binary_accuracy: 0.7653 - val_loss: 0.4206 - val_binary_accuracy: 0.7709\n",
      "Epoch 83/200\n",
      "2043/2043 [==============================] - 2s 1ms/step - loss: 0.4383 - binary_accuracy: 0.7670 - val_loss: 0.4176 - val_binary_accuracy: 0.7729\n",
      "Epoch 84/200\n",
      "2043/2043 [==============================] - 2s 1ms/step - loss: 0.4352 - binary_accuracy: 0.7698 - val_loss: 0.4221 - val_binary_accuracy: 0.7763\n",
      "Epoch 85/200\n",
      "2043/2043 [==============================] - 2s 1ms/step - loss: 0.4335 - binary_accuracy: 0.7712 - val_loss: 0.4200 - val_binary_accuracy: 0.7705\n",
      "Epoch 86/200\n",
      "2043/2043 [==============================] - 2s 1ms/step - loss: 0.4302 - binary_accuracy: 0.7730 - val_loss: 0.4400 - val_binary_accuracy: 0.7928\n",
      "Epoch 87/200\n",
      "2043/2043 [==============================] - 2s 1ms/step - loss: 0.4291 - binary_accuracy: 0.7739 - val_loss: 0.4156 - val_binary_accuracy: 0.7722\n",
      "Epoch 88/200\n",
      "2043/2043 [==============================] - 2s 1ms/step - loss: 0.4252 - binary_accuracy: 0.7751 - val_loss: 0.4173 - val_binary_accuracy: 0.7958\n",
      "Epoch 89/200\n",
      "2043/2043 [==============================] - 2s 1ms/step - loss: 0.4225 - binary_accuracy: 0.7779 - val_loss: 0.4018 - val_binary_accuracy: 0.7917\n",
      "Epoch 90/200\n",
      "2043/2043 [==============================] - 2s 1ms/step - loss: 0.4190 - binary_accuracy: 0.7810 - val_loss: 0.4236 - val_binary_accuracy: 0.7604\n",
      "Epoch 91/200\n",
      "2043/2043 [==============================] - 2s 1ms/step - loss: 0.4176 - binary_accuracy: 0.7802 - val_loss: 0.3978 - val_binary_accuracy: 0.7937\n",
      "Epoch 92/200\n",
      "2043/2043 [==============================] - 2s 1ms/step - loss: 0.4145 - binary_accuracy: 0.7821 - val_loss: 0.3983 - val_binary_accuracy: 0.7890\n",
      "Epoch 93/200\n",
      "2043/2043 [==============================] - 2s 1ms/step - loss: 0.4128 - binary_accuracy: 0.7831 - val_loss: 0.4039 - val_binary_accuracy: 0.7800\n",
      "Epoch 94/200\n",
      "2043/2043 [==============================] - 2s 1ms/step - loss: 0.4109 - binary_accuracy: 0.7837 - val_loss: 0.3971 - val_binary_accuracy: 0.7941\n",
      "Epoch 95/200\n",
      "2043/2043 [==============================] - 2s 1ms/step - loss: 0.4075 - binary_accuracy: 0.7858 - val_loss: 0.3899 - val_binary_accuracy: 0.8013\n",
      "Epoch 96/200\n",
      "2043/2043 [==============================] - 2s 1ms/step - loss: 0.4052 - binary_accuracy: 0.7873 - val_loss: 0.3959 - val_binary_accuracy: 0.8009\n",
      "Epoch 97/200\n",
      "2043/2043 [==============================] - 2s 1ms/step - loss: 0.4030 - binary_accuracy: 0.7888 - val_loss: 0.3855 - val_binary_accuracy: 0.7997\n",
      "Epoch 98/200\n",
      "2043/2043 [==============================] - 2s 1ms/step - loss: 0.4020 - binary_accuracy: 0.7897 - val_loss: 0.3894 - val_binary_accuracy: 0.8025\n",
      "Epoch 99/200\n",
      "2043/2043 [==============================] - 2s 1ms/step - loss: 0.3995 - binary_accuracy: 0.7912 - val_loss: 0.3842 - val_binary_accuracy: 0.8191\n",
      "Epoch 100/200\n",
      "2043/2043 [==============================] - 2s 1ms/step - loss: 0.3980 - binary_accuracy: 0.7913 - val_loss: 0.3871 - val_binary_accuracy: 0.8159\n",
      "Epoch 101/200\n",
      "2043/2043 [==============================] - 2s 1ms/step - loss: 0.3944 - binary_accuracy: 0.7933 - val_loss: 0.3813 - val_binary_accuracy: 0.8075\n",
      "Epoch 102/200\n",
      "2043/2043 [==============================] - 2s 1ms/step - loss: 0.3923 - binary_accuracy: 0.7957 - val_loss: 0.3745 - val_binary_accuracy: 0.8056\n",
      "Epoch 103/200\n"
     ]
    },
    {
     "name": "stdout",
     "output_type": "stream",
     "text": [
      "2043/2043 [==============================] - 2s 1ms/step - loss: 0.3901 - binary_accuracy: 0.7958 - val_loss: 0.3829 - val_binary_accuracy: 0.8138\n",
      "Epoch 104/200\n",
      "2043/2043 [==============================] - 2s 1ms/step - loss: 0.3877 - binary_accuracy: 0.7975 - val_loss: 0.3653 - val_binary_accuracy: 0.8123\n",
      "Epoch 105/200\n",
      "2043/2043 [==============================] - 2s 1ms/step - loss: 0.3868 - binary_accuracy: 0.7978 - val_loss: 0.3653 - val_binary_accuracy: 0.8215\n",
      "Epoch 106/200\n",
      "2043/2043 [==============================] - 2s 1ms/step - loss: 0.3827 - binary_accuracy: 0.8007 - val_loss: 0.3735 - val_binary_accuracy: 0.8215\n",
      "Epoch 107/200\n",
      "2043/2043 [==============================] - 2s 1ms/step - loss: 0.3814 - binary_accuracy: 0.8016 - val_loss: 0.3632 - val_binary_accuracy: 0.8169\n",
      "Epoch 108/200\n",
      "2043/2043 [==============================] - 2s 1ms/step - loss: 0.3807 - binary_accuracy: 0.8021 - val_loss: 0.3570 - val_binary_accuracy: 0.8148\n",
      "Epoch 109/200\n",
      "2043/2043 [==============================] - 2s 1ms/step - loss: 0.3774 - binary_accuracy: 0.8031 - val_loss: 0.3559 - val_binary_accuracy: 0.8197\n",
      "Epoch 110/200\n",
      "2043/2043 [==============================] - 2s 1ms/step - loss: 0.3758 - binary_accuracy: 0.8038 - val_loss: 0.3678 - val_binary_accuracy: 0.7965\n",
      "Epoch 111/200\n",
      "2043/2043 [==============================] - 2s 1ms/step - loss: 0.3718 - binary_accuracy: 0.8071 - val_loss: 0.3589 - val_binary_accuracy: 0.8206\n",
      "Epoch 112/200\n",
      "2043/2043 [==============================] - 2s 1ms/step - loss: 0.3706 - binary_accuracy: 0.8079 - val_loss: 0.3586 - val_binary_accuracy: 0.8215\n",
      "Epoch 113/200\n",
      "2043/2043 [==============================] - 2s 1ms/step - loss: 0.3691 - binary_accuracy: 0.8082 - val_loss: 0.3527 - val_binary_accuracy: 0.8251\n",
      "Epoch 114/200\n",
      "2043/2043 [==============================] - 2s 1ms/step - loss: 0.3687 - binary_accuracy: 0.8086 - val_loss: 0.3451 - val_binary_accuracy: 0.8172\n",
      "Epoch 115/200\n",
      "2043/2043 [==============================] - 2s 1ms/step - loss: 0.3646 - binary_accuracy: 0.8100 - val_loss: 0.3547 - val_binary_accuracy: 0.8083\n",
      "Epoch 116/200\n",
      "2043/2043 [==============================] - 2s 1ms/step - loss: 0.3631 - binary_accuracy: 0.8118 - val_loss: 0.3474 - val_binary_accuracy: 0.8266\n",
      "Epoch 117/200\n",
      "2043/2043 [==============================] - 2s 1ms/step - loss: 0.3613 - binary_accuracy: 0.8127 - val_loss: 0.3398 - val_binary_accuracy: 0.8181\n",
      "Epoch 118/200\n",
      "2043/2043 [==============================] - 2s 1ms/step - loss: 0.3602 - binary_accuracy: 0.8127 - val_loss: 0.3492 - val_binary_accuracy: 0.8297\n",
      "Epoch 119/200\n",
      "2043/2043 [==============================] - 2s 1ms/step - loss: 0.3571 - binary_accuracy: 0.8156 - val_loss: 0.3556 - val_binary_accuracy: 0.8145\n",
      "Epoch 120/200\n",
      "2043/2043 [==============================] - 2s 1ms/step - loss: 0.3562 - binary_accuracy: 0.8156 - val_loss: 0.3341 - val_binary_accuracy: 0.8165\n",
      "Epoch 121/200\n",
      "2043/2043 [==============================] - 2s 1ms/step - loss: 0.3544 - binary_accuracy: 0.8164 - val_loss: 0.3320 - val_binary_accuracy: 0.8302\n",
      "Epoch 122/200\n",
      "2043/2043 [==============================] - 2s 1ms/step - loss: 0.3531 - binary_accuracy: 0.8170 - val_loss: 0.3245 - val_binary_accuracy: 0.8337\n",
      "Epoch 123/200\n",
      "2043/2043 [==============================] - 2s 1ms/step - loss: 0.3503 - binary_accuracy: 0.8184 - val_loss: 0.3489 - val_binary_accuracy: 0.8172\n",
      "Epoch 124/200\n",
      "2043/2043 [==============================] - 2s 1ms/step - loss: 0.3494 - binary_accuracy: 0.8190 - val_loss: 0.3388 - val_binary_accuracy: 0.8246\n",
      "Epoch 125/200\n",
      "2043/2043 [==============================] - 2s 1ms/step - loss: 0.3490 - binary_accuracy: 0.8199 - val_loss: 0.3215 - val_binary_accuracy: 0.8314\n",
      "Epoch 126/200\n",
      "2043/2043 [==============================] - 2s 1ms/step - loss: 0.3458 - binary_accuracy: 0.8207 - val_loss: 0.3393 - val_binary_accuracy: 0.8057\n",
      "Epoch 127/200\n",
      "2043/2043 [==============================] - 2s 1ms/step - loss: 0.3448 - binary_accuracy: 0.8218 - val_loss: 0.3357 - val_binary_accuracy: 0.8128\n",
      "Epoch 128/200\n",
      "2043/2043 [==============================] - 2s 1ms/step - loss: 0.3414 - binary_accuracy: 0.8242 - val_loss: 0.3384 - val_binary_accuracy: 0.8392\n",
      "Epoch 129/200\n",
      "2043/2043 [==============================] - 2s 1ms/step - loss: 0.3402 - binary_accuracy: 0.8242 - val_loss: 0.3235 - val_binary_accuracy: 0.8282\n",
      "Epoch 130/200\n",
      "2043/2043 [==============================] - 2s 1ms/step - loss: 0.3417 - binary_accuracy: 0.8237 - val_loss: 0.3247 - val_binary_accuracy: 0.8265\n",
      "Epoch 131/200\n",
      "2043/2043 [==============================] - 2s 1ms/step - loss: 0.3370 - binary_accuracy: 0.8263 - val_loss: 0.3253 - val_binary_accuracy: 0.8295\n",
      "Epoch 132/200\n",
      "2043/2043 [==============================] - 2s 1ms/step - loss: 0.3363 - binary_accuracy: 0.8256 - val_loss: 0.3256 - val_binary_accuracy: 0.8306\n",
      "Epoch 133/200\n",
      "2043/2043 [==============================] - 2s 1ms/step - loss: 0.3340 - binary_accuracy: 0.8271 - val_loss: 0.3148 - val_binary_accuracy: 0.8387\n",
      "Epoch 134/200\n",
      "2043/2043 [==============================] - 2s 1ms/step - loss: 0.3331 - binary_accuracy: 0.8277 - val_loss: 0.3171 - val_binary_accuracy: 0.8439\n",
      "Epoch 135/200\n",
      "2043/2043 [==============================] - 2s 1ms/step - loss: 0.3314 - binary_accuracy: 0.8281 - val_loss: 0.3219 - val_binary_accuracy: 0.8366\n",
      "Epoch 136/200\n",
      "2043/2043 [==============================] - 2s 1ms/step - loss: 0.3292 - binary_accuracy: 0.8302 - val_loss: 0.3118 - val_binary_accuracy: 0.8430\n",
      "Epoch 137/200\n",
      "2043/2043 [==============================] - 2s 1ms/step - loss: 0.3286 - binary_accuracy: 0.8303 - val_loss: 0.3128 - val_binary_accuracy: 0.8255\n",
      "Epoch 138/200\n",
      "2043/2043 [==============================] - 2s 1ms/step - loss: 0.3275 - binary_accuracy: 0.8309 - val_loss: 0.3104 - val_binary_accuracy: 0.8496\n",
      "Epoch 139/200\n",
      "2043/2043 [==============================] - 2s 1ms/step - loss: 0.3250 - binary_accuracy: 0.8315 - val_loss: 0.3082 - val_binary_accuracy: 0.8412\n",
      "Epoch 140/200\n",
      "2043/2043 [==============================] - 2s 1ms/step - loss: 0.3233 - binary_accuracy: 0.8327 - val_loss: 0.3033 - val_binary_accuracy: 0.8452\n",
      "Epoch 141/200\n",
      "2043/2043 [==============================] - 2s 1ms/step - loss: 0.3232 - binary_accuracy: 0.8334 - val_loss: 0.3061 - val_binary_accuracy: 0.8365\n",
      "Epoch 142/200\n",
      "2043/2043 [==============================] - 2s 1ms/step - loss: 0.3220 - binary_accuracy: 0.8334 - val_loss: 0.2993 - val_binary_accuracy: 0.8496\n",
      "Epoch 143/200\n",
      "2043/2043 [==============================] - 2s 1ms/step - loss: 0.3195 - binary_accuracy: 0.8346 - val_loss: 0.3042 - val_binary_accuracy: 0.8408\n",
      "Epoch 144/200\n",
      "2043/2043 [==============================] - 2s 1ms/step - loss: 0.3178 - binary_accuracy: 0.8360 - val_loss: 0.3069 - val_binary_accuracy: 0.8415\n",
      "Epoch 145/200\n",
      "2043/2043 [==============================] - 2s 1ms/step - loss: 0.3165 - binary_accuracy: 0.8369 - val_loss: 0.3201 - val_binary_accuracy: 0.8503\n",
      "Epoch 146/200\n",
      "2043/2043 [==============================] - 2s 1ms/step - loss: 0.3160 - binary_accuracy: 0.8372 - val_loss: 0.2988 - val_binary_accuracy: 0.8417\n",
      "Epoch 147/200\n",
      "2043/2043 [==============================] - 2s 1ms/step - loss: 0.3158 - binary_accuracy: 0.8369 - val_loss: 0.3000 - val_binary_accuracy: 0.8547\n",
      "Epoch 148/200\n",
      "2043/2043 [==============================] - 2s 1ms/step - loss: 0.3112 - binary_accuracy: 0.8388 - val_loss: 0.2983 - val_binary_accuracy: 0.8480\n",
      "Epoch 149/200\n",
      "2043/2043 [==============================] - 2s 1ms/step - loss: 0.3120 - binary_accuracy: 0.8386 - val_loss: 0.3011 - val_binary_accuracy: 0.8417\n",
      "Epoch 150/200\n",
      "2043/2043 [==============================] - 2s 1ms/step - loss: 0.3103 - binary_accuracy: 0.8417 - val_loss: 0.2964 - val_binary_accuracy: 0.8434\n",
      "Epoch 151/200\n",
      "2043/2043 [==============================] - 2s 1ms/step - loss: 0.3092 - binary_accuracy: 0.8413 - val_loss: 0.2963 - val_binary_accuracy: 0.8550\n",
      "Epoch 152/200\n",
      "2043/2043 [==============================] - 2s 1ms/step - loss: 0.3094 - binary_accuracy: 0.8405 - val_loss: 0.2995 - val_binary_accuracy: 0.8493\n",
      "Epoch 153/200\n",
      "2043/2043 [==============================] - 2s 1ms/step - loss: 0.3062 - binary_accuracy: 0.8427 - val_loss: 0.2895 - val_binary_accuracy: 0.8507\n"
     ]
    },
    {
     "name": "stdout",
     "output_type": "stream",
     "text": [
      "Epoch 154/200\n",
      "2043/2043 [==============================] - 2s 1ms/step - loss: 0.3057 - binary_accuracy: 0.8417 - val_loss: 0.2906 - val_binary_accuracy: 0.8594\n",
      "Epoch 155/200\n",
      "2043/2043 [==============================] - 2s 1ms/step - loss: 0.3044 - binary_accuracy: 0.8441 - val_loss: 0.2883 - val_binary_accuracy: 0.8516\n",
      "Epoch 156/200\n",
      "2043/2043 [==============================] - 2s 1ms/step - loss: 0.3017 - binary_accuracy: 0.8446 - val_loss: 0.2930 - val_binary_accuracy: 0.8458\n",
      "Epoch 157/200\n",
      "2043/2043 [==============================] - 2s 1ms/step - loss: 0.3021 - binary_accuracy: 0.8443 - val_loss: 0.2991 - val_binary_accuracy: 0.8564\n",
      "Epoch 158/200\n",
      "2043/2043 [==============================] - 2s 1ms/step - loss: 0.3017 - binary_accuracy: 0.8446 - val_loss: 0.2863 - val_binary_accuracy: 0.8553\n",
      "Epoch 159/200\n",
      "2043/2043 [==============================] - 2s 1ms/step - loss: 0.2982 - binary_accuracy: 0.8465 - val_loss: 0.2915 - val_binary_accuracy: 0.8421\n",
      "Epoch 160/200\n",
      "2043/2043 [==============================] - 2s 1ms/step - loss: 0.2993 - binary_accuracy: 0.8459 - val_loss: 0.2841 - val_binary_accuracy: 0.8545\n",
      "Epoch 161/200\n",
      "2043/2043 [==============================] - 2s 1ms/step - loss: 0.2958 - binary_accuracy: 0.8467 - val_loss: 0.2754 - val_binary_accuracy: 0.8546\n",
      "Epoch 162/200\n",
      "2043/2043 [==============================] - 2s 1ms/step - loss: 0.2947 - binary_accuracy: 0.8480 - val_loss: 0.2793 - val_binary_accuracy: 0.8634\n",
      "Epoch 163/200\n",
      "2043/2043 [==============================] - 2s 1ms/step - loss: 0.2947 - binary_accuracy: 0.8470 - val_loss: 0.2765 - val_binary_accuracy: 0.8589\n",
      "Epoch 164/200\n",
      "2043/2043 [==============================] - 2s 1ms/step - loss: 0.2947 - binary_accuracy: 0.8476 - val_loss: 0.2862 - val_binary_accuracy: 0.8503\n",
      "Epoch 165/200\n",
      "2043/2043 [==============================] - 2s 1ms/step - loss: 0.2925 - binary_accuracy: 0.8487 - val_loss: 0.2778 - val_binary_accuracy: 0.8551\n",
      "Epoch 166/200\n",
      "2043/2043 [==============================] - 2s 1ms/step - loss: 0.2907 - binary_accuracy: 0.8502 - val_loss: 0.2837 - val_binary_accuracy: 0.8608\n",
      "Epoch 167/200\n",
      "2043/2043 [==============================] - 2s 1ms/step - loss: 0.2900 - binary_accuracy: 0.8507 - val_loss: 0.2917 - val_binary_accuracy: 0.8422\n",
      "Epoch 168/200\n",
      "2043/2043 [==============================] - 2s 1ms/step - loss: 0.2906 - binary_accuracy: 0.8510 - val_loss: 0.2678 - val_binary_accuracy: 0.8602\n",
      "Epoch 169/200\n",
      "2043/2043 [==============================] - 2s 1ms/step - loss: 0.2870 - binary_accuracy: 0.8519 - val_loss: 0.2666 - val_binary_accuracy: 0.8568\n",
      "Epoch 170/200\n",
      "2043/2043 [==============================] - 2s 1ms/step - loss: 0.2883 - binary_accuracy: 0.8524 - val_loss: 0.2739 - val_binary_accuracy: 0.8593\n",
      "Epoch 171/200\n",
      "2043/2043 [==============================] - 2s 1ms/step - loss: 0.2874 - binary_accuracy: 0.8526 - val_loss: 0.2685 - val_binary_accuracy: 0.8709\n",
      "Epoch 172/200\n",
      "2043/2043 [==============================] - 2s 1ms/step - loss: 0.2845 - binary_accuracy: 0.8538 - val_loss: 0.2713 - val_binary_accuracy: 0.8673\n",
      "Epoch 173/200\n",
      "2043/2043 [==============================] - 2s 1ms/step - loss: 0.2834 - binary_accuracy: 0.8545 - val_loss: 0.2717 - val_binary_accuracy: 0.8607\n",
      "Epoch 174/200\n",
      "2043/2043 [==============================] - 2s 1ms/step - loss: 0.2830 - binary_accuracy: 0.8542 - val_loss: 0.2742 - val_binary_accuracy: 0.8544\n",
      "Epoch 175/200\n",
      "2043/2043 [==============================] - 2s 1ms/step - loss: 0.2808 - binary_accuracy: 0.8550 - val_loss: 0.2614 - val_binary_accuracy: 0.8598\n",
      "Epoch 176/200\n",
      "2043/2043 [==============================] - 2s 1ms/step - loss: 0.2808 - binary_accuracy: 0.8553 - val_loss: 0.2632 - val_binary_accuracy: 0.8665\n",
      "Epoch 177/200\n",
      "2043/2043 [==============================] - 2s 1ms/step - loss: 0.2815 - binary_accuracy: 0.8552 - val_loss: 0.2699 - val_binary_accuracy: 0.8610\n",
      "Epoch 178/200\n",
      "2043/2043 [==============================] - 2s 1ms/step - loss: 0.2796 - binary_accuracy: 0.8560 - val_loss: 0.2709 - val_binary_accuracy: 0.8684\n",
      "Epoch 179/200\n",
      "2043/2043 [==============================] - 2s 1ms/step - loss: 0.2767 - binary_accuracy: 0.8580 - val_loss: 0.2570 - val_binary_accuracy: 0.8691\n",
      "Epoch 180/200\n",
      "2043/2043 [==============================] - 2s 1ms/step - loss: 0.2768 - binary_accuracy: 0.8572 - val_loss: 0.2607 - val_binary_accuracy: 0.8627\n",
      "Epoch 181/200\n",
      "2043/2043 [==============================] - 2s 1ms/step - loss: 0.2763 - binary_accuracy: 0.8575 - val_loss: 0.2629 - val_binary_accuracy: 0.8678\n",
      "Epoch 182/200\n",
      "2043/2043 [==============================] - 2s 1ms/step - loss: 0.2767 - binary_accuracy: 0.8574 - val_loss: 0.2594 - val_binary_accuracy: 0.8665\n",
      "Epoch 183/200\n",
      "2043/2043 [==============================] - 2s 1ms/step - loss: 0.2751 - binary_accuracy: 0.8583 - val_loss: 0.2603 - val_binary_accuracy: 0.8628\n",
      "Epoch 184/200\n",
      "2043/2043 [==============================] - 2s 1ms/step - loss: 0.2728 - binary_accuracy: 0.8595 - val_loss: 0.2866 - val_binary_accuracy: 0.8391\n",
      "Epoch 185/200\n",
      "2043/2043 [==============================] - 2s 1ms/step - loss: 0.2723 - binary_accuracy: 0.8597 - val_loss: 0.2581 - val_binary_accuracy: 0.8612\n",
      "Epoch 186/200\n",
      "2043/2043 [==============================] - 2s 1ms/step - loss: 0.2716 - binary_accuracy: 0.8602 - val_loss: 0.2571 - val_binary_accuracy: 0.8738\n",
      "Epoch 187/200\n",
      "2043/2043 [==============================] - 2s 1ms/step - loss: 0.2713 - binary_accuracy: 0.8598 - val_loss: 0.2567 - val_binary_accuracy: 0.8589\n",
      "Epoch 188/200\n",
      "2043/2043 [==============================] - 2s 1ms/step - loss: 0.2689 - binary_accuracy: 0.8610 - val_loss: 0.2519 - val_binary_accuracy: 0.8628\n",
      "Epoch 189/200\n",
      "2043/2043 [==============================] - 3s 1ms/step - loss: 0.2670 - binary_accuracy: 0.8629 - val_loss: 0.2516 - val_binary_accuracy: 0.8690\n",
      "Epoch 190/200\n",
      "2043/2043 [==============================] - 2s 1ms/step - loss: 0.2678 - binary_accuracy: 0.8620 - val_loss: 0.2553 - val_binary_accuracy: 0.8593\n",
      "Epoch 191/200\n",
      "2043/2043 [==============================] - 2s 1ms/step - loss: 0.2671 - binary_accuracy: 0.8614 - val_loss: 0.2586 - val_binary_accuracy: 0.8601\n",
      "Epoch 192/200\n",
      "2043/2043 [==============================] - 2s 1ms/step - loss: 0.2651 - binary_accuracy: 0.8637 - val_loss: 0.2533 - val_binary_accuracy: 0.8718\n",
      "Epoch 193/200\n",
      "2043/2043 [==============================] - 2s 1ms/step - loss: 0.2656 - binary_accuracy: 0.8632 - val_loss: 0.2707 - val_binary_accuracy: 0.8717\n",
      "Epoch 194/200\n",
      "2043/2043 [==============================] - 2s 1ms/step - loss: 0.2656 - binary_accuracy: 0.8632 - val_loss: 0.2567 - val_binary_accuracy: 0.8685\n",
      "Epoch 195/200\n",
      "2043/2043 [==============================] - 2s 1ms/step - loss: 0.2636 - binary_accuracy: 0.8647 - val_loss: 0.2544 - val_binary_accuracy: 0.8728\n",
      "Epoch 196/200\n",
      "2043/2043 [==============================] - 2s 1ms/step - loss: 0.2646 - binary_accuracy: 0.8639 - val_loss: 0.2563 - val_binary_accuracy: 0.8705\n",
      "Epoch 197/200\n",
      "2043/2043 [==============================] - 2s 1ms/step - loss: 0.2629 - binary_accuracy: 0.8641 - val_loss: 0.2417 - val_binary_accuracy: 0.8732\n",
      "Epoch 198/200\n",
      "2043/2043 [==============================] - 2s 1ms/step - loss: 0.2589 - binary_accuracy: 0.8664 - val_loss: 0.2519 - val_binary_accuracy: 0.8671\n",
      "Epoch 199/200\n",
      "2043/2043 [==============================] - 2s 1ms/step - loss: 0.2599 - binary_accuracy: 0.8653 - val_loss: 0.2508 - val_binary_accuracy: 0.8643\n",
      "Epoch 200/200\n",
      "2043/2043 [==============================] - 2s 1ms/step - loss: 0.2605 - binary_accuracy: 0.8673 - val_loss: 0.2562 - val_binary_accuracy: 0.8623\n"
     ]
    }
   ],
   "source": [
    "history = model.fit(train, validation_data=val, epochs=200)"
   ]
  },
  {
   "cell_type": "code",
   "execution_count": 16,
   "id": "35b77552",
   "metadata": {},
   "outputs": [],
   "source": [
    "history_dict = history.history"
   ]
  },
  {
   "cell_type": "code",
   "execution_count": 17,
   "id": "915e09fe",
   "metadata": {},
   "outputs": [
    {
     "data": {
      "text/plain": [
       "dict_keys(['loss', 'binary_accuracy', 'val_loss', 'val_binary_accuracy'])"
      ]
     },
     "execution_count": 17,
     "metadata": {},
     "output_type": "execute_result"
    }
   ],
   "source": [
    "history_dict.keys()"
   ]
  },
  {
   "cell_type": "code",
   "execution_count": 18,
   "id": "b9f8ca54",
   "metadata": {},
   "outputs": [
    {
     "data": {
      "image/png": "[encoded data removed]",
      "text/plain": [
       "<Figure size 500x500 with 1 Axes>"
      ]
     },
     "metadata": {},
     "output_type": "display_data"
    }
   ],
   "source": [
    "plt.figure(figsize=(5, 5))\n",
    "plt.plot(history_dict['loss'], label='Training Loss')\n",
    "plt.plot(history_dict['val_loss'], label='Validation Loss')\n",
    "plt.title('Training and Validation Loss')\n",
    "plt.xlabel('Epochs')\n",
    "plt.xscale('log')\n",
    "plt.ylabel('Loss')\n",
    "plt.legend()\n",
    "plt.show()"
   ]
  },
  {
   "cell_type": "code",
   "execution_count": 19,
   "id": "0f63411e",
   "metadata": {},
   "outputs": [
    {
     "data": {
      "image/png": "[encoded data removed]",
      "text/plain": [
       "<Figure size 500x500 with 1 Axes>"
      ]
     },
     "metadata": {},
     "output_type": "display_data"
    }
   ],
   "source": [
    "plt.figure(figsize=(5, 5))\n",
    "plt.plot(history_dict['binary_accuracy'], label='Training Accuracy')\n",
    "plt.plot(history_dict['val_binary_accuracy'], label='Validation Accuracy')\n",
    "plt.title('Training and Validation Accuracy')\n",
    "plt.xlabel('Epochs')\n",
    "plt.xscale('log')\n",
    "plt.ylabel('Accuracy')\n",
    "plt.legend()\n",
    "plt.show()"
   ]
  },
  {
   "cell_type": "code",
   "execution_count": 20,
   "id": "a5084eaa",
   "metadata": {},
   "outputs": [
    {
     "name": "stdout",
     "output_type": "stream",
     "text": [
      "256/256 [==============================] - 0s 621us/step - loss: 0.2568 - binary_accuracy: 0.8655\n",
      "Loss: 0.25678589940071106\n",
      "Accuracy: 0.865546703338623\n"
     ]
    }
   ],
   "source": [
    "loss, accuracy = model.evaluate(test)\n",
    "print('Loss:', loss)\n",
    "print('Accuracy:', accuracy)"
   ]
  },
  {
   "cell_type": "code",
   "execution_count": 47,
   "id": "ae014f9d",
   "metadata": {},
   "outputs": [],
   "source": [
    "# Save the model\n",
    "export_model = tf.keras.Sequential([\n",
    "    model,\n",
    "    tf.keras.layers.Activation('sigmoid')\n",
    "])"
   ]
  },
  {
   "cell_type": "code",
   "execution_count": 59,
   "id": "4972a082",
   "metadata": {},
   "outputs": [
    {
     "name": "stdout",
     "output_type": "stream",
     "text": [
      "1/1 [==============================] - 0s 18ms/step\n",
      "Win\n"
     ]
    }
   ],
   "source": [
    "game = 'Aatrox,Nidalee,Velkoz,Jhin,Nautilus,Darius,Nocturne,Zoe,Draven,Shaco,true'\n",
    "vec = process_match(game)[:-1]\n",
    "out = export_model.predict([vec])\n",
    "if out > 0.5:\n",
    "    print('Win')\n",
    "else:\n",
    "    print('Loss')"
   ]
  },
  {
   "cell_type": "code",
   "execution_count": 36,
   "id": "583ff84d",
   "metadata": {},
   "outputs": [
    {
     "name": "stdout",
     "output_type": "stream",
     "text": [
      "WARNING:tensorflow:Compiled the loaded model, but the compiled metrics have yet to be built. `model.compile_metrics` will be empty until you train or evaluate the model.\n"
     ]
    }
   ],
   "source": [
    "tfjs.converters.save_keras_model(export_model, 'winpredictor/public/models/master')"
   ]
  }
 ],
 "metadata": {
  "kernelspec": {
   "display_name": "Python 3 (ipykernel)",
   "language": "python",
   "name": "python3"
  },
  "language_info": {
   "codemirror_mode": {
    "name": "ipython",
    "version": 3
   },
   "file_extension": ".py",
   "mimetype": "text/x-python",
   "name": "python",
   "nbconvert_exporter": "python",
   "pygments_lexer": "ipython3",
   "version": "3.10.9"
  }
 },
 "nbformat": 4,
 "nbformat_minor": 5
}
